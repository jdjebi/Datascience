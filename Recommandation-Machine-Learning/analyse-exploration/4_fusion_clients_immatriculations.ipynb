{
 "cells": [
  {
   "cell_type": "markdown",
   "id": "b19f74f6-3b51-4043-824b-0b068b41d282",
   "metadata": {},
   "source": [
    "# Préparation des données pour la classification des vehicules des clients à l'aide des fichiers clients et des immatriculations"
   ]
  },
  {
   "cell_type": "markdown",
   "id": "31d73a2b-2536-4ed0-8668-9b092a614d61",
   "metadata": {},
   "source": [
    "L'objectif est de : \n",
    "- Fusionner les données des clients avec ceux de l'immatriculation obtenu lors du clustering\n",
    "- Préparer les données pour entrainer le modèle de recommandation de vehicules et faire une analyse exploratoire sur les données issus de la fusion entre les clients et les immatriculations"
   ]
  },
  {
   "cell_type": "markdown",
   "id": "b9e01a12-177f-4781-a75c-77d6029ad9f3",
   "metadata": {
    "tags": []
   },
   "source": [
    "**Expliquer la méthodologie**"
   ]
  },
  {
   "cell_type": "code",
   "execution_count": 2,
   "id": "6cbf727f-8312-4df9-a428-eaee533478d2",
   "metadata": {
    "id": "6cbf727f-8312-4df9-a428-eaee533478d2",
    "tags": []
   },
   "outputs": [],
   "source": [
    "import pickle\n",
    "import pandas as pd\n",
    "import numpy as np\n",
    "import matplotlib.pyplot as plt \n",
    "import seaborn as sns\n",
    "import warnings\n",
    "import matplotlib.cm as cm\n",
    "import plotly.express as px\n",
    "from scipy.spatial import ConvexHull\n",
    "from matplotlib.lines import Line2D"
   ]
  },
  {
   "cell_type": "markdown",
   "id": "b09b89df-ae0b-4539-a8b8-aad28d4a1a5a",
   "metadata": {
    "tags": []
   },
   "source": [
    "### Chargement des données"
   ]
  },
  {
   "cell_type": "code",
   "execution_count": 3,
   "id": "f40c5262-08e7-4b3c-a972-3046385797af",
   "metadata": {
    "tags": []
   },
   "outputs": [
    {
     "data": {
      "text/html": [
       "<div>\n",
       "<style scoped>\n",
       "    .dataframe tbody tr th:only-of-type {\n",
       "        vertical-align: middle;\n",
       "    }\n",
       "\n",
       "    .dataframe tbody tr th {\n",
       "        vertical-align: top;\n",
       "    }\n",
       "\n",
       "    .dataframe thead th {\n",
       "        text-align: right;\n",
       "    }\n",
       "</style>\n",
       "<table border=\"1\" class=\"dataframe\">\n",
       "  <thead>\n",
       "    <tr style=\"text-align: right;\">\n",
       "      <th></th>\n",
       "      <th>age</th>\n",
       "      <th>sexe</th>\n",
       "      <th>taux</th>\n",
       "      <th>situationFamiliale</th>\n",
       "      <th>nbEnfantsAcharge</th>\n",
       "      <th>2eme voiture</th>\n",
       "      <th>immatriculation</th>\n",
       "    </tr>\n",
       "  </thead>\n",
       "  <tbody>\n",
       "    <tr>\n",
       "      <th>0</th>\n",
       "      <td>49</td>\n",
       "      <td>F</td>\n",
       "      <td>914</td>\n",
       "      <td>En Couple</td>\n",
       "      <td>1</td>\n",
       "      <td>false</td>\n",
       "      <td>2170 DJ 60</td>\n",
       "    </tr>\n",
       "    <tr>\n",
       "      <th>1</th>\n",
       "      <td>18</td>\n",
       "      <td>M</td>\n",
       "      <td>563</td>\n",
       "      <td>En Couple</td>\n",
       "      <td>4</td>\n",
       "      <td>false</td>\n",
       "      <td>8132 RT 49</td>\n",
       "    </tr>\n",
       "    <tr>\n",
       "      <th>2</th>\n",
       "      <td>82</td>\n",
       "      <td>M</td>\n",
       "      <td>417</td>\n",
       "      <td>Célibataire</td>\n",
       "      <td>0</td>\n",
       "      <td>false</td>\n",
       "      <td>4764 CE 84</td>\n",
       "    </tr>\n",
       "    <tr>\n",
       "      <th>3</th>\n",
       "      <td>72</td>\n",
       "      <td>M</td>\n",
       "      <td>442</td>\n",
       "      <td>En Couple</td>\n",
       "      <td>4</td>\n",
       "      <td>false</td>\n",
       "      <td>6239 YO 57</td>\n",
       "    </tr>\n",
       "    <tr>\n",
       "      <th>4</th>\n",
       "      <td>41</td>\n",
       "      <td>M</td>\n",
       "      <td>592</td>\n",
       "      <td>Célibataire</td>\n",
       "      <td>0</td>\n",
       "      <td>false</td>\n",
       "      <td>9318 FD 10</td>\n",
       "    </tr>\n",
       "  </tbody>\n",
       "</table>\n",
       "</div>"
      ],
      "text/plain": [
       "  age sexe taux situationFamiliale nbEnfantsAcharge 2eme voiture  \\\n",
       "0  49    F  914          En Couple                1        false   \n",
       "1  18    M  563          En Couple                4        false   \n",
       "2  82    M  417        Célibataire                0        false   \n",
       "3  72    M  442          En Couple                4        false   \n",
       "4  41    M  592        Célibataire                0        false   \n",
       "\n",
       "  immatriculation  \n",
       "0      2170 DJ 60  \n",
       "1      8132 RT 49  \n",
       "2      4764 CE 84  \n",
       "3      6239 YO 57  \n",
       "4      9318 FD 10  "
      ]
     },
     "execution_count": 3,
     "metadata": {},
     "output_type": "execute_result"
    }
   ],
   "source": [
    "# Données des clients\n",
    "clients_51 = pd.read_csv(\"data/Clients_51.csv\", encoding='latin-1')\n",
    "clients_52 = pd.read_csv(\"data/Clients_52.csv\", encoding='latin-1')\n",
    "clients_5 = pd.concat([clients_51, clients_52])\n",
    "clients_5.head(5)"
   ]
  },
  {
   "cell_type": "code",
   "execution_count": 6,
   "id": "71a538bf-f494-43c4-9e7b-59ff1e1a861d",
   "metadata": {
    "tags": []
   },
   "outputs": [
    {
     "data": {
      "text/plain": [
       "(200000, 7)"
      ]
     },
     "execution_count": 6,
     "metadata": {},
     "output_type": "execute_result"
    }
   ],
   "source": [
    "clients_5.shape"
   ]
  },
  {
   "cell_type": "code",
   "execution_count": 7,
   "id": "f4ee0069-ae1c-4a11-8315-80a8948f2739",
   "metadata": {
    "tags": []
   },
   "outputs": [],
   "source": [
    "# Renommage de la colonne 2eme voiture\n",
    "clients_5.rename(columns={\"2eme voiture\" : \"2emevoiture\"}, inplace=True)"
   ]
  },
  {
   "cell_type": "code",
   "execution_count": 8,
   "id": "9f0f30f2-b71f-480f-b719-c2881b16b3f1",
   "metadata": {
    "tags": []
   },
   "outputs": [
    {
     "data": {
      "text/html": [
       "<div>\n",
       "<style scoped>\n",
       "    .dataframe tbody tr th:only-of-type {\n",
       "        vertical-align: middle;\n",
       "    }\n",
       "\n",
       "    .dataframe tbody tr th {\n",
       "        vertical-align: top;\n",
       "    }\n",
       "\n",
       "    .dataframe thead th {\n",
       "        text-align: right;\n",
       "    }\n",
       "</style>\n",
       "<table border=\"1\" class=\"dataframe\">\n",
       "  <thead>\n",
       "    <tr style=\"text-align: right;\">\n",
       "      <th></th>\n",
       "      <th>immatriculation</th>\n",
       "      <th>marque</th>\n",
       "      <th>nom</th>\n",
       "      <th>puissance</th>\n",
       "      <th>longueur</th>\n",
       "      <th>nbPlaces</th>\n",
       "      <th>nbPortes</th>\n",
       "      <th>couleur</th>\n",
       "      <th>occasion</th>\n",
       "      <th>prix</th>\n",
       "      <th>categorie_label</th>\n",
       "      <th>categorie</th>\n",
       "    </tr>\n",
       "  </thead>\n",
       "  <tbody>\n",
       "    <tr>\n",
       "      <th>0</th>\n",
       "      <td>3176 TS 67</td>\n",
       "      <td>Renault</td>\n",
       "      <td>Laguna 2.0T</td>\n",
       "      <td>170</td>\n",
       "      <td>longue</td>\n",
       "      <td>5</td>\n",
       "      <td>5</td>\n",
       "      <td>blanc</td>\n",
       "      <td>False</td>\n",
       "      <td>27300</td>\n",
       "      <td>4</td>\n",
       "      <td>Moyen</td>\n",
       "    </tr>\n",
       "    <tr>\n",
       "      <th>1</th>\n",
       "      <td>3721 QS 49</td>\n",
       "      <td>Volvo</td>\n",
       "      <td>S80 T6</td>\n",
       "      <td>272</td>\n",
       "      <td>très longue</td>\n",
       "      <td>5</td>\n",
       "      <td>5</td>\n",
       "      <td>noir</td>\n",
       "      <td>False</td>\n",
       "      <td>50500</td>\n",
       "      <td>2</td>\n",
       "      <td>Familliale</td>\n",
       "    </tr>\n",
       "    <tr>\n",
       "      <th>2</th>\n",
       "      <td>9099 UV 26</td>\n",
       "      <td>Volkswagen</td>\n",
       "      <td>Golf 2.0 FSI</td>\n",
       "      <td>150</td>\n",
       "      <td>moyenne</td>\n",
       "      <td>5</td>\n",
       "      <td>5</td>\n",
       "      <td>gris</td>\n",
       "      <td>True</td>\n",
       "      <td>16029</td>\n",
       "      <td>3</td>\n",
       "      <td>Economique</td>\n",
       "    </tr>\n",
       "    <tr>\n",
       "      <th>3</th>\n",
       "      <td>3563 LA 55</td>\n",
       "      <td>Peugeot</td>\n",
       "      <td>1007 1.4</td>\n",
       "      <td>75</td>\n",
       "      <td>courte</td>\n",
       "      <td>5</td>\n",
       "      <td>5</td>\n",
       "      <td>blanc</td>\n",
       "      <td>True</td>\n",
       "      <td>9625</td>\n",
       "      <td>0</td>\n",
       "      <td>Citadine</td>\n",
       "    </tr>\n",
       "    <tr>\n",
       "      <th>4</th>\n",
       "      <td>6963 AX 34</td>\n",
       "      <td>Audi</td>\n",
       "      <td>A2 1.4</td>\n",
       "      <td>75</td>\n",
       "      <td>courte</td>\n",
       "      <td>5</td>\n",
       "      <td>5</td>\n",
       "      <td>gris</td>\n",
       "      <td>False</td>\n",
       "      <td>18310</td>\n",
       "      <td>3</td>\n",
       "      <td>Economique</td>\n",
       "    </tr>\n",
       "  </tbody>\n",
       "</table>\n",
       "</div>"
      ],
      "text/plain": [
       "  immatriculation      marque           nom  puissance     longueur  nbPlaces  \\\n",
       "0      3176 TS 67     Renault   Laguna 2.0T        170       longue         5   \n",
       "1      3721 QS 49       Volvo        S80 T6        272  très longue         5   \n",
       "2      9099 UV 26  Volkswagen  Golf 2.0 FSI        150      moyenne         5   \n",
       "3      3563 LA 55     Peugeot      1007 1.4         75       courte         5   \n",
       "4      6963 AX 34        Audi        A2 1.4         75       courte         5   \n",
       "\n",
       "   nbPortes couleur  occasion   prix  categorie_label   categorie  \n",
       "0         5   blanc     False  27300                4       Moyen  \n",
       "1         5    noir     False  50500                2  Familliale  \n",
       "2         5    gris      True  16029                3  Economique  \n",
       "3         5   blanc      True   9625                0    Citadine  \n",
       "4         5    gris     False  18310                3  Economique  "
      ]
     },
     "execution_count": 8,
     "metadata": {},
     "output_type": "execute_result"
    }
   ],
   "source": [
    "# Données d'immatriculations\n",
    "immatriculations:pd.DataFrame = None\n",
    "with open(\"data_processed/clustering_immatriculations_categoriser_kmeans.pkl\",\"rb\") as f1:\n",
    "    immatriculations = pickle.load(f1)\n",
    "immatriculations.head(5)"
   ]
  },
  {
   "cell_type": "markdown",
   "id": "GMTbHfpY4rLY",
   "metadata": {
    "id": "GMTbHfpY4rLY"
   },
   "source": [
    "### Préparation des données des clients"
   ]
  },
  {
   "cell_type": "code",
   "execution_count": 9,
   "id": "19a5790d-67b5-433e-ac4d-61647f5c10ea",
   "metadata": {
    "tags": []
   },
   "outputs": [],
   "source": [
    "clients_data = clients_5.copy()"
   ]
  },
  {
   "cell_type": "markdown",
   "id": "ezr6T4rVLYbn",
   "metadata": {
    "id": "ezr6T4rVLYbn"
   },
   "source": [
    "### Détection des valeurs manquantes"
   ]
  },
  {
   "cell_type": "code",
   "execution_count": 10,
   "id": "siZQdS52LLA_",
   "metadata": {
    "colab": {
     "base_uri": "https://localhost:8080/"
    },
    "id": "siZQdS52LLA_",
    "outputId": "718894dd-8ecc-4c33-80f5-8e5a64ffb725",
    "tags": []
   },
   "outputs": [
    {
     "data": {
      "text/plain": [
       "age                   0\n",
       "sexe                  0\n",
       "taux                  0\n",
       "situationFamiliale    0\n",
       "nbEnfantsAcharge      0\n",
       "2emevoiture           0\n",
       "immatriculation       0\n",
       "dtype: int64"
      ]
     },
     "execution_count": 10,
     "metadata": {},
     "output_type": "execute_result"
    }
   ],
   "source": [
    "clients_data.isnull().sum()"
   ]
  },
  {
   "cell_type": "markdown",
   "id": "D0clnneLLoxL",
   "metadata": {
    "id": "D0clnneLLoxL"
   },
   "source": [
    "Il n'y a pas de valeurs manquantes a priori"
   ]
  },
  {
   "cell_type": "markdown",
   "id": "32982567-ee0d-424e-b8bd-fc9f158633cc",
   "metadata": {
    "tags": []
   },
   "source": [
    "**Faire les liste des problèmes du jeu de données**. Faire un tableau résumant les problèmes | Méthodologie : Identifié les problèmes et les corriger"
   ]
  },
  {
   "cell_type": "code",
   "execution_count": 11,
   "id": "MHEyuBxELs6V",
   "metadata": {
    "colab": {
     "base_uri": "https://localhost:8080/"
    },
    "id": "MHEyuBxELs6V",
    "outputId": "188a0f54-6934-4b45-d54b-025e032c7afa",
    "tags": []
   },
   "outputs": [
    {
     "data": {
      "text/plain": [
       "age                   object\n",
       "sexe                  object\n",
       "taux                  object\n",
       "situationFamiliale    object\n",
       "nbEnfantsAcharge      object\n",
       "2emevoiture           object\n",
       "immatriculation       object\n",
       "dtype: object"
      ]
     },
     "execution_count": 11,
     "metadata": {},
     "output_type": "execute_result"
    }
   ],
   "source": [
    "clients_data.dtypes"
   ]
  },
  {
   "cell_type": "markdown",
   "id": "Uc2WYSsmL2hT",
   "metadata": {
    "id": "Uc2WYSsmL2hT"
   },
   "source": [
    "* Age est de type object alors qu'il doit être de type numérique\n",
    "* Taux est de type object alors qu'il doit être de type numérique\n",
    "* Nombre d'enfant est de type object alors qu'il doit être de type numérique\n",
    "* 2ème véhicule est de type object alors qu'il doit être de type booléen"
   ]
  },
  {
   "cell_type": "markdown",
   "id": "S9sD4_Q2TGph",
   "metadata": {
    "id": "S9sD4_Q2TGph"
   },
   "source": [
    "Correction des types"
   ]
  },
  {
   "cell_type": "code",
   "execution_count": 12,
   "id": "sb_W95FyVq2N",
   "metadata": {
    "id": "sb_W95FyVq2N",
    "tags": []
   },
   "outputs": [],
   "source": [
    "clients_data.age = pd.to_numeric(clients_data.age, errors=\"coerce\")\n",
    "clients_data.taux = pd.to_numeric(clients_data.taux, errors=\"coerce\")\n",
    "clients_data.nbEnfantsAcharge = pd.to_numeric(clients_data.nbEnfantsAcharge, errors=\"coerce\")"
   ]
  },
  {
   "cell_type": "code",
   "execution_count": 13,
   "id": "Q5ka1FcwUwRX",
   "metadata": {
    "colab": {
     "base_uri": "https://localhost:8080/",
     "height": 468
    },
    "id": "Q5ka1FcwUwRX",
    "outputId": "aa42def1-4a1b-43d4-d918-d3455bf66892",
    "tags": []
   },
   "outputs": [
    {
     "data": {
      "text/plain": [
       "age                   float64\n",
       "sexe                   object\n",
       "taux                  float64\n",
       "situationFamiliale     object\n",
       "nbEnfantsAcharge      float64\n",
       "2emevoiture            object\n",
       "immatriculation        object\n",
       "dtype: object"
      ]
     },
     "metadata": {},
     "output_type": "display_data"
    },
    {
     "name": "stdout",
     "output_type": "stream",
     "text": [
      "__________________________________________________\n"
     ]
    },
    {
     "data": {
      "text/plain": [
       "age                   388\n",
       "sexe                    0\n",
       "taux                  417\n",
       "situationFamiliale      0\n",
       "nbEnfantsAcharge      401\n",
       "2emevoiture             0\n",
       "immatriculation         0\n",
       "dtype: int64"
      ]
     },
     "metadata": {},
     "output_type": "display_data"
    },
    {
     "name": "stdout",
     "output_type": "stream",
     "text": [
      "__________________________________________________\n"
     ]
    },
    {
     "data": {
      "text/plain": [
       "age                     0\n",
       "sexe                  586\n",
       "taux                    0\n",
       "situationFamiliale    632\n",
       "nbEnfantsAcharge        0\n",
       "2emevoiture           386\n",
       "immatriculation         0\n",
       "dtype: int64"
      ]
     },
     "execution_count": 13,
     "metadata": {},
     "output_type": "execute_result"
    }
   ],
   "source": [
    "display(clients_data.dtypes)\n",
    "print(\"_\"*50)\n",
    "display(clients_data.isnull().sum())\n",
    "print(\"_\"*50)\n",
    "clients_data.isin([\" \", \"?\", \"N/D\", \"-1\"]).sum()"
   ]
  },
  {
   "cell_type": "markdown",
   "id": "6B3BwgHrTpCK",
   "metadata": {
    "id": "6B3BwgHrTpCK"
   },
   "source": [
    "On observe des valeurs, nulles, non attendues et des types incorrectes"
   ]
  },
  {
   "cell_type": "markdown",
   "id": "9a4e5da9-fbc3-4196-9cc5-3e7dc519fc5f",
   "metadata": {
    "tags": []
   },
   "source": [
    "**Remplacement des valeurs bizarres par Nan**"
   ]
  },
  {
   "cell_type": "code",
   "execution_count": 14,
   "id": "uDKGgrYNSUIh",
   "metadata": {
    "id": "uDKGgrYNSUIh",
    "tags": []
   },
   "outputs": [],
   "source": [
    "# Remplacement des valeurs inatendue par nan\n",
    "clients_data.replace([\" \", \"?\", \"N/D\", \"-1\",-1],np.nan,inplace=True)"
   ]
  },
  {
   "cell_type": "code",
   "execution_count": 15,
   "id": "2h4Z7zk1Sy54",
   "metadata": {
    "colab": {
     "base_uri": "https://localhost:8080/"
    },
    "id": "2h4Z7zk1Sy54",
    "outputId": "4d3b1579-e635-4f1e-ffcf-921dd8e8c397",
    "tags": []
   },
   "outputs": [
    {
     "data": {
      "text/plain": [
       "age                   569\n",
       "sexe                  586\n",
       "taux                  641\n",
       "situationFamiliale    632\n",
       "nbEnfantsAcharge      604\n",
       "2emevoiture           386\n",
       "immatriculation         0\n",
       "dtype: int64"
      ]
     },
     "execution_count": 15,
     "metadata": {},
     "output_type": "execute_result"
    }
   ],
   "source": [
    "clients_data.isnull().sum()"
   ]
  },
  {
   "cell_type": "markdown",
   "id": "5CRNZ_S3dE7Z",
   "metadata": {
    "id": "5CRNZ_S3dE7Z",
    "tags": []
   },
   "source": [
    "### Nettoyage des données"
   ]
  },
  {
   "cell_type": "markdown",
   "id": "ebf2419a-5dd4-46d5-a05a-6ef76000da59",
   "metadata": {},
   "source": [
    "**Domaine de valeur incorrecte**"
   ]
  },
  {
   "cell_type": "markdown",
   "id": "6f421bb7-0b0a-4678-a3fc-eea0fc3580e7",
   "metadata": {},
   "source": [
    "**Sexe**"
   ]
  },
  {
   "cell_type": "code",
   "execution_count": 16,
   "id": "ZypbNf4TDPuH",
   "metadata": {
    "colab": {
     "base_uri": "https://localhost:8080/"
    },
    "id": "ZypbNf4TDPuH",
    "outputId": "bea76f45-6dbc-4c7a-9850-3e9c5b63e4b8",
    "tags": []
   },
   "outputs": [
    {
     "data": {
      "text/plain": [
       "M           136690\n",
       "F            58772\n",
       "Masculin      1378\n",
       "Homme         1332\n",
       "Femme          651\n",
       "Féminin        591\n",
       "Name: sexe, dtype: int64"
      ]
     },
     "execution_count": 16,
     "metadata": {},
     "output_type": "execute_result"
    }
   ],
   "source": [
    "clients_data.sexe.value_counts()"
   ]
  },
  {
   "cell_type": "code",
   "execution_count": 17,
   "id": "semNsSGfEbzL",
   "metadata": {
    "id": "semNsSGfEbzL",
    "tags": []
   },
   "outputs": [
    {
     "data": {
      "text/plain": [
       "M    139400\n",
       "F     60014\n",
       "Name: sexe, dtype: int64"
      ]
     },
     "execution_count": 17,
     "metadata": {},
     "output_type": "execute_result"
    }
   ],
   "source": [
    "clients_data[\"sexe\"] = sexe_vals = clients_data.sexe.map({\n",
    "    \"Masculin\":\"M\",\n",
    "    \"Homme\":\"M\",\n",
    "    \"Femme\":\"F\",\n",
    "    \"Féminin\":\"F\",\n",
    "    \"M\":\"M\",\n",
    "    \"F\":\"F\"\n",
    "})\n",
    "clients_data.sexe.value_counts()"
   ]
  },
  {
   "cell_type": "markdown",
   "id": "c353d5f1-11f1-414c-aa4c-c872eb9a33e4",
   "metadata": {},
   "source": [
    "**2emevoiture**"
   ]
  },
  {
   "cell_type": "code",
   "execution_count": 18,
   "id": "q5IWfZNGMcPf",
   "metadata": {
    "colab": {
     "base_uri": "https://localhost:8080/"
    },
    "id": "q5IWfZNGMcPf",
    "outputId": "fe725d11-fcaf-4297-e9d5-4b2f23b603ff",
    "tags": []
   },
   "outputs": [
    {
     "data": {
      "text/plain": [
       "false    173756\n",
       "true      25858\n",
       "Name: 2emevoiture, dtype: int64"
      ]
     },
     "execution_count": 18,
     "metadata": {},
     "output_type": "execute_result"
    }
   ],
   "source": [
    "clients_data[\"2emevoiture\"].value_counts()"
   ]
  },
  {
   "cell_type": "code",
   "execution_count": 19,
   "id": "CoqZKc0vM7qZ",
   "metadata": {
    "id": "CoqZKc0vM7qZ",
    "tags": []
   },
   "outputs": [
    {
     "data": {
      "text/plain": [
       "False    173756\n",
       "True      25858\n",
       "Name: 2emevoiture, dtype: int64"
      ]
     },
     "execution_count": 19,
     "metadata": {},
     "output_type": "execute_result"
    }
   ],
   "source": [
    "clients_data[\"2emevoiture\"] = clients_data[\"2emevoiture\"].map({\n",
    "    \"true\":True,\n",
    "    \"false\":False\n",
    "})\n",
    "clients_data[\"2emevoiture\"].value_counts()"
   ]
  },
  {
   "cell_type": "markdown",
   "id": "2StTnZYVcs7z",
   "metadata": {
    "id": "2StTnZYVcs7z"
   },
   "source": [
    "**Situation familiale**"
   ]
  },
  {
   "cell_type": "markdown",
   "id": "04767526-75bc-45d7-82e8-e54c548648eb",
   "metadata": {
    "tags": []
   },
   "source": [
    "**Correction du domaine de valeurs**"
   ]
  },
  {
   "cell_type": "code",
   "execution_count": 20,
   "id": "mRFIxiSgcrdj",
   "metadata": {
    "colab": {
     "base_uri": "https://localhost:8080/"
    },
    "id": "mRFIxiSgcrdj",
    "outputId": "d1b7c5f3-da70-49da-c684-dac354acf4a6",
    "tags": []
   },
   "outputs": [
    {
     "data": {
      "text/plain": [
       "En Couple      128121\n",
       "Célibataire     59415\n",
       "Seule            9825\n",
       "Marié(e)         1317\n",
       "Seul              588\n",
       "Divorcée          102\n",
       "Name: situationFamiliale, dtype: int64"
      ]
     },
     "execution_count": 20,
     "metadata": {},
     "output_type": "execute_result"
    }
   ],
   "source": [
    "clients_data.situationFamiliale.value_counts()"
   ]
  },
  {
   "cell_type": "code",
   "execution_count": 21,
   "id": "CmrQR-dKcrdi",
   "metadata": {
    "id": "CmrQR-dKcrdi",
    "tags": []
   },
   "outputs": [
    {
     "data": {
      "text/plain": [
       "En Couple      129438\n",
       "Célibataire     69930\n",
       "Name: situationFamiliale, dtype: int64"
      ]
     },
     "execution_count": 21,
     "metadata": {},
     "output_type": "execute_result"
    }
   ],
   "source": [
    "clients_data.situationFamiliale = clients_data.situationFamiliale.map({\n",
    "    \"En Couple\": \"En Couple\", \n",
    "    \"Célibataire\": \"Célibataire\",\n",
    "    \"Seule\" : \"Célibataire\", \n",
    "    \"Marié(e)\" : \"En Couple\", \n",
    "    \"Seul\" : \"Célibataire\",\n",
    "    \"Divorcée\": \"Célibataire\"\n",
    "})\n",
    "clients_data.situationFamiliale.value_counts()"
   ]
  },
  {
   "cell_type": "markdown",
   "id": "cR3OD92nPKRP",
   "metadata": {
    "id": "cR3OD92nPKRP"
   },
   "source": [
    "###### **Bilan des valeurs manquantes**"
   ]
  },
  {
   "cell_type": "markdown",
   "id": "KRKip8CIcVDL",
   "metadata": {
    "id": "KRKip8CIcVDL"
   },
   "source": [
    "Pourcentage des lignes manquantes."
   ]
  },
  {
   "cell_type": "code",
   "execution_count": 22,
   "id": "y_BNgp2WNJ1x",
   "metadata": {
    "colab": {
     "base_uri": "https://localhost:8080/"
    },
    "id": "y_BNgp2WNJ1x",
    "outputId": "ccace284-e4ee-4025-e39b-abe6f7522b89",
    "tags": []
   },
   "outputs": [
    {
     "data": {
      "text/plain": [
       "age                   0.2845\n",
       "sexe                  0.2930\n",
       "taux                  0.3205\n",
       "situationFamiliale    0.3160\n",
       "nbEnfantsAcharge      0.3020\n",
       "2emevoiture           0.1930\n",
       "immatriculation       0.0000\n",
       "dtype: float64"
      ]
     },
     "execution_count": 22,
     "metadata": {},
     "output_type": "execute_result"
    }
   ],
   "source": [
    "(clients_data.isnull().sum() / clients_data.shape[0]) * 100"
   ]
  },
  {
   "cell_type": "code",
   "execution_count": 23,
   "id": "O8dkyH-gd9Fg",
   "metadata": {
    "colab": {
     "base_uri": "https://localhost:8080/"
    },
    "id": "O8dkyH-gd9Fg",
    "outputId": "a5f57d16-69fe-490c-947c-d968392adb63",
    "tags": []
   },
   "outputs": [
    {
     "data": {
      "text/plain": [
       "3396"
      ]
     },
     "execution_count": 23,
     "metadata": {},
     "output_type": "execute_result"
    }
   ],
   "source": [
    "# Nombre de lignes avec valeurs manquantes\n",
    "nbr_miss_line = clients_data[clients_data.isna().any(axis=1)].shape[0]\n",
    "nbr_miss_line"
   ]
  },
  {
   "cell_type": "code",
   "execution_count": 24,
   "id": "224e6318-3e34-40ba-98fb-c7516a3443b3",
   "metadata": {
    "tags": []
   },
   "outputs": [
    {
     "name": "stdout",
     "output_type": "stream",
     "text": [
      "Le taux de lignes manquantes est : 1.698\n"
     ]
    }
   ],
   "source": [
    "x = (nbr_miss_line/clients_data.shape[0]) * 100\n",
    "print(\"Le taux de lignes manquantes est :\",x)"
   ]
  },
  {
   "cell_type": "markdown",
   "id": "50ef9a6d-ef16-4411-9a00-3cf9592f2509",
   "metadata": {},
   "source": [
    "La taux de valeurs manquantes est de 1.698 ce qui presente une faible partie de l'ensemble de données."
   ]
  },
  {
   "cell_type": "markdown",
   "id": "P3PVeMsidvEm",
   "metadata": {
    "id": "P3PVeMsidvEm"
   },
   "source": [
    "**Conclusion**\n",
    "\n",
    "Le valeurs manquantes étant peu nombreuses par rapport à l'ensemble de données on peut se permettre de les supprimer. **(Préciser que le taux de valeur manquante est trop peu par rapport a l'ensemble de données, on peut se permettre de les supprimer)**"
   ]
  },
  {
   "cell_type": "code",
   "execution_count": 25,
   "id": "qpfhT-KIc-y-",
   "metadata": {
    "id": "qpfhT-KIc-y-",
    "tags": []
   },
   "outputs": [
    {
     "data": {
      "text/plain": [
       "age                   0\n",
       "sexe                  0\n",
       "taux                  0\n",
       "situationFamiliale    0\n",
       "nbEnfantsAcharge      0\n",
       "2emevoiture           0\n",
       "immatriculation       0\n",
       "dtype: int64"
      ]
     },
     "execution_count": 25,
     "metadata": {},
     "output_type": "execute_result"
    }
   ],
   "source": [
    "clients_data2 = clients_data.copy()\n",
    "clients_data2.dropna(inplace=True)\n",
    "clients_data2.isnull().sum()"
   ]
  },
  {
   "cell_type": "markdown",
   "id": "cba58b70-4169-4293-aeb6-859e447349c7",
   "metadata": {
    "tags": []
   },
   "source": [
    "**Ajustement des types**"
   ]
  },
  {
   "cell_type": "code",
   "execution_count": 26,
   "id": "80e1c5a7-4c1f-4978-a5e8-48d347fd45c2",
   "metadata": {
    "tags": []
   },
   "outputs": [
    {
     "data": {
      "text/plain": [
       "age                   float64\n",
       "sexe                   object\n",
       "taux                  float64\n",
       "situationFamiliale     object\n",
       "nbEnfantsAcharge      float64\n",
       "2emevoiture            object\n",
       "immatriculation        object\n",
       "dtype: object"
      ]
     },
     "execution_count": 26,
     "metadata": {},
     "output_type": "execute_result"
    }
   ],
   "source": [
    "clients_data2.dtypes"
   ]
  },
  {
   "cell_type": "code",
   "execution_count": 27,
   "id": "168d3fd0-d8b2-4e40-b912-05a5c4933b92",
   "metadata": {
    "tags": []
   },
   "outputs": [],
   "source": [
    "clients_data2[\"age\"] = clients_data2[\"age\"].astype(np.int64)\n",
    "clients_data2[\"2emevoiture\"] = clients_data2[\"2emevoiture\"].astype(bool)\n",
    "clients_data2[\"nbEnfantsAcharge\"] = clients_data2[\"nbEnfantsAcharge\"].astype(np.int64)\n",
    "clients_data2[\"taux\"] = clients_data2[\"taux\"].astype(np.int64)"
   ]
  },
  {
   "cell_type": "code",
   "execution_count": 24,
   "id": "eb85a806-32ac-4dd3-abe8-eec9137a9ae9",
   "metadata": {
    "tags": []
   },
   "outputs": [
    {
     "data": {
      "text/plain": [
       "age                    int64\n",
       "sexe                  object\n",
       "taux                   int64\n",
       "situationFamiliale    object\n",
       "nbEnfantsAcharge       int64\n",
       "2emevoiture             bool\n",
       "immatriculation       object\n",
       "dtype: object"
      ]
     },
     "execution_count": 24,
     "metadata": {},
     "output_type": "execute_result"
    }
   ],
   "source": [
    "clients_data2.dtypes"
   ]
  },
  {
   "cell_type": "code",
   "execution_count": 28,
   "id": "6fec9cb3-0889-45c9-8e13-1ca0fe9ddb01",
   "metadata": {
    "tags": []
   },
   "outputs": [
    {
     "data": {
      "text/html": [
       "<div>\n",
       "<style scoped>\n",
       "    .dataframe tbody tr th:only-of-type {\n",
       "        vertical-align: middle;\n",
       "    }\n",
       "\n",
       "    .dataframe tbody tr th {\n",
       "        vertical-align: top;\n",
       "    }\n",
       "\n",
       "    .dataframe thead th {\n",
       "        text-align: right;\n",
       "    }\n",
       "</style>\n",
       "<table border=\"1\" class=\"dataframe\">\n",
       "  <thead>\n",
       "    <tr style=\"text-align: right;\">\n",
       "      <th></th>\n",
       "      <th>age</th>\n",
       "      <th>sexe</th>\n",
       "      <th>taux</th>\n",
       "      <th>situationFamiliale</th>\n",
       "      <th>nbEnfantsAcharge</th>\n",
       "      <th>2emevoiture</th>\n",
       "      <th>immatriculation</th>\n",
       "    </tr>\n",
       "  </thead>\n",
       "  <tbody>\n",
       "    <tr>\n",
       "      <th>0</th>\n",
       "      <td>49</td>\n",
       "      <td>F</td>\n",
       "      <td>914</td>\n",
       "      <td>En Couple</td>\n",
       "      <td>1</td>\n",
       "      <td>False</td>\n",
       "      <td>2170 DJ 60</td>\n",
       "    </tr>\n",
       "    <tr>\n",
       "      <th>1</th>\n",
       "      <td>18</td>\n",
       "      <td>M</td>\n",
       "      <td>563</td>\n",
       "      <td>En Couple</td>\n",
       "      <td>4</td>\n",
       "      <td>False</td>\n",
       "      <td>8132 RT 49</td>\n",
       "    </tr>\n",
       "    <tr>\n",
       "      <th>2</th>\n",
       "      <td>82</td>\n",
       "      <td>M</td>\n",
       "      <td>417</td>\n",
       "      <td>Célibataire</td>\n",
       "      <td>0</td>\n",
       "      <td>False</td>\n",
       "      <td>4764 CE 84</td>\n",
       "    </tr>\n",
       "    <tr>\n",
       "      <th>3</th>\n",
       "      <td>72</td>\n",
       "      <td>M</td>\n",
       "      <td>442</td>\n",
       "      <td>En Couple</td>\n",
       "      <td>4</td>\n",
       "      <td>False</td>\n",
       "      <td>6239 YO 57</td>\n",
       "    </tr>\n",
       "    <tr>\n",
       "      <th>4</th>\n",
       "      <td>41</td>\n",
       "      <td>M</td>\n",
       "      <td>592</td>\n",
       "      <td>Célibataire</td>\n",
       "      <td>0</td>\n",
       "      <td>False</td>\n",
       "      <td>9318 FD 10</td>\n",
       "    </tr>\n",
       "  </tbody>\n",
       "</table>\n",
       "</div>"
      ],
      "text/plain": [
       "   age sexe  taux situationFamiliale  nbEnfantsAcharge  2emevoiture  \\\n",
       "0   49    F   914          En Couple                 1        False   \n",
       "1   18    M   563          En Couple                 4        False   \n",
       "2   82    M   417        Célibataire                 0        False   \n",
       "3   72    M   442          En Couple                 4        False   \n",
       "4   41    M   592        Célibataire                 0        False   \n",
       "\n",
       "  immatriculation  \n",
       "0      2170 DJ 60  \n",
       "1      8132 RT 49  \n",
       "2      4764 CE 84  \n",
       "3      6239 YO 57  \n",
       "4      9318 FD 10  "
      ]
     },
     "execution_count": 28,
     "metadata": {},
     "output_type": "execute_result"
    }
   ],
   "source": [
    "clients_data2.head(5)"
   ]
  },
  {
   "cell_type": "markdown",
   "id": "ad03e70d-6d3a-446b-9f31-d030be096b13",
   "metadata": {},
   "source": [
    "Les données sont maintenant propres."
   ]
  },
  {
   "cell_type": "markdown",
   "id": "349fdff8-e4ba-4679-ba35-6289ec79be4d",
   "metadata": {},
   "source": [
    "**A partir d'ici les données sont propres on peu passer la suite**"
   ]
  },
  {
   "cell_type": "markdown",
   "id": "298d4a09-51ae-4f58-aa95-a12c8f6140a2",
   "metadata": {},
   "source": [
    "### Fusion des données Client et Immatriculations"
   ]
  },
  {
   "cell_type": "code",
   "execution_count": 29,
   "id": "6ff04cfa-a418-4f40-9f77-cf7a9cadb0bd",
   "metadata": {
    "tags": []
   },
   "outputs": [],
   "source": [
    "cols = [\"age\",\"sexe\",\"taux\",\"nbEnfantsAcharge\",\"situationFamiliale\",\"2emevoiture\",\"categorie_label\",\"categorie\"]"
   ]
  },
  {
   "cell_type": "code",
   "execution_count": 30,
   "id": "78653651-d4f3-4e97-adcd-03a2284fa194",
   "metadata": {
    "tags": []
   },
   "outputs": [],
   "source": [
    "clients_immatriculations = clients_data2.merge(immatriculations, on=\"immatriculation\")"
   ]
  },
  {
   "cell_type": "code",
   "execution_count": 31,
   "id": "d8071c88-ef18-4706-9780-8188cd4ef926",
   "metadata": {
    "tags": []
   },
   "outputs": [],
   "source": [
    "clients_immatriculations = clients_immatriculations[cols]"
   ]
  },
  {
   "cell_type": "code",
   "execution_count": 32,
   "id": "9d1e4786-c384-48e1-9267-59ea816d5e3c",
   "metadata": {
    "tags": []
   },
   "outputs": [
    {
     "data": {
      "text/html": [
       "<div>\n",
       "<style scoped>\n",
       "    .dataframe tbody tr th:only-of-type {\n",
       "        vertical-align: middle;\n",
       "    }\n",
       "\n",
       "    .dataframe tbody tr th {\n",
       "        vertical-align: top;\n",
       "    }\n",
       "\n",
       "    .dataframe thead th {\n",
       "        text-align: right;\n",
       "    }\n",
       "</style>\n",
       "<table border=\"1\" class=\"dataframe\">\n",
       "  <thead>\n",
       "    <tr style=\"text-align: right;\">\n",
       "      <th></th>\n",
       "      <th>age</th>\n",
       "      <th>sexe</th>\n",
       "      <th>taux</th>\n",
       "      <th>nbEnfantsAcharge</th>\n",
       "      <th>situationFamiliale</th>\n",
       "      <th>2emevoiture</th>\n",
       "      <th>categorie_label</th>\n",
       "      <th>categorie</th>\n",
       "    </tr>\n",
       "  </thead>\n",
       "  <tbody>\n",
       "    <tr>\n",
       "      <th>0</th>\n",
       "      <td>49</td>\n",
       "      <td>F</td>\n",
       "      <td>914</td>\n",
       "      <td>1</td>\n",
       "      <td>En Couple</td>\n",
       "      <td>False</td>\n",
       "      <td>2</td>\n",
       "      <td>Familliale</td>\n",
       "    </tr>\n",
       "    <tr>\n",
       "      <th>1</th>\n",
       "      <td>18</td>\n",
       "      <td>M</td>\n",
       "      <td>563</td>\n",
       "      <td>4</td>\n",
       "      <td>En Couple</td>\n",
       "      <td>False</td>\n",
       "      <td>1</td>\n",
       "      <td>Haut de gamme</td>\n",
       "    </tr>\n",
       "    <tr>\n",
       "      <th>2</th>\n",
       "      <td>82</td>\n",
       "      <td>M</td>\n",
       "      <td>417</td>\n",
       "      <td>0</td>\n",
       "      <td>Célibataire</td>\n",
       "      <td>False</td>\n",
       "      <td>3</td>\n",
       "      <td>Economique</td>\n",
       "    </tr>\n",
       "    <tr>\n",
       "      <th>3</th>\n",
       "      <td>72</td>\n",
       "      <td>M</td>\n",
       "      <td>442</td>\n",
       "      <td>4</td>\n",
       "      <td>En Couple</td>\n",
       "      <td>False</td>\n",
       "      <td>1</td>\n",
       "      <td>Haut de gamme</td>\n",
       "    </tr>\n",
       "    <tr>\n",
       "      <th>4</th>\n",
       "      <td>41</td>\n",
       "      <td>M</td>\n",
       "      <td>592</td>\n",
       "      <td>0</td>\n",
       "      <td>Célibataire</td>\n",
       "      <td>False</td>\n",
       "      <td>4</td>\n",
       "      <td>Moyen</td>\n",
       "    </tr>\n",
       "    <tr>\n",
       "      <th>5</th>\n",
       "      <td>54</td>\n",
       "      <td>M</td>\n",
       "      <td>438</td>\n",
       "      <td>0</td>\n",
       "      <td>En Couple</td>\n",
       "      <td>False</td>\n",
       "      <td>4</td>\n",
       "      <td>Moyen</td>\n",
       "    </tr>\n",
       "    <tr>\n",
       "      <th>6</th>\n",
       "      <td>30</td>\n",
       "      <td>F</td>\n",
       "      <td>736</td>\n",
       "      <td>1</td>\n",
       "      <td>En Couple</td>\n",
       "      <td>False</td>\n",
       "      <td>2</td>\n",
       "      <td>Familliale</td>\n",
       "    </tr>\n",
       "    <tr>\n",
       "      <th>7</th>\n",
       "      <td>56</td>\n",
       "      <td>M</td>\n",
       "      <td>1325</td>\n",
       "      <td>2</td>\n",
       "      <td>En Couple</td>\n",
       "      <td>False</td>\n",
       "      <td>1</td>\n",
       "      <td>Haut de gamme</td>\n",
       "    </tr>\n",
       "    <tr>\n",
       "      <th>8</th>\n",
       "      <td>73</td>\n",
       "      <td>M</td>\n",
       "      <td>532</td>\n",
       "      <td>0</td>\n",
       "      <td>Célibataire</td>\n",
       "      <td>False</td>\n",
       "      <td>3</td>\n",
       "      <td>Economique</td>\n",
       "    </tr>\n",
       "    <tr>\n",
       "      <th>9</th>\n",
       "      <td>31</td>\n",
       "      <td>M</td>\n",
       "      <td>206</td>\n",
       "      <td>0</td>\n",
       "      <td>En Couple</td>\n",
       "      <td>False</td>\n",
       "      <td>3</td>\n",
       "      <td>Economique</td>\n",
       "    </tr>\n",
       "  </tbody>\n",
       "</table>\n",
       "</div>"
      ],
      "text/plain": [
       "   age sexe  taux  nbEnfantsAcharge situationFamiliale  2emevoiture  \\\n",
       "0   49    F   914                 1          En Couple        False   \n",
       "1   18    M   563                 4          En Couple        False   \n",
       "2   82    M   417                 0        Célibataire        False   \n",
       "3   72    M   442                 4          En Couple        False   \n",
       "4   41    M   592                 0        Célibataire        False   \n",
       "5   54    M   438                 0          En Couple        False   \n",
       "6   30    F   736                 1          En Couple        False   \n",
       "7   56    M  1325                 2          En Couple        False   \n",
       "8   73    M   532                 0        Célibataire        False   \n",
       "9   31    M   206                 0          En Couple        False   \n",
       "\n",
       "   categorie_label      categorie  \n",
       "0                2     Familliale  \n",
       "1                1  Haut de gamme  \n",
       "2                3     Economique  \n",
       "3                1  Haut de gamme  \n",
       "4                4          Moyen  \n",
       "5                4          Moyen  \n",
       "6                2     Familliale  \n",
       "7                1  Haut de gamme  \n",
       "8                3     Economique  \n",
       "9                3     Economique  "
      ]
     },
     "execution_count": 32,
     "metadata": {},
     "output_type": "execute_result"
    }
   ],
   "source": [
    "clients_immatriculations.head(10)"
   ]
  },
  {
   "cell_type": "markdown",
   "id": "nIVV4t7qvDQy",
   "metadata": {
    "id": "nIVV4t7qvDQy"
   },
   "source": [
    "## Enregistrenement du DataFrame avec Pickle"
   ]
  },
  {
   "cell_type": "code",
   "execution_count": 33,
   "id": "NUuYLIlbvT4J",
   "metadata": {
    "id": "NUuYLIlbvT4J",
    "tags": []
   },
   "outputs": [],
   "source": [
    "# Enregistrement du DataFrame\n",
    "with open('data_processed/fusion_clients_immatriculations2.pkl', 'wb') as f1:\n",
    "    pickle.dump(clients_immatriculations, f1)"
   ]
  }
 ],
 "metadata": {
  "accelerator": "GPU",
  "colab": {
   "collapsed_sections": [
    "ezr6T4rVLYbn",
    "X4MoJudjNM4I",
    "rMif6z7eC60g",
    "tcTRGKprPgvC",
    "wV_Gw_xGUlLo",
    "5_6Nq6iDMcrn",
    "2StTnZYVcs7z",
    "cR3OD92nPKRP"
   ],
   "provenance": []
  },
  "gpuClass": "standard",
  "kernelspec": {
   "display_name": "Python 3 (ipykernel)",
   "language": "python",
   "name": "python3"
  },
  "language_info": {
   "codemirror_mode": {
    "name": "ipython",
    "version": 3
   },
   "file_extension": ".py",
   "mimetype": "text/x-python",
   "name": "python",
   "nbconvert_exporter": "python",
   "pygments_lexer": "ipython3",
   "version": "3.10.10"
  }
 },
 "nbformat": 4,
 "nbformat_minor": 5
}
