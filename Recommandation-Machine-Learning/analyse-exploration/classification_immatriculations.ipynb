{
 "cells": [
  {
   "cell_type": "code",
   "execution_count": 1,
   "id": "6cbf727f-8312-4df9-a428-eaee533478d2",
   "metadata": {
    "id": "6cbf727f-8312-4df9-a428-eaee533478d2",
    "tags": []
   },
   "outputs": [],
   "source": [
    "import pandas as pd\n",
    "import numpy as np\n",
    "import matplotlib.pyplot as plt \n",
    "import seaborn as sns\n",
    "import warnings\n",
    "import matplotlib.cm as cm\n",
    "import plotly.express as px\n",
    "from sklearn import preprocessing\n",
    "from sklearn.preprocessing import LabelEncoder, OneHotEncoder, StandardScaler\n",
    "from sklearn.decomposition import PCA\n",
    "from sklearn.manifold import TSNE\n",
    "from sklearn.model_selection import GridSearchCV\n",
    "from sklearn import metrics\n",
    "from sklearn.cluster import KMeans, BisectingKMeans, AgglomerativeClustering\n",
    "from sklearn.base import clone\n",
    "from sklearn.tree import DecisionTreeClassifier\n",
    "from sklearn.pipeline import Pipeline\n",
    "from sklearn.compose import ColumnTransformer\n",
    "from sklearn.linear_model import LogisticRegression\n",
    "from sklearn.ensemble import RandomForestClassifier\n",
    "from sklearn import tree\n",
    "from sklearn.model_selection import train_test_split\n",
    "from scipy.spatial import ConvexHull\n",
    "from matplotlib.lines import Line2D"
   ]
  },
  {
   "cell_type": "code",
   "execution_count": 2,
   "id": "d830b3f6-d102-4e30-b8ca-81ceed78ab40",
   "metadata": {
    "id": "d830b3f6-d102-4e30-b8ca-81ceed78ab40",
    "tags": []
   },
   "outputs": [],
   "source": [
    "warnings.simplefilter(action='ignore')\n",
    "plt.rc(\"font\", size=14)\n",
    "sns.set(style=\"white\") #white background style for seaborn plots\n",
    "sns.set(style=\"whitegrid\", color_codes=True)"
   ]
  },
  {
   "cell_type": "markdown",
   "id": "RLvbVdtA7N7n",
   "metadata": {
    "id": "RLvbVdtA7N7n"
   },
   "source": [
    "## Chargement des données du catalogue avec CO2"
   ]
  },
  {
   "cell_type": "code",
   "execution_count": 3,
   "id": "cf15198e-8425-455f-ba14-dd944767f546",
   "metadata": {
    "id": "cf15198e-8425-455f-ba14-dd944767f546",
    "tags": []
   },
   "outputs": [],
   "source": [
    "catalogue = pd.read_csv(\"data/Catalogue_cleaned_local.csv\", encoding='utf8')"
   ]
  },
  {
   "cell_type": "code",
   "execution_count": 6,
   "id": "86ee7ebd-afd2-421a-89b3-1fdca77eb760",
   "metadata": {
    "tags": []
   },
   "outputs": [],
   "source": [
    "data_clustering = catalogue.copy()"
   ]
  },
  {
   "cell_type": "markdown",
   "id": "NEMpzyKf7WgW",
   "metadata": {
    "id": "NEMpzyKf7WgW"
   },
   "source": [
    "## Entrainement du modèle de clustering"
   ]
  },
  {
   "cell_type": "code",
   "execution_count": 7,
   "id": "fbef8883-c4f3-4952-a695-3215eb8a54e5",
   "metadata": {
    "id": "fbef8883-c4f3-4952-a695-3215eb8a54e5",
    "tags": []
   },
   "outputs": [],
   "source": [
    "def reduce_to_2d_and_show(X,show=True,get_reduces=False):\n",
    "    pca = PCA(n_components=2)\n",
    "    X_pca = pca.fit_transform(X)\n",
    "    ts = TSNE(n_components=2)\n",
    "    X_ts = ts.fit_transform(X)\n",
    "    if show:\n",
    "        fig, (ax1, ax2) = plt.subplots(1,2)\n",
    "        ax1.scatter(X_pca[:,0],X_pca[:,1])\n",
    "        ax1.set_title(\"Avec PCA\")\n",
    "        ax2.scatter(X_ts[:,0],X_ts[:,1])\n",
    "        ax2.set_title(\"Avec TSNE\")\n",
    "        plt.suptitle(\"Nuage de points\",fontweight=\"bold\")\n",
    "        plt.show()\n",
    "    if get_reduces:\n",
    "        return X_pca, X_ts\n",
    "\n",
    "def c_silhouette_score(estimator, X):\n",
    "    clusters = estimator.fit_predict(X)\n",
    "    score = metrics.silhouette_score(X, clusters)\n",
    "    return score\n",
    "\n",
    "def centeroidnp(arr):\n",
    "    length = arr.shape[0]\n",
    "    sum_x = np.sum(arr[:, 0])\n",
    "    sum_y = np.sum(arr[:, 1])\n",
    "    return sum_x/length, sum_y/length\n",
    "\n",
    "def get_center_clusters(n_clusters, cluster_labels, X):\n",
    "    center_clusters = []\n",
    "    for i in range(n_clusters):\n",
    "        points = X[cluster_labels == i]        \n",
    "        x_mean = np.mean(points[:,0])\n",
    "        y_mean = np.mean(points[:,1])\n",
    "        c = centeroidnp(points)\n",
    "        center_clusters.append(np.array(c))\n",
    "    return np.array(center_clusters)\n",
    "\n",
    "def show_inertie(data):\n",
    "    min_clusters = 2\n",
    "    max_clusters = 7\n",
    "    inertie = []\n",
    "    for k in range(min_clusters, max_clusters):\n",
    "        kmeans = KMeans(n_clusters=k).fit(data)\n",
    "        inertie.append(kmeans.inertia_)\n",
    "    max_intertie = int(max(inertie))\n",
    "    plt.figure(figsize=(10, 7))\n",
    "    plt.plot(range(min_clusters, max_clusters), inertie, marker='+');\n",
    "    plt.xlabel('Nombre de cluster')\n",
    "    plt.ylabel('Inertie')\n",
    "    plt.xticks(range(min_clusters,max_clusters))\n",
    "    plt.show()"
   ]
  },
  {
   "cell_type": "markdown",
   "id": "0d1f0082-0f14-454d-bd4d-995f96e3edab",
   "metadata": {
    "id": "0d1f0082-0f14-454d-bd4d-995f96e3edab",
    "tags": []
   },
   "source": [
    "## Préparation des données"
   ]
  },
  {
   "cell_type": "markdown",
   "id": "fd7465cc-3e8d-4eef-bbfb-bb1ef13be83d",
   "metadata": {},
   "source": [
    "Suit a l'analyse exploratoire des données, les features sélectionnées pour l'entrainement sont les suivantes :\n",
    "\n",
    "- longueur\n",
    "- prix\n",
    "- nbPortes\n",
    "- nbPlaces\n",
    "\n",
    "Le pré-traitenement des données consiste a appliqué les transformations suivantes :\n",
    "\n",
    "- OneHotEncoder\n",
    "    - longueur\n",
    "- Binarizer\n",
    "    - nbPlaces\n",
    "    - nbPortes\n",
    "- StandardScaler\n",
    "    - prix"
   ]
  },
  {
   "cell_type": "code",
   "execution_count": 85,
   "id": "a4be103a-a76c-45f8-8ee0-670af0c5ace4",
   "metadata": {
    "id": "a4be103a-a76c-45f8-8ee0-670af0c5ace4",
    "tags": []
   },
   "outputs": [],
   "source": [
    "X = catalogue.copy()"
   ]
  },
  {
   "cell_type": "code",
   "execution_count": 109,
   "id": "23af45a7-39e9-48e6-8acb-3ea9319de737",
   "metadata": {
    "id": "23af45a7-39e9-48e6-8acb-3ea9319de737",
    "tags": []
   },
   "outputs": [],
   "source": [
    "onehot_encoder = preprocessing.OneHotEncoder(handle_unknown=\"ignore\")\n",
    "scaler = preprocessing.StandardScaler()\n",
    "binarizer = preprocessing.Binarizer()"
   ]
  },
  {
   "cell_type": "markdown",
   "id": "fed00309-feb6-43e1-96f6-c815d0a887d7",
   "metadata": {},
   "source": [
    "La pipeline de transformation ce présente comme suite."
   ]
  },
  {
   "cell_type": "code",
   "execution_count": 110,
   "id": "2778acc1-b38b-4dc4-9ed9-919c005d0640",
   "metadata": {
    "id": "2778acc1-b38b-4dc4-9ed9-919c005d0640",
    "tags": []
   },
   "outputs": [],
   "source": [
    "onehot_features = [\"longueur\"]\n",
    "scaler_features = [\"prix\"]\n",
    "binarizer_features = [\"nbPortes\",\"nbPlaces\"]\n",
    "\n",
    "onehot_encoder_transformer = Pipeline(steps=[\n",
    "    ('onehot_encoder', onehot_encoder)\n",
    "])\n",
    "\n",
    "binarizer_transformer = Pipeline(steps=[\n",
    "    ('binarizer', binarizer)\n",
    "])\n",
    "\n",
    "numeric_transformer = Pipeline(steps=[\n",
    "    ('scaler', scaler)\n",
    "])\n",
    "\n",
    "transformers = ColumnTransformer(\n",
    "   transformers=[\n",
    "    ('onehot_transform', onehot_encoder_transformer, onehot_features),\n",
    "    ('binarize_transform', binarizer_transformer, binarizer_features),\n",
    "    ('numeric_transform',numeric_transformer, numeric_features)\n",
    "])\n",
    "\n",
    "pipeline = Pipeline([\n",
    "    ('transform', transformers)\n",
    "])"
   ]
  },
  {
   "cell_type": "code",
   "execution_count": 111,
   "id": "88bfe829-40b1-440a-b4c9-b19977d548cc",
   "metadata": {
    "tags": []
   },
   "outputs": [
    {
     "data": {
      "text/html": [
       "<style>#sk-container-id-8 {color: black;background-color: white;}#sk-container-id-8 pre{padding: 0;}#sk-container-id-8 div.sk-toggleable {background-color: white;}#sk-container-id-8 label.sk-toggleable__label {cursor: pointer;display: block;width: 100%;margin-bottom: 0;padding: 0.3em;box-sizing: border-box;text-align: center;}#sk-container-id-8 label.sk-toggleable__label-arrow:before {content: \"▸\";float: left;margin-right: 0.25em;color: #696969;}#sk-container-id-8 label.sk-toggleable__label-arrow:hover:before {color: black;}#sk-container-id-8 div.sk-estimator:hover label.sk-toggleable__label-arrow:before {color: black;}#sk-container-id-8 div.sk-toggleable__content {max-height: 0;max-width: 0;overflow: hidden;text-align: left;background-color: #f0f8ff;}#sk-container-id-8 div.sk-toggleable__content pre {margin: 0.2em;color: black;border-radius: 0.25em;background-color: #f0f8ff;}#sk-container-id-8 input.sk-toggleable__control:checked~div.sk-toggleable__content {max-height: 200px;max-width: 100%;overflow: auto;}#sk-container-id-8 input.sk-toggleable__control:checked~label.sk-toggleable__label-arrow:before {content: \"▾\";}#sk-container-id-8 div.sk-estimator input.sk-toggleable__control:checked~label.sk-toggleable__label {background-color: #d4ebff;}#sk-container-id-8 div.sk-label input.sk-toggleable__control:checked~label.sk-toggleable__label {background-color: #d4ebff;}#sk-container-id-8 input.sk-hidden--visually {border: 0;clip: rect(1px 1px 1px 1px);clip: rect(1px, 1px, 1px, 1px);height: 1px;margin: -1px;overflow: hidden;padding: 0;position: absolute;width: 1px;}#sk-container-id-8 div.sk-estimator {font-family: monospace;background-color: #f0f8ff;border: 1px dotted black;border-radius: 0.25em;box-sizing: border-box;margin-bottom: 0.5em;}#sk-container-id-8 div.sk-estimator:hover {background-color: #d4ebff;}#sk-container-id-8 div.sk-parallel-item::after {content: \"\";width: 100%;border-bottom: 1px solid gray;flex-grow: 1;}#sk-container-id-8 div.sk-label:hover label.sk-toggleable__label {background-color: #d4ebff;}#sk-container-id-8 div.sk-serial::before {content: \"\";position: absolute;border-left: 1px solid gray;box-sizing: border-box;top: 0;bottom: 0;left: 50%;z-index: 0;}#sk-container-id-8 div.sk-serial {display: flex;flex-direction: column;align-items: center;background-color: white;padding-right: 0.2em;padding-left: 0.2em;position: relative;}#sk-container-id-8 div.sk-item {position: relative;z-index: 1;}#sk-container-id-8 div.sk-parallel {display: flex;align-items: stretch;justify-content: center;background-color: white;position: relative;}#sk-container-id-8 div.sk-item::before, #sk-container-id-8 div.sk-parallel-item::before {content: \"\";position: absolute;border-left: 1px solid gray;box-sizing: border-box;top: 0;bottom: 0;left: 50%;z-index: -1;}#sk-container-id-8 div.sk-parallel-item {display: flex;flex-direction: column;z-index: 1;position: relative;background-color: white;}#sk-container-id-8 div.sk-parallel-item:first-child::after {align-self: flex-end;width: 50%;}#sk-container-id-8 div.sk-parallel-item:last-child::after {align-self: flex-start;width: 50%;}#sk-container-id-8 div.sk-parallel-item:only-child::after {width: 0;}#sk-container-id-8 div.sk-dashed-wrapped {border: 1px dashed gray;margin: 0 0.4em 0.5em 0.4em;box-sizing: border-box;padding-bottom: 0.4em;background-color: white;}#sk-container-id-8 div.sk-label label {font-family: monospace;font-weight: bold;display: inline-block;line-height: 1.2em;}#sk-container-id-8 div.sk-label-container {text-align: center;}#sk-container-id-8 div.sk-container {/* jupyter's `normalize.less` sets `[hidden] { display: none; }` but bootstrap.min.css set `[hidden] { display: none !important; }` so we also need the `!important` here to be able to override the default hidden behavior on the sphinx rendered scikit-learn.org. See: https://github.com/scikit-learn/scikit-learn/issues/21755 */display: inline-block !important;position: relative;}#sk-container-id-8 div.sk-text-repr-fallback {display: none;}</style><div id=\"sk-container-id-8\" class=\"sk-top-container\"><div class=\"sk-text-repr-fallback\"><pre>Pipeline(steps=[(&#x27;transform&#x27;,\n",
       "                 ColumnTransformer(transformers=[(&#x27;onehot_transform&#x27;,\n",
       "                                                  Pipeline(steps=[(&#x27;onehot_encoder&#x27;,\n",
       "                                                                   OneHotEncoder(handle_unknown=&#x27;ignore&#x27;))]),\n",
       "                                                  [&#x27;longueur&#x27;]),\n",
       "                                                 (&#x27;binarize_transform&#x27;,\n",
       "                                                  Pipeline(steps=[(&#x27;binarizer&#x27;,\n",
       "                                                                   Binarizer())]),\n",
       "                                                  [&#x27;nbPortes&#x27;, &#x27;nbPlaces&#x27;]),\n",
       "                                                 (&#x27;numeric_transform&#x27;,\n",
       "                                                  Pipeline(steps=[(&#x27;scaler&#x27;,\n",
       "                                                                   StandardScaler())]),\n",
       "                                                  [&#x27;prix&#x27;])]))])</pre><b>In a Jupyter environment, please rerun this cell to show the HTML representation or trust the notebook. <br />On GitHub, the HTML representation is unable to render, please try loading this page with nbviewer.org.</b></div><div class=\"sk-container\" hidden><div class=\"sk-item sk-dashed-wrapped\"><div class=\"sk-label-container\"><div class=\"sk-label sk-toggleable\"><input class=\"sk-toggleable__control sk-hidden--visually\" id=\"sk-estimator-id-56\" type=\"checkbox\" ><label for=\"sk-estimator-id-56\" class=\"sk-toggleable__label sk-toggleable__label-arrow\">Pipeline</label><div class=\"sk-toggleable__content\"><pre>Pipeline(steps=[(&#x27;transform&#x27;,\n",
       "                 ColumnTransformer(transformers=[(&#x27;onehot_transform&#x27;,\n",
       "                                                  Pipeline(steps=[(&#x27;onehot_encoder&#x27;,\n",
       "                                                                   OneHotEncoder(handle_unknown=&#x27;ignore&#x27;))]),\n",
       "                                                  [&#x27;longueur&#x27;]),\n",
       "                                                 (&#x27;binarize_transform&#x27;,\n",
       "                                                  Pipeline(steps=[(&#x27;binarizer&#x27;,\n",
       "                                                                   Binarizer())]),\n",
       "                                                  [&#x27;nbPortes&#x27;, &#x27;nbPlaces&#x27;]),\n",
       "                                                 (&#x27;numeric_transform&#x27;,\n",
       "                                                  Pipeline(steps=[(&#x27;scaler&#x27;,\n",
       "                                                                   StandardScaler())]),\n",
       "                                                  [&#x27;prix&#x27;])]))])</pre></div></div></div><div class=\"sk-serial\"><div class=\"sk-item sk-dashed-wrapped\"><div class=\"sk-label-container\"><div class=\"sk-label sk-toggleable\"><input class=\"sk-toggleable__control sk-hidden--visually\" id=\"sk-estimator-id-57\" type=\"checkbox\" ><label for=\"sk-estimator-id-57\" class=\"sk-toggleable__label sk-toggleable__label-arrow\">transform: ColumnTransformer</label><div class=\"sk-toggleable__content\"><pre>ColumnTransformer(transformers=[(&#x27;onehot_transform&#x27;,\n",
       "                                 Pipeline(steps=[(&#x27;onehot_encoder&#x27;,\n",
       "                                                  OneHotEncoder(handle_unknown=&#x27;ignore&#x27;))]),\n",
       "                                 [&#x27;longueur&#x27;]),\n",
       "                                (&#x27;binarize_transform&#x27;,\n",
       "                                 Pipeline(steps=[(&#x27;binarizer&#x27;, Binarizer())]),\n",
       "                                 [&#x27;nbPortes&#x27;, &#x27;nbPlaces&#x27;]),\n",
       "                                (&#x27;numeric_transform&#x27;,\n",
       "                                 Pipeline(steps=[(&#x27;scaler&#x27;, StandardScaler())]),\n",
       "                                 [&#x27;prix&#x27;])])</pre></div></div></div><div class=\"sk-parallel\"><div class=\"sk-parallel-item\"><div class=\"sk-item\"><div class=\"sk-label-container\"><div class=\"sk-label sk-toggleable\"><input class=\"sk-toggleable__control sk-hidden--visually\" id=\"sk-estimator-id-58\" type=\"checkbox\" ><label for=\"sk-estimator-id-58\" class=\"sk-toggleable__label sk-toggleable__label-arrow\">onehot_transform</label><div class=\"sk-toggleable__content\"><pre>[&#x27;longueur&#x27;]</pre></div></div></div><div class=\"sk-serial\"><div class=\"sk-item\"><div class=\"sk-serial\"><div class=\"sk-item\"><div class=\"sk-estimator sk-toggleable\"><input class=\"sk-toggleable__control sk-hidden--visually\" id=\"sk-estimator-id-59\" type=\"checkbox\" ><label for=\"sk-estimator-id-59\" class=\"sk-toggleable__label sk-toggleable__label-arrow\">OneHotEncoder</label><div class=\"sk-toggleable__content\"><pre>OneHotEncoder(handle_unknown=&#x27;ignore&#x27;)</pre></div></div></div></div></div></div></div></div><div class=\"sk-parallel-item\"><div class=\"sk-item\"><div class=\"sk-label-container\"><div class=\"sk-label sk-toggleable\"><input class=\"sk-toggleable__control sk-hidden--visually\" id=\"sk-estimator-id-60\" type=\"checkbox\" ><label for=\"sk-estimator-id-60\" class=\"sk-toggleable__label sk-toggleable__label-arrow\">binarize_transform</label><div class=\"sk-toggleable__content\"><pre>[&#x27;nbPortes&#x27;, &#x27;nbPlaces&#x27;]</pre></div></div></div><div class=\"sk-serial\"><div class=\"sk-item\"><div class=\"sk-serial\"><div class=\"sk-item\"><div class=\"sk-estimator sk-toggleable\"><input class=\"sk-toggleable__control sk-hidden--visually\" id=\"sk-estimator-id-61\" type=\"checkbox\" ><label for=\"sk-estimator-id-61\" class=\"sk-toggleable__label sk-toggleable__label-arrow\">Binarizer</label><div class=\"sk-toggleable__content\"><pre>Binarizer()</pre></div></div></div></div></div></div></div></div><div class=\"sk-parallel-item\"><div class=\"sk-item\"><div class=\"sk-label-container\"><div class=\"sk-label sk-toggleable\"><input class=\"sk-toggleable__control sk-hidden--visually\" id=\"sk-estimator-id-62\" type=\"checkbox\" ><label for=\"sk-estimator-id-62\" class=\"sk-toggleable__label sk-toggleable__label-arrow\">numeric_transform</label><div class=\"sk-toggleable__content\"><pre>[&#x27;prix&#x27;]</pre></div></div></div><div class=\"sk-serial\"><div class=\"sk-item\"><div class=\"sk-serial\"><div class=\"sk-item\"><div class=\"sk-estimator sk-toggleable\"><input class=\"sk-toggleable__control sk-hidden--visually\" id=\"sk-estimator-id-63\" type=\"checkbox\" ><label for=\"sk-estimator-id-63\" class=\"sk-toggleable__label sk-toggleable__label-arrow\">StandardScaler</label><div class=\"sk-toggleable__content\"><pre>StandardScaler()</pre></div></div></div></div></div></div></div></div></div></div></div></div></div></div>"
      ],
      "text/plain": [
       "Pipeline(steps=[('transform',\n",
       "                 ColumnTransformer(transformers=[('onehot_transform',\n",
       "                                                  Pipeline(steps=[('onehot_encoder',\n",
       "                                                                   OneHotEncoder(handle_unknown='ignore'))]),\n",
       "                                                  ['longueur']),\n",
       "                                                 ('binarize_transform',\n",
       "                                                  Pipeline(steps=[('binarizer',\n",
       "                                                                   Binarizer())]),\n",
       "                                                  ['nbPortes', 'nbPlaces']),\n",
       "                                                 ('numeric_transform',\n",
       "                                                  Pipeline(steps=[('scaler',\n",
       "                                                                   StandardScaler())]),\n",
       "                                                  ['prix'])]))])"
      ]
     },
     "execution_count": 111,
     "metadata": {},
     "output_type": "execute_result"
    }
   ],
   "source": [
    "pipeline.fit(X)"
   ]
  },
  {
   "cell_type": "code",
   "execution_count": 112,
   "id": "dc7aabd5-f268-494b-8d37-594f5219f6ef",
   "metadata": {
    "tags": []
   },
   "outputs": [],
   "source": [
    "X_train = pipeline.transform(X)"
   ]
  },
  {
   "cell_type": "markdown",
   "id": "5a786ec9-9cd1-46c7-9f3f-7c353d665780",
   "metadata": {},
   "source": [
    "Après transformation des données et reduction des dimensions avec avec PCA et TSNE l'ensemble des samples ce represente comme suite."
   ]
  },
  {
   "cell_type": "code",
   "execution_count": 114,
   "id": "b52c613b-87c1-4229-94fd-03bc2cd1591b",
   "metadata": {
    "colab": {
     "base_uri": "https://localhost:8080/",
     "height": 474
    },
    "id": "b52c613b-87c1-4229-94fd-03bc2cd1591b",
    "outputId": "4ea91584-03fb-42a8-9f39-5426b5b9cebd",
    "tags": []
   },
   "outputs": [
    {
     "data": {
      "image/png": "[encoded data removed]",
      "text/plain": [
       "<Figure size 640x480 with 2 Axes>"
      ]
     },
     "metadata": {},
     "output_type": "display_data"
    }
   ],
   "source": [
    "reduce_to_2d_and_show(X_train)"
   ]
  },
  {
   "cell_type": "markdown",
   "id": "8dd5b7c6-56f0-4eeb-a0f3-bc3319877f10",
   "metadata": {},
   "source": [
    "Le clustering consistera donc a grouper les points de sorte à regrouper les points ayant le plus de similitures (Penser à faire dentogramme).\n",
    "\n",
    "Penser à présenter la méthode qui a permet de choisir que notre k = 4.\n",
    "\n",
    "Penser à lister les algorithmes de clustering, la metrique de comparaison, les graphiques pour les comparer entre-eux et dire qu'on a choisi k-means. (Ne pas oublié qu'on a une grille de validation et précisez les paramètres)"
   ]
  },
  {
   "cell_type": "markdown",
   "id": "7cb1405d-1000-4a69-b753-cd88f06ae00d",
   "metadata": {
    "id": "7cb1405d-1000-4a69-b753-cd88f06ae00d",
    "tags": []
   },
   "source": [
    "## Entrainement"
   ]
  },
  {
   "cell_type": "markdown",
   "id": "0919cfed-70d7-464a-a8d0-97ba11921f04",
   "metadata": {},
   "source": [
    "Le modele choisi est Kmeas avec k = 4 (Precisez ses parametres)"
   ]
  },
  {
   "cell_type": "code",
   "execution_count": 116,
   "id": "b9781eb4-ba9f-4898-867e-8b65e8a17768",
   "metadata": {
    "colab": {
     "base_uri": "https://localhost:8080/"
    },
    "id": "b9781eb4-ba9f-4898-867e-8b65e8a17768",
    "outputId": "178850c7-3c3a-4337-e85f-4b04ad66c9ec",
    "tags": []
   },
   "outputs": [
    {
     "name": "stdout",
     "output_type": "stream",
     "text": [
      "Fitting 5 folds for each of 88 candidates, totalling 440 fits\n",
      "\n",
      "Résultats:\n",
      "\n",
      "Configuration: \t KMeans(init='random', n_clusters=4, n_init=3, random_state=1)\n",
      "Score: \t\t -18.64885851201608\n",
      "Paramètres: \t {'init': 'random', 'n_clusters': 4, 'n_init': 3, 'random_state': 1}\n"
     ]
    }
   ],
   "source": [
    "n_clusters = 4\n",
    "\n",
    "param_grid = {\n",
    "    \"n_clusters\":[n_clusters],\n",
    "    \"random_state\": range(11),\n",
    "    \"init\":[\"random\"],\n",
    "    \"n_init\": range(2,10)\n",
    "}\n",
    "\n",
    "kmeans = KMeans()\n",
    "\n",
    "grid = GridSearchCV(kmeans,param_grid=param_grid,cv=5,verbose=1)\n",
    "grid.fit(X_train)\n",
    "    \n",
    "print(\"\\nRésultats:\\n\")\n",
    "print(f\"Configuration: \\t\",grid.best_estimator_)\n",
    "print(f\"Score: \\t\\t\",grid.best_score_)\n",
    "print(f\"Paramètres: \\t\",grid.best_params_)"
   ]
  },
  {
   "cell_type": "markdown",
   "id": "71fa7a06-9dc4-4e9d-8aaa-1d693cf506b9",
   "metadata": {
    "id": "71fa7a06-9dc4-4e9d-8aaa-1d693cf506b9",
    "tags": []
   },
   "source": [
    "## Visualisation des clusters"
   ]
  },
  {
   "cell_type": "markdown",
   "id": "03a4f6bf-8be5-489b-8c93-407561731ec1",
   "metadata": {},
   "source": [
    "Affichage du clustering obtenu"
   ]
  },
  {
   "cell_type": "code",
   "execution_count": 115,
   "id": "ff92c661-7218-4297-a9c0-58b5432552ef",
   "metadata": {
    "colab": {
     "base_uri": "https://localhost:8080/",
     "height": 516
    },
    "id": "ff92c661-7218-4297-a9c0-58b5432552ef",
    "outputId": "61fe311d-a84a-4c4c-d952-4c520b07d082",
    "tags": []
   },
   "outputs": [
    {
     "name": "stdout",
     "output_type": "stream",
     "text": [
      "kmean-4 silhouette_score: 0.6602465980991867\n",
      "Taux de points mal classé: 0%\n",
      "\n"
     ]
    },
    {
     "data": {
      "image/png": "[encoded data removed]",
      "text/plain": [
       "<Figure size 2000x700 with 3 Axes>"
      ]
     },
     "metadata": {},
     "output_type": "display_data"
    }
   ],
   "source": [
    "# Réduction des dimensions\n",
    "pca = PCA(n_components=2)\n",
    "ts = TSNE(n_components=2)\n",
    "X_pca = pca.fit_transform(X_train)\n",
    "X_ts = ts.fit_transform(X_train)\n",
    "    \n",
    "estimator = grid.best_estimator_\n",
    "config_name = f\"kmean-{n_clusters}\"\n",
    "    \n",
    "silhouette_score = metrics.silhouette_score(X_train, estimator.labels_, metric='euclidean')\n",
    "    \n",
    "fig, (ax1, ax2, ax3) = plt.subplots(1, 3)\n",
    "fig.set_size_inches(20, 7)\n",
    "    \n",
    "ax1.set_xlim([-0.1, 1])\n",
    "ax1.set_ylim([0, len(X_train) + (n_clusters + 1) * 10])\n",
    "    \n",
    "cluster_labels = estimator.labels_\n",
    "sample_silhouette_values =  metrics.silhouette_samples(X_train, cluster_labels)\n",
    "nb_bad_sample = (sample_silhouette_values <= 0).sum()\n",
    "silhouette_score_ratio = int(silhouette_score * 100)\n",
    "bad_sample_ratio = int((nb_bad_sample / sample_silhouette_values.shape[0]) * 100)\n",
    "    \n",
    "print(f\"{config_name} silhouette_score: {silhouette_score}\")\n",
    "print(f\"Taux de points mal classé: {bad_sample_ratio}%\")\n",
    "print()\n",
    "\n",
    "y_lower = 10\n",
    "    \n",
    "for i in range(n_clusters):\n",
    "    ith_cluster_silhouette_values = sample_silhouette_values[cluster_labels == i]\n",
    "    ith_cluster_silhouette_values.sort()\n",
    "    size_cluster_i = ith_cluster_silhouette_values.shape[0]\n",
    "    y_upper = y_lower + size_cluster_i\n",
    "    color = cm.nipy_spectral(float(i) / n_clusters)\n",
    "    \n",
    "    ax1.fill_betweenx(\n",
    "        np.arange(y_lower, y_upper),\n",
    "        0,\n",
    "        ith_cluster_silhouette_values,\n",
    "        facecolor=color,\n",
    "        edgecolor=color,\n",
    "        alpha=0.7,\n",
    "    )\n",
    "    \n",
    "    ax1.text(-0.05, y_lower + 0.5 * size_cluster_i, str(i))\n",
    "    y_lower = y_upper + 10\n",
    "    \n",
    "ax1.set_title(f\"{config_name} - Evaluation de la silhouette [score:{silhouette_score_ratio}|Taux points mals classés:{bad_sample_ratio}%]\")\n",
    "ax1.set_xlabel(\"Coefficient de silhouette\")\n",
    "ax1.set_ylabel(\"Label du cluster\")\n",
    "ax1.axvline(x=silhouette_score, color=\"red\", linestyle=\"--\")\n",
    "ax1.set_yticks([])\n",
    "ax1.set_xticks([-0.1, 0, 0.2, 0.4, 0.6, 0.8, 1])\n",
    "    \n",
    "colors = cm.nipy_spectral(cluster_labels.astype(float) / n_clusters)      \n",
    "center_clusters_pca = get_center_clusters(n_clusters, cluster_labels, X_pca)\n",
    "center_clusters_ts = get_center_clusters(n_clusters, cluster_labels, X_ts)\n",
    "\n",
    "# PCA\n",
    "ax2.scatter(X_pca[:, 0], X_pca[:, 1], c=colors)\n",
    "ax2.scatter(center_clusters_pca[:, 0],center_clusters_pca[:, 1],marker=\"o\",c=\"white\",alpha=1,s=200,edgecolor=\"k\")\n",
    "ax2.set_title(f\"{config_name} - PCA Visualisation des données\")\n",
    "for i, c in enumerate(center_clusters_pca):\n",
    "  ax2.scatter(c[0], c[1], marker=\"$%d$\" % i, alpha=1, s=50, edgecolor=\"k\")\n",
    "        \n",
    "# TSNE\n",
    "ax3.scatter(X_ts[:, 0], X_ts[:, 1], c=colors)\n",
    "ax3.scatter(center_clusters_ts[:, 0],center_clusters_ts[:, 1],marker=\"o\",c=\"white\",alpha=1,s=200,edgecolor=\"k\")\n",
    "ax3.set_title(f\"{config_name} - TSNE Visualisation des données\")\n",
    "for i, c in enumerate(center_clusters_ts):\n",
    "  ax3.scatter(c[0], c[1], marker=\"$%d$\" % i, alpha=1, s=50, edgecolor=\"k\")\n",
    "    \n",
    "plt.show()"
   ]
  },
  {
   "cell_type": "markdown",
   "id": "64ef0eec-b77f-4f86-9daf-2ebb4fd381d7",
   "metadata": {
    "id": "64ef0eec-b77f-4f86-9daf-2ebb4fd381d7",
    "tags": []
   },
   "source": [
    "##### 4.3.2 Sélection du meilleur modèle"
   ]
  },
  {
   "cell_type": "code",
   "execution_count": 117,
   "id": "d604ae43-6496-4438-9599-c48a4625e4ad",
   "metadata": {
    "colab": {
     "base_uri": "https://localhost:8080/"
    },
    "id": "d604ae43-6496-4438-9599-c48a4625e4ad",
    "outputId": "cb3fbd4d-30c6-4af2-ec8b-a03dd634cd96",
    "tags": []
   },
   "outputs": [
    {
     "name": "stdout",
     "output_type": "stream",
     "text": [
      "Meilleur configuration : kmeans-4\n",
      "Nombre de cluster      :  4\n",
      "Meilleur paramétrage   : {'init': 'random', 'n_clusters': 4, 'n_init': 3, 'random_state': 1}\n"
     ]
    }
   ],
   "source": [
    "print(f\"Meilleur configuration : kmeans-{n_clusters}\")\n",
    "print(f\"Nombre de cluster      :  {n_clusters}\")\n",
    "print(f\"Meilleur paramétrage   : {grid.best_params_}\")"
   ]
  },
  {
   "cell_type": "markdown",
   "id": "68f6d178-0994-471e-a980-012675a1d544",
   "metadata": {
    "id": "68f6d178-0994-471e-a980-012675a1d544"
   },
   "source": [
    "#### 4.4 Description du meilleur modèle"
   ]
  },
  {
   "cell_type": "code",
   "execution_count": 118,
   "id": "K8iN-kqgBuWE",
   "metadata": {
    "id": "K8iN-kqgBuWE",
    "tags": []
   },
   "outputs": [],
   "source": [
    "categorieClusteringModel = grid.best_estimator_\n",
    "vehicules_categorie = catalogue.copy()\n",
    "data = pipeline.fit_transform(vehicules_categorie)\n",
    "labels = categorieClusteringModel.fit_predict(data)"
   ]
  },
  {
   "cell_type": "markdown",
   "id": "9e95baaa-d689-4162-b663-aca1361e1993",
   "metadata": {},
   "source": [
    "Le modèle entrainé on predit le cluster associé à chaque vehicules. L'ensemble des résultats est reporté dans le tableai ci-dessous :"
   ]
  },
  {
   "cell_type": "code",
   "execution_count": 119,
   "id": "9ca369a0-7737-48bc-974f-8995ca58381a",
   "metadata": {
    "colab": {
     "base_uri": "https://localhost:8080/",
     "height": 394
    },
    "id": "9ca369a0-7737-48bc-974f-8995ca58381a",
    "outputId": "9c1210be-8baf-48f6-ee8b-95ecf3fdab63",
    "tags": []
   },
   "outputs": [
    {
     "data": {
      "text/html": [
       "<div>\n",
       "<style scoped>\n",
       "    .dataframe tbody tr th:only-of-type {\n",
       "        vertical-align: middle;\n",
       "    }\n",
       "\n",
       "    .dataframe tbody tr th {\n",
       "        vertical-align: top;\n",
       "    }\n",
       "\n",
       "    .dataframe thead th {\n",
       "        text-align: right;\n",
       "    }\n",
       "</style>\n",
       "<table border=\"1\" class=\"dataframe\">\n",
       "  <thead>\n",
       "    <tr style=\"text-align: right;\">\n",
       "      <th></th>\n",
       "      <th>Cluster 0</th>\n",
       "      <th>Cluster 1</th>\n",
       "      <th>Cluster 2</th>\n",
       "      <th>Cluster 3</th>\n",
       "    </tr>\n",
       "  </thead>\n",
       "  <tbody>\n",
       "    <tr>\n",
       "      <th>marques</th>\n",
       "      <td>['BMW' 'Mercedes' 'Nissan' 'Volkswagen' 'Dacia...</td>\n",
       "      <td>['Volkswagen' 'Daihatsu' 'Peugeot' 'Lancia' 'A...</td>\n",
       "      <td>['Volvo' 'BMW' 'Renault' 'Mercedes']</td>\n",
       "      <td>['Saab' 'Hyundai' 'Volkswagen' 'Skoda' 'Honda'...</td>\n",
       "    </tr>\n",
       "    <tr>\n",
       "      <th>noms</th>\n",
       "      <td>['120i' 'A200' 'Almera 1.8' 'New Beatle 1.8' '...</td>\n",
       "      <td>['Polo 1.2 6V' 'Cuore 1.0' '1007 1.4' 'Ypsilon...</td>\n",
       "      <td>['S80 T6' 'M5' 'Vel Satis 3.5 V6' 'S500']</td>\n",
       "      <td>['9.3 1.8T' 'Matrix 1.6' 'Touran 2.0 FSI' 'Sup...</td>\n",
       "    </tr>\n",
       "    <tr>\n",
       "      <th>puissances</th>\n",
       "      <td>90-150</td>\n",
       "      <td>55-115</td>\n",
       "      <td>245-507</td>\n",
       "      <td>102-272</td>\n",
       "    </tr>\n",
       "    <tr>\n",
       "      <th>prix</th>\n",
       "      <td>7500-35800</td>\n",
       "      <td>8540-18310</td>\n",
       "      <td>49200-101300</td>\n",
       "      <td>15960-38600</td>\n",
       "    </tr>\n",
       "    <tr>\n",
       "      <th>longueurs</th>\n",
       "      <td>['moyenne']</td>\n",
       "      <td>['courte']</td>\n",
       "      <td>['très longue']</td>\n",
       "      <td>['longue' 'très longue']</td>\n",
       "    </tr>\n",
       "    <tr>\n",
       "      <th>nbPlaces</th>\n",
       "      <td>5</td>\n",
       "      <td>5</td>\n",
       "      <td>5</td>\n",
       "      <td>5</td>\n",
       "    </tr>\n",
       "    <tr>\n",
       "      <th>nbPortes</th>\n",
       "      <td>5</td>\n",
       "      <td>5</td>\n",
       "      <td>5</td>\n",
       "      <td>5</td>\n",
       "    </tr>\n",
       "    <tr>\n",
       "      <th>bonus_malus</th>\n",
       "      <td>6000.0-8260.0</td>\n",
       "      <td>6135.0-7291.0</td>\n",
       "      <td>6000.0-8260.0</td>\n",
       "      <td>6000.0-8202.0</td>\n",
       "    </tr>\n",
       "    <tr>\n",
       "      <th>rejets_co2_gkm</th>\n",
       "      <td>0.0-187.0</td>\n",
       "      <td>10.0-108.0</td>\n",
       "      <td>0.0-187.0</td>\n",
       "      <td>0.0-160.0</td>\n",
       "    </tr>\n",
       "    <tr>\n",
       "      <th>cout_energie</th>\n",
       "      <td>80.0-749.0</td>\n",
       "      <td>96.0-457.0</td>\n",
       "      <td>72.0-749.0</td>\n",
       "      <td>72.0-681.0</td>\n",
       "    </tr>\n",
       "    <tr>\n",
       "      <th>nbVehicules</th>\n",
       "      <td>70</td>\n",
       "      <td>60</td>\n",
       "      <td>30</td>\n",
       "      <td>110</td>\n",
       "    </tr>\n",
       "  </tbody>\n",
       "</table>\n",
       "</div>"
      ],
      "text/plain": [
       "                                                        Cluster 0  \\\n",
       "marques         ['BMW' 'Mercedes' 'Nissan' 'Volkswagen' 'Dacia...   \n",
       "noms            ['120i' 'A200' 'Almera 1.8' 'New Beatle 1.8' '...   \n",
       "puissances                                                 90-150   \n",
       "prix                                                   7500-35800   \n",
       "longueurs                                             ['moyenne']   \n",
       "nbPlaces                                                        5   \n",
       "nbPortes                                                        5   \n",
       "bonus_malus                                         6000.0-8260.0   \n",
       "rejets_co2_gkm                                          0.0-187.0   \n",
       "cout_energie                                           80.0-749.0   \n",
       "nbVehicules                                                    70   \n",
       "\n",
       "                                                        Cluster 1  \\\n",
       "marques         ['Volkswagen' 'Daihatsu' 'Peugeot' 'Lancia' 'A...   \n",
       "noms            ['Polo 1.2 6V' 'Cuore 1.0' '1007 1.4' 'Ypsilon...   \n",
       "puissances                                                 55-115   \n",
       "prix                                                   8540-18310   \n",
       "longueurs                                              ['courte']   \n",
       "nbPlaces                                                        5   \n",
       "nbPortes                                                        5   \n",
       "bonus_malus                                         6135.0-7291.0   \n",
       "rejets_co2_gkm                                         10.0-108.0   \n",
       "cout_energie                                           96.0-457.0   \n",
       "nbVehicules                                                    60   \n",
       "\n",
       "                                                Cluster 2  \\\n",
       "marques              ['Volvo' 'BMW' 'Renault' 'Mercedes']   \n",
       "noms            ['S80 T6' 'M5' 'Vel Satis 3.5 V6' 'S500']   \n",
       "puissances                                        245-507   \n",
       "prix                                         49200-101300   \n",
       "longueurs                                 ['très longue']   \n",
       "nbPlaces                                                5   \n",
       "nbPortes                                                5   \n",
       "bonus_malus                                 6000.0-8260.0   \n",
       "rejets_co2_gkm                                  0.0-187.0   \n",
       "cout_energie                                   72.0-749.0   \n",
       "nbVehicules                                            30   \n",
       "\n",
       "                                                        Cluster 3  \n",
       "marques         ['Saab' 'Hyundai' 'Volkswagen' 'Skoda' 'Honda'...  \n",
       "noms            ['9.3 1.8T' 'Matrix 1.6' 'Touran 2.0 FSI' 'Sup...  \n",
       "puissances                                                102-272  \n",
       "prix                                                  15960-38600  \n",
       "longueurs                                ['longue' 'très longue']  \n",
       "nbPlaces                                                        5  \n",
       "nbPortes                                                        5  \n",
       "bonus_malus                                         6000.0-8202.0  \n",
       "rejets_co2_gkm                                          0.0-160.0  \n",
       "cout_energie                                           72.0-681.0  \n",
       "nbVehicules                                                   110  "
      ]
     },
     "metadata": {},
     "output_type": "display_data"
    }
   ],
   "source": [
    "vehicules_categorie[\"categorie_label\"] = labels\n",
    "vehicules_groups = vehicules_categorie.groupby(\"categorie_label\")\n",
    "clusters_name = [f\"Cluster {i}\" for i in range(n_clusters)]\n",
    "index = [\"marques\",\"noms\",\"puissances\",\"prix\",\"longueurs\",\"nbPlaces\",\"nbPortes\",\"bonus_malus\",\"rejets_co2_gkm\",\"cout_energie\",\"nbVehicules\"]\n",
    "clusters_data = pd.DataFrame(index=index,columns=clusters_name)\n",
    "for i, vehicules_group in vehicules_groups:\n",
    "    col = [] \n",
    "    col.append(str(vehicules_group.marque.unique()))\n",
    "    col.append(str(vehicules_group.nom.unique()))\n",
    "    col.append(f\"{vehicules_group.puissance.min()}-{vehicules_group.puissance.max()}\")\n",
    "    col.append(f\"{vehicules_group.prix.min()}-{vehicules_group.prix.max()}\")\n",
    "    col.append(str(vehicules_group.longueur.unique()))\n",
    "    col.append(vehicules_group.nbPlaces.mode()[0])\n",
    "    col.append(vehicules_group.nbPortes.mode()[0])\n",
    "    col.append(f\"{vehicules_group.bonus_malus.min()}-{vehicules_group.bonus_malus.max()}\")\n",
    "    col.append(f\"{vehicules_group.rejets_co2_gkm.min()}-{vehicules_group.rejets_co2_gkm.max()}\")\n",
    "    col.append(f\"{vehicules_group.cout_energie.min()}-{vehicules_group.cout_energie.max()}\")\n",
    "    col.append(vehicules_group.shape[0])\n",
    "    clusters_data.iloc[:,i] = col \n",
    "display(clusters_data)"
   ]
  },
  {
   "cell_type": "code",
   "execution_count": null,
   "id": "de8d7405-c20e-4d7b-86b0-42e04a11d756",
   "metadata": {},
   "outputs": [],
   "source": [
    "Faire une analyse en décrivant le contenu de chaque cluster puis attribué des noms au cluster"
   ]
  },
  {
   "cell_type": "code",
   "execution_count": 19,
   "id": "1a4374d0-8186-44d6-8d2e-5d73584a09a8",
   "metadata": {
    "id": "1a4374d0-8186-44d6-8d2e-5d73584a09a8",
    "tags": []
   },
   "outputs": [],
   "source": [
    "categories_map = {\n",
    "    0:\"Standard\",\n",
    "    1:\"Citadine\",\n",
    "    2:\"Luxe et sportive\",\n",
    "    3:\"Familiale\"\n",
    "}\n",
    "\n",
    "vehicules_categorie_naming = vehicules_categorie.copy()\n",
    "vehicules_categorie_naming[\"categorie\"] = vehicules_categorie_naming.categorie_label.map(categories_map)"
   ]
  },
  {
   "cell_type": "code",
   "execution_count": null,
   "id": "e1f450c5-6361-4c90-b5af-f1e46ef01d60",
   "metadata": {},
   "outputs": [],
   "source": []
  },
  {
   "cell_type": "code",
   "execution_count": null,
   "id": "924ff955-624e-47d9-9bf5-e72ed551f7fc",
   "metadata": {},
   "outputs": [],
   "source": []
  },
  {
   "cell_type": "code",
   "execution_count": null,
   "id": "c50fae72-2765-4131-8b6e-d15738d68ab7",
   "metadata": {},
   "outputs": [],
   "source": []
  },
  {
   "cell_type": "code",
   "execution_count": null,
   "id": "6925f840-115f-4e72-b987-d9eb310b469a",
   "metadata": {},
   "outputs": [],
   "source": []
  },
  {
   "cell_type": "code",
   "execution_count": null,
   "id": "724909d1-e484-4a7f-afe4-539a7e41836a",
   "metadata": {},
   "outputs": [],
   "source": []
  },
  {
   "cell_type": "code",
   "execution_count": null,
   "id": "bd77625e-1393-46ad-80bf-c89b00da05d0",
   "metadata": {},
   "outputs": [],
   "source": []
  },
  {
   "cell_type": "code",
   "execution_count": null,
   "id": "93b57b3b-1124-45d5-8f1c-d3535c8acd59",
   "metadata": {},
   "outputs": [],
   "source": []
  },
  {
   "cell_type": "code",
   "execution_count": null,
   "id": "c0eb8fe3-d538-4477-81e0-451d220dbf18",
   "metadata": {},
   "outputs": [],
   "source": []
  },
  {
   "cell_type": "code",
   "execution_count": null,
   "id": "72a761c2-a89a-4c43-924c-05156f26764e",
   "metadata": {},
   "outputs": [],
   "source": []
  },
  {
   "cell_type": "markdown",
   "id": "qwNPiV6JCJ2C",
   "metadata": {
    "id": "qwNPiV6JCJ2C"
   },
   "source": [
    "## Attribution des categories dans Immatriculation"
   ]
  },
  {
   "cell_type": "markdown",
   "id": "0ad398ee-7c4b-4aff-8fc8-46183b46cb58",
   "metadata": {},
   "source": [
    "On prédit les clusters (categories) des vehicules contenu dans immatriculation."
   ]
  },
  {
   "cell_type": "code",
   "execution_count": 20,
   "id": "dcf53723-c45e-4c6d-a622-5edeadf81b7c",
   "metadata": {
    "id": "dcf53723-c45e-4c6d-a622-5edeadf81b7c",
    "tags": []
   },
   "outputs": [],
   "source": [
    "imatriculations = pd.read_csv(\"data/Immatriculations.csv\", encoding='latin-1')"
   ]
  },
  {
   "cell_type": "code",
   "execution_count": 21,
   "id": "7c383068-30ef-4653-88f7-96d14ec02b61",
   "metadata": {
    "id": "7c383068-30ef-4653-88f7-96d14ec02b61",
    "tags": []
   },
   "outputs": [],
   "source": [
    "X_im = pipeline.transform(imatriculations)\n",
    "categorie_predict = categorieClusteringModel.predict(X_im)"
   ]
  },
  {
   "cell_type": "markdown",
   "id": "aef02de4-3a88-4745-9ff0-9d12a035ffe8",
   "metadata": {
    "id": "aef02de4-3a88-4745-9ff0-9d12a035ffe8",
    "tags": []
   },
   "source": [
    "## Visualisation des résultats"
   ]
  },
  {
   "cell_type": "code",
   "execution_count": 22,
   "id": "f3c0f8e7-68be-44ea-bde9-2f463f34b767",
   "metadata": {
    "colab": {
     "base_uri": "https://localhost:8080/",
     "height": 268
    },
    "id": "f3c0f8e7-68be-44ea-bde9-2f463f34b767",
    "outputId": "49e88541-7f0f-4ec6-a912-2e002d54ba59",
    "tags": []
   },
   "outputs": [
    {
     "data": {
      "image/png": "[encoded data removed]",
      "text/plain": [
       "<Figure size 640x480 with 1 Axes>"
      ]
     },
     "metadata": {},
     "output_type": "display_data"
    }
   ],
   "source": [
    "X_pca = pca.fit_transform(X_im)\n",
    "colors = cm.nipy_spectral(categorie_predict.astype(float) / n_clusters)     \n",
    "center_clusters_pca = get_center_clusters(n_clusters, categorie_predict, X_pca)\n",
    "\n",
    "plt.scatter(X_pca[:, 0], X_pca[:, 1], c=colors)\n",
    "plt.scatter(center_clusters_pca[:, 0],center_clusters_pca[:, 1],marker=\"o\",c=\"white\",alpha=1,s=200,edgecolor=\"k\")\n",
    "\n",
    "for i, c in enumerate(center_clusters_pca):\n",
    "    plt.scatter(c[0], c[1], marker=\"$%d$\" % i, alpha=1, s=50, edgecolor=\"k\")\n",
    "\n",
    "plt.show()"
   ]
  },
  {
   "cell_type": "code",
   "execution_count": 23,
   "id": "887723ed-57ce-4317-be64-93795f3748b9",
   "metadata": {
    "colab": {
     "base_uri": "https://localhost:8080/",
     "height": 300
    },
    "id": "887723ed-57ce-4317-be64-93795f3748b9",
    "outputId": "b4f1d785-4909-4ed5-c5b7-119be26f9115",
    "tags": []
   },
   "outputs": [
    {
     "data": {
      "text/html": [
       "<div>\n",
       "<style scoped>\n",
       "    .dataframe tbody tr th:only-of-type {\n",
       "        vertical-align: middle;\n",
       "    }\n",
       "\n",
       "    .dataframe tbody tr th {\n",
       "        vertical-align: top;\n",
       "    }\n",
       "\n",
       "    .dataframe thead th {\n",
       "        text-align: right;\n",
       "    }\n",
       "</style>\n",
       "<table border=\"1\" class=\"dataframe\">\n",
       "  <thead>\n",
       "    <tr style=\"text-align: right;\">\n",
       "      <th></th>\n",
       "      <th>Cluster 0</th>\n",
       "      <th>Cluster 1</th>\n",
       "      <th>Cluster 2</th>\n",
       "      <th>Cluster 3</th>\n",
       "    </tr>\n",
       "  </thead>\n",
       "  <tbody>\n",
       "    <tr>\n",
       "      <th>marques</th>\n",
       "      <td>['Volkswagen' 'Renault' 'Mercedes' 'BMW' 'Daci...</td>\n",
       "      <td>['Peugeot' 'Audi' 'Volkswagen' 'Kia' 'Daihatsu...</td>\n",
       "      <td>['Volvo' 'BMW' 'Mercedes' 'Renault']</td>\n",
       "      <td>['Renault' 'Skoda' 'Saab' 'Jaguar' 'Volvo' 'Fo...</td>\n",
       "    </tr>\n",
       "    <tr>\n",
       "      <th>noms</th>\n",
       "      <td>['Golf 2.0 FSI' 'Megane 2.0 16V' 'A200' '120i'...</td>\n",
       "      <td>['1007 1.4' 'A2 1.4' 'Polo 1.2 6V' 'Picanto 1....</td>\n",
       "      <td>['S80 T6' 'M5' 'S500' 'Vel Satis 3.5 V6']</td>\n",
       "      <td>['Laguna 2.0T' 'Superb 2.8 V6' '9.3 1.8T' 'X-T...</td>\n",
       "    </tr>\n",
       "    <tr>\n",
       "      <th>puissances</th>\n",
       "      <td>90-150</td>\n",
       "      <td>55-115</td>\n",
       "      <td>245-507</td>\n",
       "      <td>102-272</td>\n",
       "    </tr>\n",
       "    <tr>\n",
       "      <th>prix</th>\n",
       "      <td>7500-28500</td>\n",
       "      <td>8540-18310</td>\n",
       "      <td>49200-101300</td>\n",
       "      <td>16730-38600</td>\n",
       "    </tr>\n",
       "    <tr>\n",
       "      <th>longueurs</th>\n",
       "      <td>['moyenne']</td>\n",
       "      <td>['courte']</td>\n",
       "      <td>['très longue']</td>\n",
       "      <td>['longue' 'très longue']</td>\n",
       "    </tr>\n",
       "    <tr>\n",
       "      <th>nbPlaces</th>\n",
       "      <td>5</td>\n",
       "      <td>5</td>\n",
       "      <td>5</td>\n",
       "      <td>5</td>\n",
       "    </tr>\n",
       "    <tr>\n",
       "      <th>nbPortes</th>\n",
       "      <td>5</td>\n",
       "      <td>5</td>\n",
       "      <td>5</td>\n",
       "      <td>5</td>\n",
       "    </tr>\n",
       "    <tr>\n",
       "      <th>nbVehicules</th>\n",
       "      <td>231278</td>\n",
       "      <td>549666</td>\n",
       "      <td>541076</td>\n",
       "      <td>677980</td>\n",
       "    </tr>\n",
       "  </tbody>\n",
       "</table>\n",
       "</div>"
      ],
      "text/plain": [
       "                                                     Cluster 0  \\\n",
       "marques      ['Volkswagen' 'Renault' 'Mercedes' 'BMW' 'Daci...   \n",
       "noms         ['Golf 2.0 FSI' 'Megane 2.0 16V' 'A200' '120i'...   \n",
       "puissances                                              90-150   \n",
       "prix                                                7500-28500   \n",
       "longueurs                                          ['moyenne']   \n",
       "nbPlaces                                                     5   \n",
       "nbPortes                                                     5   \n",
       "nbVehicules                                             231278   \n",
       "\n",
       "                                                     Cluster 1  \\\n",
       "marques      ['Peugeot' 'Audi' 'Volkswagen' 'Kia' 'Daihatsu...   \n",
       "noms         ['1007 1.4' 'A2 1.4' 'Polo 1.2 6V' 'Picanto 1....   \n",
       "puissances                                              55-115   \n",
       "prix                                                8540-18310   \n",
       "longueurs                                           ['courte']   \n",
       "nbPlaces                                                     5   \n",
       "nbPortes                                                     5   \n",
       "nbVehicules                                             549666   \n",
       "\n",
       "                                             Cluster 2  \\\n",
       "marques           ['Volvo' 'BMW' 'Mercedes' 'Renault']   \n",
       "noms         ['S80 T6' 'M5' 'S500' 'Vel Satis 3.5 V6']   \n",
       "puissances                                     245-507   \n",
       "prix                                      49200-101300   \n",
       "longueurs                              ['très longue']   \n",
       "nbPlaces                                             5   \n",
       "nbPortes                                             5   \n",
       "nbVehicules                                     541076   \n",
       "\n",
       "                                                     Cluster 3  \n",
       "marques      ['Renault' 'Skoda' 'Saab' 'Jaguar' 'Volvo' 'Fo...  \n",
       "noms         ['Laguna 2.0T' 'Superb 2.8 V6' '9.3 1.8T' 'X-T...  \n",
       "puissances                                             102-272  \n",
       "prix                                               16730-38600  \n",
       "longueurs                             ['longue' 'très longue']  \n",
       "nbPlaces                                                     5  \n",
       "nbPortes                                                     5  \n",
       "nbVehicules                                             677980  "
      ]
     },
     "metadata": {},
     "output_type": "display_data"
    }
   ],
   "source": [
    "results = imatriculations.copy()\n",
    "results[\"categorie_label\"] = categorie_predict\n",
    "vehicules_groups = results.groupby(\"categorie_label\")\n",
    "clusters_name = [f\"Cluster {i}\" for i in range(n_clusters)]\n",
    "index = [\"marques\",\"noms\",\"puissances\",\"prix\",\"longueurs\",\"nbPlaces\",\"nbPortes\",\"nbVehicules\"]\n",
    "clusters_data = pd.DataFrame(index=index,columns=clusters_name)\n",
    "for i, vehicules_group in vehicules_groups:\n",
    "    col = [] \n",
    "    col.append(str(vehicules_group.marque.unique()))\n",
    "    col.append(str(vehicules_group.nom.unique()))\n",
    "    col.append(f\"{vehicules_group.puissance.min()}-{vehicules_group.puissance.max()}\")\n",
    "    col.append(f\"{vehicules_group.prix.min()}-{vehicules_group.prix.max()}\")\n",
    "    col.append(str(vehicules_group.longueur.unique()))\n",
    "    col.append(vehicules_group.nbPlaces.mode()[0])\n",
    "    col.append(vehicules_group.nbPortes.mode()[0])\n",
    "    col.append(vehicules_group.shape[0])\n",
    "    clusters_data.iloc[:,i] = col \n",
    "display(clusters_data)"
   ]
  },
  {
   "cell_type": "markdown",
   "id": "76ac8104-4283-4703-8136-7c8996357ab0",
   "metadata": {
    "id": "76ac8104-4283-4703-8136-7c8996357ab0"
   },
   "source": [
    "D'abord, le graphique est conforme au graphique obtenu suite a l'entrainement de modèle de clustering. Ensuite, d'après le tableau les vehicules et caractériques obtenu sont similaires au précédent tableau on peut alors dire que le clustering est généralement correcte."
   ]
  },
  {
   "cell_type": "code",
   "execution_count": 121,
   "id": "OhHx7x_7erCb",
   "metadata": {
    "id": "OhHx7x_7erCb",
    "tags": []
   },
   "outputs": [
    {
     "data": {
      "text/html": [
       "<div>\n",
       "<style scoped>\n",
       "    .dataframe tbody tr th:only-of-type {\n",
       "        vertical-align: middle;\n",
       "    }\n",
       "\n",
       "    .dataframe tbody tr th {\n",
       "        vertical-align: top;\n",
       "    }\n",
       "\n",
       "    .dataframe thead th {\n",
       "        text-align: right;\n",
       "    }\n",
       "</style>\n",
       "<table border=\"1\" class=\"dataframe\">\n",
       "  <thead>\n",
       "    <tr style=\"text-align: right;\">\n",
       "      <th></th>\n",
       "      <th>immatriculation</th>\n",
       "      <th>marque</th>\n",
       "      <th>nom</th>\n",
       "      <th>puissance</th>\n",
       "      <th>longueur</th>\n",
       "      <th>nbPlaces</th>\n",
       "      <th>nbPortes</th>\n",
       "      <th>couleur</th>\n",
       "      <th>occasion</th>\n",
       "      <th>prix</th>\n",
       "      <th>categorie_label</th>\n",
       "    </tr>\n",
       "  </thead>\n",
       "  <tbody>\n",
       "    <tr>\n",
       "      <th>0</th>\n",
       "      <td>3176 TS 67</td>\n",
       "      <td>Renault</td>\n",
       "      <td>Laguna 2.0T</td>\n",
       "      <td>170</td>\n",
       "      <td>longue</td>\n",
       "      <td>5</td>\n",
       "      <td>5</td>\n",
       "      <td>blanc</td>\n",
       "      <td>False</td>\n",
       "      <td>27300</td>\n",
       "      <td>3</td>\n",
       "    </tr>\n",
       "    <tr>\n",
       "      <th>1</th>\n",
       "      <td>3721 QS 49</td>\n",
       "      <td>Volvo</td>\n",
       "      <td>S80 T6</td>\n",
       "      <td>272</td>\n",
       "      <td>très longue</td>\n",
       "      <td>5</td>\n",
       "      <td>5</td>\n",
       "      <td>noir</td>\n",
       "      <td>False</td>\n",
       "      <td>50500</td>\n",
       "      <td>2</td>\n",
       "    </tr>\n",
       "    <tr>\n",
       "      <th>2</th>\n",
       "      <td>9099 UV 26</td>\n",
       "      <td>Volkswagen</td>\n",
       "      <td>Golf 2.0 FSI</td>\n",
       "      <td>150</td>\n",
       "      <td>moyenne</td>\n",
       "      <td>5</td>\n",
       "      <td>5</td>\n",
       "      <td>gris</td>\n",
       "      <td>True</td>\n",
       "      <td>16029</td>\n",
       "      <td>0</td>\n",
       "    </tr>\n",
       "    <tr>\n",
       "      <th>3</th>\n",
       "      <td>3563 LA 55</td>\n",
       "      <td>Peugeot</td>\n",
       "      <td>1007 1.4</td>\n",
       "      <td>75</td>\n",
       "      <td>courte</td>\n",
       "      <td>5</td>\n",
       "      <td>5</td>\n",
       "      <td>blanc</td>\n",
       "      <td>True</td>\n",
       "      <td>9625</td>\n",
       "      <td>1</td>\n",
       "    </tr>\n",
       "    <tr>\n",
       "      <th>4</th>\n",
       "      <td>6963 AX 34</td>\n",
       "      <td>Audi</td>\n",
       "      <td>A2 1.4</td>\n",
       "      <td>75</td>\n",
       "      <td>courte</td>\n",
       "      <td>5</td>\n",
       "      <td>5</td>\n",
       "      <td>gris</td>\n",
       "      <td>False</td>\n",
       "      <td>18310</td>\n",
       "      <td>1</td>\n",
       "    </tr>\n",
       "  </tbody>\n",
       "</table>\n",
       "</div>"
      ],
      "text/plain": [
       "  immatriculation      marque           nom  puissance     longueur  nbPlaces  \\\n",
       "0      3176 TS 67     Renault   Laguna 2.0T        170       longue         5   \n",
       "1      3721 QS 49       Volvo        S80 T6        272  très longue         5   \n",
       "2      9099 UV 26  Volkswagen  Golf 2.0 FSI        150      moyenne         5   \n",
       "3      3563 LA 55     Peugeot      1007 1.4         75       courte         5   \n",
       "4      6963 AX 34        Audi        A2 1.4         75       courte         5   \n",
       "\n",
       "   nbPortes couleur  occasion   prix  categorie_label  \n",
       "0         5   blanc     False  27300                3  \n",
       "1         5    noir     False  50500                2  \n",
       "2         5    gris      True  16029                0  \n",
       "3         5   blanc      True   9625                1  \n",
       "4         5    gris     False  18310                1  "
      ]
     },
     "execution_count": 121,
     "metadata": {},
     "output_type": "execute_result"
    }
   ],
   "source": [
    "immatriculations = results.copy()\n",
    "immatriculations.head()"
   ]
  },
  {
   "cell_type": "code",
   "execution_count": null,
   "id": "c5be8c6d-ffcf-4dec-a13a-967cd610e96d",
   "metadata": {},
   "outputs": [],
   "source": []
  },
  {
   "cell_type": "code",
   "execution_count": null,
   "id": "5afbbb64-7da9-4988-9d64-bbf5b23bcbeb",
   "metadata": {},
   "outputs": [],
   "source": []
  },
  {
   "cell_type": "code",
   "execution_count": null,
   "id": "e67a0370-9113-4779-814c-3494745abc42",
   "metadata": {},
   "outputs": [],
   "source": []
  },
  {
   "cell_type": "code",
   "execution_count": null,
   "id": "f259900f-0aca-4909-b1d9-ad8a27fbde1b",
   "metadata": {},
   "outputs": [],
   "source": []
  },
  {
   "cell_type": "code",
   "execution_count": null,
   "id": "872b6bdf-57d0-4828-bad2-2016daf85802",
   "metadata": {},
   "outputs": [],
   "source": []
  },
  {
   "cell_type": "code",
   "execution_count": null,
   "id": "372815cc-03ef-4923-8d0e-ecd86920c228",
   "metadata": {},
   "outputs": [],
   "source": []
  },
  {
   "cell_type": "code",
   "execution_count": null,
   "id": "af89cd9b-2056-4ce9-aef7-fc8e0513b8cb",
   "metadata": {},
   "outputs": [],
   "source": []
  },
  {
   "cell_type": "code",
   "execution_count": null,
   "id": "ee47ab50-2e97-4f58-aba7-86de42fc416b",
   "metadata": {},
   "outputs": [],
   "source": []
  },
  {
   "cell_type": "code",
   "execution_count": null,
   "id": "30cfd1ed-a907-4f9d-a685-e485d3835b2b",
   "metadata": {},
   "outputs": [],
   "source": []
  },
  {
   "cell_type": "markdown",
   "id": "4bjwFjR_HGqo",
   "metadata": {
    "id": "4bjwFjR_HGqo"
   },
   "source": [
    "## Entraînement d'un modèle de prédiction de catégorie de véhicule"
   ]
  },
  {
   "cell_type": "markdown",
   "id": "d76d7abe-d93e-4182-81d7-c7b8108b130c",
   "metadata": {},
   "source": [
    "**Avant d'entrainer le modèle sur les clients il a fallu préparer les données des clients et les corriger. Expliquer les méthodologies, les faire les remarques importantes**"
   ]
  },
  {
   "cell_type": "markdown",
   "id": "GMTbHfpY4rLY",
   "metadata": {
    "id": "GMTbHfpY4rLY"
   },
   "source": [
    "#### 1. Préparation des données des clients"
   ]
  },
  {
   "cell_type": "markdown",
   "id": "0JooURnI5FYu",
   "metadata": {
    "id": "0JooURnI5FYu"
   },
   "source": [
    "##### 1.1 Chargement des données"
   ]
  },
  {
   "cell_type": "code",
   "execution_count": 27,
   "id": "PebmAyDC4YlE",
   "metadata": {
    "id": "PebmAyDC4YlE",
    "tags": []
   },
   "outputs": [],
   "source": [
    "clients_51 = pd.read_csv(\"data/Clients_51.csv\", encoding='latin-1')\n",
    "clients_52 = pd.read_csv(\"data/Clients_52.csv\", encoding='latin-1')\n",
    "clients_5 = pd.concat([clients_51, clients_52])"
   ]
  },
  {
   "cell_type": "code",
   "execution_count": 28,
   "id": "gy1utweq5pvf",
   "metadata": {
    "colab": {
     "base_uri": "https://localhost:8080/",
     "height": 206
    },
    "id": "gy1utweq5pvf",
    "outputId": "9a8ec24e-b62b-4140-ea04-1c57d5d2fcbf",
    "tags": []
   },
   "outputs": [
    {
     "data": {
      "text/html": [
       "<div>\n",
       "<style scoped>\n",
       "    .dataframe tbody tr th:only-of-type {\n",
       "        vertical-align: middle;\n",
       "    }\n",
       "\n",
       "    .dataframe tbody tr th {\n",
       "        vertical-align: top;\n",
       "    }\n",
       "\n",
       "    .dataframe thead th {\n",
       "        text-align: right;\n",
       "    }\n",
       "</style>\n",
       "<table border=\"1\" class=\"dataframe\">\n",
       "  <thead>\n",
       "    <tr style=\"text-align: right;\">\n",
       "      <th></th>\n",
       "      <th>age</th>\n",
       "      <th>sexe</th>\n",
       "      <th>taux</th>\n",
       "      <th>situationFamiliale</th>\n",
       "      <th>nbEnfantsAcharge</th>\n",
       "      <th>2eme voiture</th>\n",
       "      <th>immatriculation</th>\n",
       "    </tr>\n",
       "  </thead>\n",
       "  <tbody>\n",
       "    <tr>\n",
       "      <th>0</th>\n",
       "      <td>49</td>\n",
       "      <td>F</td>\n",
       "      <td>914</td>\n",
       "      <td>En Couple</td>\n",
       "      <td>1</td>\n",
       "      <td>false</td>\n",
       "      <td>2170 DJ 60</td>\n",
       "    </tr>\n",
       "    <tr>\n",
       "      <th>1</th>\n",
       "      <td>18</td>\n",
       "      <td>M</td>\n",
       "      <td>563</td>\n",
       "      <td>En Couple</td>\n",
       "      <td>4</td>\n",
       "      <td>false</td>\n",
       "      <td>8132 RT 49</td>\n",
       "    </tr>\n",
       "    <tr>\n",
       "      <th>2</th>\n",
       "      <td>82</td>\n",
       "      <td>M</td>\n",
       "      <td>417</td>\n",
       "      <td>Célibataire</td>\n",
       "      <td>0</td>\n",
       "      <td>false</td>\n",
       "      <td>4764 CE 84</td>\n",
       "    </tr>\n",
       "    <tr>\n",
       "      <th>3</th>\n",
       "      <td>72</td>\n",
       "      <td>M</td>\n",
       "      <td>442</td>\n",
       "      <td>En Couple</td>\n",
       "      <td>4</td>\n",
       "      <td>false</td>\n",
       "      <td>6239 YO 57</td>\n",
       "    </tr>\n",
       "    <tr>\n",
       "      <th>4</th>\n",
       "      <td>41</td>\n",
       "      <td>M</td>\n",
       "      <td>592</td>\n",
       "      <td>Célibataire</td>\n",
       "      <td>0</td>\n",
       "      <td>false</td>\n",
       "      <td>9318 FD 10</td>\n",
       "    </tr>\n",
       "  </tbody>\n",
       "</table>\n",
       "</div>"
      ],
      "text/plain": [
       "  age sexe taux situationFamiliale nbEnfantsAcharge 2eme voiture  \\\n",
       "0  49    F  914          En Couple                1        false   \n",
       "1  18    M  563          En Couple                4        false   \n",
       "2  82    M  417        Célibataire                0        false   \n",
       "3  72    M  442          En Couple                4        false   \n",
       "4  41    M  592        Célibataire                0        false   \n",
       "\n",
       "  immatriculation  \n",
       "0      2170 DJ 60  \n",
       "1      8132 RT 49  \n",
       "2      4764 CE 84  \n",
       "3      6239 YO 57  \n",
       "4      9318 FD 10  "
      ]
     },
     "execution_count": 28,
     "metadata": {},
     "output_type": "execute_result"
    }
   ],
   "source": [
    "clients_5.head()"
   ]
  },
  {
   "cell_type": "code",
   "execution_count": 29,
   "id": "fktF-SQhXCWm",
   "metadata": {
    "id": "fktF-SQhXCWm",
    "tags": []
   },
   "outputs": [],
   "source": [
    "clients_5.rename(columns={\"2eme voiture\" : \"2emevoiture\"}, inplace=True)"
   ]
  },
  {
   "cell_type": "code",
   "execution_count": 30,
   "id": "BRkZW0ZZ6oU9",
   "metadata": {
    "id": "BRkZW0ZZ6oU9",
    "tags": []
   },
   "outputs": [],
   "source": [
    "clients_data = clients_5.copy()"
   ]
  },
  {
   "cell_type": "markdown",
   "id": "ezr6T4rVLYbn",
   "metadata": {
    "id": "ezr6T4rVLYbn"
   },
   "source": [
    "##### 1.2 Détection des valeurs manquantes"
   ]
  },
  {
   "cell_type": "code",
   "execution_count": 31,
   "id": "siZQdS52LLA_",
   "metadata": {
    "colab": {
     "base_uri": "https://localhost:8080/"
    },
    "id": "siZQdS52LLA_",
    "outputId": "718894dd-8ecc-4c33-80f5-8e5a64ffb725",
    "tags": []
   },
   "outputs": [
    {
     "data": {
      "text/plain": [
       "age                   0\n",
       "sexe                  0\n",
       "taux                  0\n",
       "situationFamiliale    0\n",
       "nbEnfantsAcharge      0\n",
       "2emevoiture           0\n",
       "immatriculation       0\n",
       "dtype: int64"
      ]
     },
     "execution_count": 31,
     "metadata": {},
     "output_type": "execute_result"
    }
   ],
   "source": [
    "clients_data.isnull().sum()"
   ]
  },
  {
   "cell_type": "markdown",
   "id": "D0clnneLLoxL",
   "metadata": {
    "id": "D0clnneLLoxL"
   },
   "source": [
    "Il n'y a pas de valeurs manquantes a priori"
   ]
  },
  {
   "cell_type": "markdown",
   "id": "32982567-ee0d-424e-b8bd-fc9f158633cc",
   "metadata": {
    "tags": []
   },
   "source": [
    "**Faire les liste des problèmes du jeu de données**. Faire un tableau résumant les problèmes | Méthodologie : Identifié les problèmes et les corriger"
   ]
  },
  {
   "cell_type": "code",
   "execution_count": 32,
   "id": "MHEyuBxELs6V",
   "metadata": {
    "colab": {
     "base_uri": "https://localhost:8080/"
    },
    "id": "MHEyuBxELs6V",
    "outputId": "188a0f54-6934-4b45-d54b-025e032c7afa",
    "tags": []
   },
   "outputs": [
    {
     "data": {
      "text/plain": [
       "age                   object\n",
       "sexe                  object\n",
       "taux                  object\n",
       "situationFamiliale    object\n",
       "nbEnfantsAcharge      object\n",
       "2emevoiture           object\n",
       "immatriculation       object\n",
       "dtype: object"
      ]
     },
     "execution_count": 32,
     "metadata": {},
     "output_type": "execute_result"
    }
   ],
   "source": [
    "clients_data.dtypes"
   ]
  },
  {
   "cell_type": "markdown",
   "id": "Uc2WYSsmL2hT",
   "metadata": {
    "id": "Uc2WYSsmL2hT"
   },
   "source": [
    "* Age est de type object alors qu'il doit être de type numérique\n",
    "* Taux est de type object alors qu'il doit être de type numérique\n",
    "* Nombre d'enfant est de type object alors qu'il doit être de type numérique\n",
    "* 2ème véhicule est de type object alors qu'il doit être de type booléen"
   ]
  },
  {
   "cell_type": "markdown",
   "id": "S9sD4_Q2TGph",
   "metadata": {
    "id": "S9sD4_Q2TGph"
   },
   "source": [
    "Correction des types"
   ]
  },
  {
   "cell_type": "code",
   "execution_count": 33,
   "id": "sb_W95FyVq2N",
   "metadata": {
    "id": "sb_W95FyVq2N",
    "tags": []
   },
   "outputs": [],
   "source": [
    "clients_data.age = pd.to_numeric(clients_data.age, errors=\"coerce\")\n",
    "clients_data.taux = pd.to_numeric(clients_data.taux, errors=\"coerce\")\n",
    "clients_data.nbEnfantsAcharge = pd.to_numeric(clients_data.nbEnfantsAcharge, errors=\"coerce\")"
   ]
  },
  {
   "cell_type": "code",
   "execution_count": 34,
   "id": "Q5ka1FcwUwRX",
   "metadata": {
    "colab": {
     "base_uri": "https://localhost:8080/",
     "height": 468
    },
    "id": "Q5ka1FcwUwRX",
    "outputId": "aa42def1-4a1b-43d4-d918-d3455bf66892",
    "tags": []
   },
   "outputs": [
    {
     "data": {
      "text/plain": [
       "age                   float64\n",
       "sexe                   object\n",
       "taux                  float64\n",
       "situationFamiliale     object\n",
       "nbEnfantsAcharge      float64\n",
       "2emevoiture            object\n",
       "immatriculation        object\n",
       "dtype: object"
      ]
     },
     "metadata": {},
     "output_type": "display_data"
    },
    {
     "name": "stdout",
     "output_type": "stream",
     "text": [
      "__________________________________________________\n"
     ]
    },
    {
     "data": {
      "text/plain": [
       "age                   388\n",
       "sexe                    0\n",
       "taux                  417\n",
       "situationFamiliale      0\n",
       "nbEnfantsAcharge      401\n",
       "2emevoiture             0\n",
       "immatriculation         0\n",
       "dtype: int64"
      ]
     },
     "metadata": {},
     "output_type": "display_data"
    },
    {
     "name": "stdout",
     "output_type": "stream",
     "text": [
      "__________________________________________________\n"
     ]
    },
    {
     "data": {
      "text/plain": [
       "age                     0\n",
       "sexe                  586\n",
       "taux                    0\n",
       "situationFamiliale    632\n",
       "nbEnfantsAcharge        0\n",
       "2emevoiture           386\n",
       "immatriculation         0\n",
       "dtype: int64"
      ]
     },
     "execution_count": 34,
     "metadata": {},
     "output_type": "execute_result"
    }
   ],
   "source": [
    "display(clients_data.dtypes)\n",
    "print(\"_\"*50)\n",
    "display(clients_data.isnull().sum())\n",
    "print(\"_\"*50)\n",
    "clients_data.isin([\" \", \"?\", \"N/D\", \"-1\"]).sum()"
   ]
  },
  {
   "cell_type": "markdown",
   "id": "6B3BwgHrTpCK",
   "metadata": {
    "id": "6B3BwgHrTpCK"
   },
   "source": [
    "Il faudra vérifier et corriger chaque colonne"
   ]
  },
  {
   "cell_type": "code",
   "execution_count": 35,
   "id": "uDKGgrYNSUIh",
   "metadata": {
    "id": "uDKGgrYNSUIh",
    "tags": []
   },
   "outputs": [],
   "source": [
    "clients_data.replace([\" \", \"?\", \"N/D\", \"-1\",-1],np.nan,inplace=True)"
   ]
  },
  {
   "cell_type": "markdown",
   "id": "9a4e5da9-fbc3-4196-9cc5-3e7dc519fc5f",
   "metadata": {
    "tags": []
   },
   "source": [
    "**Remplacement des valeurs bizarres par Nan**"
   ]
  },
  {
   "cell_type": "code",
   "execution_count": 36,
   "id": "2h4Z7zk1Sy54",
   "metadata": {
    "colab": {
     "base_uri": "https://localhost:8080/"
    },
    "id": "2h4Z7zk1Sy54",
    "outputId": "4d3b1579-e635-4f1e-ffcf-921dd8e8c397",
    "tags": []
   },
   "outputs": [
    {
     "data": {
      "text/plain": [
       "age                   569\n",
       "sexe                  586\n",
       "taux                  641\n",
       "situationFamiliale    632\n",
       "nbEnfantsAcharge      604\n",
       "2emevoiture           386\n",
       "immatriculation         0\n",
       "dtype: int64"
      ]
     },
     "execution_count": 36,
     "metadata": {},
     "output_type": "execute_result"
    }
   ],
   "source": [
    "clients_data.isnull().sum()"
   ]
  },
  {
   "cell_type": "markdown",
   "id": "5CRNZ_S3dE7Z",
   "metadata": {
    "id": "5CRNZ_S3dE7Z"
   },
   "source": [
    "##### 1.3 Nettoyage des données"
   ]
  },
  {
   "cell_type": "markdown",
   "id": "X4MoJudjNM4I",
   "metadata": {
    "id": "X4MoJudjNM4I"
   },
   "source": [
    "###### 1.3.1 **Vérification de l'âge**"
   ]
  },
  {
   "cell_type": "code",
   "execution_count": 37,
   "id": "mQrAm15QMhbr",
   "metadata": {
    "colab": {
     "base_uri": "https://localhost:8080/"
    },
    "id": "mQrAm15QMhbr",
    "outputId": "35f6459b-e43a-41de-97a4-d5960b0e763c",
    "tags": []
   },
   "outputs": [
    {
     "data": {
      "text/plain": [
       "array([49., 18., 82., 72., 41., 54., 30., 56., 73., 31., 34., 70., 39.,\n",
       "       77., 40., 62., 35., 50., 37., 38., 19., 66., 26., 27., 44., 60.,\n",
       "       24., 43., 48., 65., 51., 21., 81., 52., 25., 20., 57., 84., 28.,\n",
       "       23., 45., 47., 53., 22., 42., 80., 59., 58., 32., 71., 33., 74.,\n",
       "       29., 79., 46., 61., 55., 67., 83., 76., 68., 69., 63., nan, 75.,\n",
       "       64., 36., 78.])"
      ]
     },
     "execution_count": 37,
     "metadata": {},
     "output_type": "execute_result"
    }
   ],
   "source": [
    "clients_data.age.unique()"
   ]
  },
  {
   "cell_type": "markdown",
   "id": "rMif6z7eC60g",
   "metadata": {
    "id": "rMif6z7eC60g"
   },
   "source": [
    "###### 1.3.2 **Vérification du sexe**"
   ]
  },
  {
   "cell_type": "markdown",
   "id": "ebf2419a-5dd4-46d5-a05a-6ef76000da59",
   "metadata": {},
   "source": [
    "**Domaine de valeur incorrecte**"
   ]
  },
  {
   "cell_type": "code",
   "execution_count": 38,
   "id": "ZypbNf4TDPuH",
   "metadata": {
    "colab": {
     "base_uri": "https://localhost:8080/"
    },
    "id": "ZypbNf4TDPuH",
    "outputId": "bea76f45-6dbc-4c7a-9850-3e9c5b63e4b8",
    "tags": []
   },
   "outputs": [
    {
     "data": {
      "text/plain": [
       "M           136690\n",
       "F            58772\n",
       "Masculin      1378\n",
       "Homme         1332\n",
       "Femme          651\n",
       "Féminin        591\n",
       "Name: sexe, dtype: int64"
      ]
     },
     "execution_count": 38,
     "metadata": {},
     "output_type": "execute_result"
    }
   ],
   "source": [
    "clients_data.sexe.value_counts()"
   ]
  },
  {
   "cell_type": "code",
   "execution_count": 39,
   "id": "semNsSGfEbzL",
   "metadata": {
    "id": "semNsSGfEbzL",
    "tags": []
   },
   "outputs": [],
   "source": [
    "clients_data[\"sexe\"] = sexe_vals = clients_data.sexe.map({\n",
    "    \"Masculin\":\"M\",\n",
    "    \"Homme\":\"M\",\n",
    "    \"Femme\":\"F\",\n",
    "    \"Féminin\":\"F\",\n",
    "    \"M\":\"M\",\n",
    "    \"F\":\"F\"\n",
    "})"
   ]
  },
  {
   "cell_type": "code",
   "execution_count": 40,
   "id": "93BJBztmGJog",
   "metadata": {
    "colab": {
     "base_uri": "https://localhost:8080/"
    },
    "id": "93BJBztmGJog",
    "outputId": "4cf22a02-e3c1-4d90-ea20-7be6137898db",
    "tags": []
   },
   "outputs": [
    {
     "data": {
      "text/plain": [
       "M    139400\n",
       "F     60014\n",
       "Name: sexe, dtype: int64"
      ]
     },
     "execution_count": 40,
     "metadata": {},
     "output_type": "execute_result"
    }
   ],
   "source": [
    "clients_data.sexe.value_counts()"
   ]
  },
  {
   "cell_type": "markdown",
   "id": "tcTRGKprPgvC",
   "metadata": {
    "id": "tcTRGKprPgvC"
   },
   "source": [
    "###### 1.3.3 **Vérification du taux**"
   ]
  },
  {
   "cell_type": "code",
   "execution_count": 41,
   "id": "23Z_vh9BHpo6",
   "metadata": {
    "colab": {
     "base_uri": "https://localhost:8080/",
     "height": 52
    },
    "id": "23Z_vh9BHpo6",
    "outputId": "3b5f3c1d-3cc1-4fcf-f176-14a9f1de89ba",
    "tags": []
   },
   "outputs": [
    {
     "data": {
      "text/plain": [
       "array([ 914.,  563.,  417., ..., 1144., 1170., 1373.])"
      ]
     },
     "metadata": {},
     "output_type": "display_data"
    },
    {
     "data": {
      "text/plain": [
       "dtype('float64')"
      ]
     },
     "metadata": {},
     "output_type": "display_data"
    }
   ],
   "source": [
    "display(clients_data.taux.unique())\n",
    "display(clients_data.taux.dtypes)"
   ]
  },
  {
   "cell_type": "markdown",
   "id": "wV_Gw_xGUlLo",
   "metadata": {
    "id": "wV_Gw_xGUlLo"
   },
   "source": [
    "###### 1.3.4 **Vérification du nombre d'enfants**"
   ]
  },
  {
   "cell_type": "code",
   "execution_count": 42,
   "id": "Z4VYMiEjUbb3",
   "metadata": {
    "colab": {
     "base_uri": "https://localhost:8080/"
    },
    "id": "Z4VYMiEjUbb3",
    "outputId": "1d10d2fa-c410-4daa-a1ea-24ead3911fd6",
    "tags": []
   },
   "outputs": [
    {
     "data": {
      "text/plain": [
       "0.0    89928\n",
       "2.0    33369\n",
       "1.0    32932\n",
       "3.0    23125\n",
       "4.0    20042\n",
       "Name: nbEnfantsAcharge, dtype: int64"
      ]
     },
     "execution_count": 42,
     "metadata": {},
     "output_type": "execute_result"
    }
   ],
   "source": [
    "clients_data.nbEnfantsAcharge.value_counts()"
   ]
  },
  {
   "cell_type": "markdown",
   "id": "5_6Nq6iDMcrn",
   "metadata": {
    "id": "5_6Nq6iDMcrn"
   },
   "source": [
    "###### 1.2.5 **Vérification 2eme voiture**"
   ]
  },
  {
   "cell_type": "markdown",
   "id": "c353d5f1-11f1-414c-aa4c-c872eb9a33e4",
   "metadata": {},
   "source": [
    "**Correction du type**"
   ]
  },
  {
   "cell_type": "code",
   "execution_count": 43,
   "id": "q5IWfZNGMcPf",
   "metadata": {
    "colab": {
     "base_uri": "https://localhost:8080/"
    },
    "id": "q5IWfZNGMcPf",
    "outputId": "fe725d11-fcaf-4297-e9d5-4b2f23b603ff",
    "tags": []
   },
   "outputs": [
    {
     "data": {
      "text/plain": [
       "false    173756\n",
       "true      25858\n",
       "Name: 2emevoiture, dtype: int64"
      ]
     },
     "execution_count": 43,
     "metadata": {},
     "output_type": "execute_result"
    }
   ],
   "source": [
    "clients_data[\"2emevoiture\"].value_counts()"
   ]
  },
  {
   "cell_type": "code",
   "execution_count": 44,
   "id": "CoqZKc0vM7qZ",
   "metadata": {
    "id": "CoqZKc0vM7qZ",
    "tags": []
   },
   "outputs": [],
   "source": [
    "clients_data[\"2emevoiture\"] = clients_data[\"2emevoiture\"].map({\n",
    "    \"true\":True,\n",
    "    \"false\":False\n",
    "})"
   ]
  },
  {
   "cell_type": "code",
   "execution_count": 45,
   "id": "WTqkoHfKNK9O",
   "metadata": {
    "colab": {
     "base_uri": "https://localhost:8080/"
    },
    "id": "WTqkoHfKNK9O",
    "outputId": "477c39c6-6df3-4f79-dec5-a147789a71fa",
    "tags": []
   },
   "outputs": [
    {
     "data": {
      "text/plain": [
       "False    173756\n",
       "True      25858\n",
       "Name: 2emevoiture, dtype: int64"
      ]
     },
     "execution_count": 45,
     "metadata": {},
     "output_type": "execute_result"
    }
   ],
   "source": [
    "clients_data[\"2emevoiture\"].value_counts()"
   ]
  },
  {
   "cell_type": "markdown",
   "id": "2StTnZYVcs7z",
   "metadata": {
    "id": "2StTnZYVcs7z"
   },
   "source": [
    "###### 1.3.6 **Vérification situation familiale**"
   ]
  },
  {
   "cell_type": "markdown",
   "id": "04767526-75bc-45d7-82e8-e54c548648eb",
   "metadata": {
    "tags": []
   },
   "source": [
    "**Correction du domaine de valeurs**"
   ]
  },
  {
   "cell_type": "code",
   "execution_count": 46,
   "id": "mRFIxiSgcrdj",
   "metadata": {
    "colab": {
     "base_uri": "https://localhost:8080/"
    },
    "id": "mRFIxiSgcrdj",
    "outputId": "d1b7c5f3-da70-49da-c684-dac354acf4a6",
    "tags": []
   },
   "outputs": [
    {
     "data": {
      "text/plain": [
       "En Couple      128121\n",
       "Célibataire     59415\n",
       "Seule            9825\n",
       "Marié(e)         1317\n",
       "Seul              588\n",
       "Divorcée          102\n",
       "Name: situationFamiliale, dtype: int64"
      ]
     },
     "execution_count": 46,
     "metadata": {},
     "output_type": "execute_result"
    }
   ],
   "source": [
    "clients_data.situationFamiliale.value_counts()"
   ]
  },
  {
   "cell_type": "code",
   "execution_count": 47,
   "id": "CmrQR-dKcrdi",
   "metadata": {
    "id": "CmrQR-dKcrdi",
    "tags": []
   },
   "outputs": [],
   "source": [
    "clients_data.situationFamiliale = clients_data.situationFamiliale.map({\n",
    "    \"En Couple\": \"En Couple\", \n",
    "    \"Célibataire\": \"Célibataire\",\n",
    "    \"Seule\" : \"Célibataire\", \n",
    "    \"Marié(e)\" : \"En Couple\", \n",
    "    \"Seul\" : \"Célibataire\",\n",
    "    \"Divorcée\": \"Célibataire\"\n",
    "})"
   ]
  },
  {
   "cell_type": "code",
   "execution_count": 48,
   "id": "fyoLrCDNcrdj",
   "metadata": {
    "colab": {
     "base_uri": "https://localhost:8080/",
     "height": 69
    },
    "id": "fyoLrCDNcrdj",
    "outputId": "deb2348c-77dc-49d4-af7b-d6e492e929b9",
    "tags": []
   },
   "outputs": [
    {
     "data": {
      "text/plain": [
       "En Couple      129438\n",
       "Célibataire     69930\n",
       "Name: situationFamiliale, dtype: int64"
      ]
     },
     "metadata": {},
     "output_type": "display_data"
    }
   ],
   "source": [
    "display(clients_data.situationFamiliale.value_counts())"
   ]
  },
  {
   "cell_type": "markdown",
   "id": "cR3OD92nPKRP",
   "metadata": {
    "id": "cR3OD92nPKRP"
   },
   "source": [
    "###### **Bilan des valeurs manquantes**"
   ]
  },
  {
   "cell_type": "markdown",
   "id": "KRKip8CIcVDL",
   "metadata": {
    "id": "KRKip8CIcVDL"
   },
   "source": [
    "Pourcentage des lignes manquantes."
   ]
  },
  {
   "cell_type": "code",
   "execution_count": 125,
   "id": "y_BNgp2WNJ1x",
   "metadata": {
    "colab": {
     "base_uri": "https://localhost:8080/"
    },
    "id": "y_BNgp2WNJ1x",
    "outputId": "ccace284-e4ee-4025-e39b-abe6f7522b89",
    "tags": []
   },
   "outputs": [
    {
     "data": {
      "text/plain": [
       "age                   0.2845\n",
       "sexe                  0.2930\n",
       "taux                  0.3205\n",
       "situationFamiliale    0.3160\n",
       "nbEnfantsAcharge      0.3020\n",
       "2emevoiture           0.1930\n",
       "immatriculation       0.0000\n",
       "dtype: float64"
      ]
     },
     "execution_count": 125,
     "metadata": {},
     "output_type": "execute_result"
    }
   ],
   "source": [
    "(clients_data.isnull().sum() / clients_data.shape[0]) * 100"
   ]
  },
  {
   "cell_type": "code",
   "execution_count": 126,
   "id": "AOpeRgSkXEuc",
   "metadata": {
    "colab": {
     "base_uri": "https://localhost:8080/"
    },
    "id": "AOpeRgSkXEuc",
    "outputId": "37b9d41c-3b65-424f-a717-92d8b4d4f2f2",
    "tags": []
   },
   "outputs": [
    {
     "data": {
      "text/plain": [
       "(200000, 7)"
      ]
     },
     "execution_count": 126,
     "metadata": {},
     "output_type": "execute_result"
    }
   ],
   "source": [
    "clients_data.shape"
   ]
  },
  {
   "cell_type": "code",
   "execution_count": 127,
   "id": "O8dkyH-gd9Fg",
   "metadata": {
    "colab": {
     "base_uri": "https://localhost:8080/"
    },
    "id": "O8dkyH-gd9Fg",
    "outputId": "a5f57d16-69fe-490c-947c-d968392adb63",
    "tags": []
   },
   "outputs": [
    {
     "data": {
      "text/plain": [
       "(3396, 7)"
      ]
     },
     "execution_count": 127,
     "metadata": {},
     "output_type": "execute_result"
    }
   ],
   "source": [
    "# Nombre de lignes avec valeurs manquantes\n",
    "clients_data[clients_data.isna().any(axis=1)].shape"
   ]
  },
  {
   "cell_type": "code",
   "execution_count": 129,
   "id": "224e6318-3e34-40ba-98fb-c7516a3443b3",
   "metadata": {
    "tags": []
   },
   "outputs": [
    {
     "data": {
      "text/plain": [
       "1.698"
      ]
     },
     "execution_count": 129,
     "metadata": {},
     "output_type": "execute_result"
    }
   ],
   "source": [
    "(3396/200000) * 100"
   ]
  },
  {
   "cell_type": "code",
   "execution_count": null,
   "id": "58dd73b8-13f4-4130-ada0-3a7cea1b316c",
   "metadata": {},
   "outputs": [],
   "source": [
    "La taux de valeurs manquantes est de 1.698 ce qui presente une finie partie de l'ensemble de données"
   ]
  },
  {
   "cell_type": "code",
   "execution_count": 52,
   "id": "BA8M1idAcIkY",
   "metadata": {
    "colab": {
     "base_uri": "https://localhost:8080/"
    },
    "id": "BA8M1idAcIkY",
    "outputId": "2a079e0b-02fe-42af-9b3d-19ada944b424",
    "tags": []
   },
   "outputs": [
    {
     "data": {
      "image/png": "[encoded data removed]",
      "text/plain": [
       "<Figure size 640x480 with 2 Axes>"
      ]
     },
     "metadata": {},
     "output_type": "display_data"
    }
   ],
   "source": [
    "# Heatmap des valeurs manquantes\n",
    "colours = ['#000099', '#ffff00'] \n",
    "sns.heatmap(clients_data.isnull(), cmap=sns.color_palette(colours))\n",
    "plt.show()"
   ]
  },
  {
   "cell_type": "code",
   "execution_count": 53,
   "id": "GSBzlFbbNbhN",
   "metadata": {
    "colab": {
     "base_uri": "https://localhost:8080/",
     "height": 364
    },
    "id": "GSBzlFbbNbhN",
    "outputId": "13d180d6-dbed-40b4-8132-55fcaadd2321",
    "tags": []
   },
   "outputs": [
    {
     "data": {
      "image/png": "[encoded data removed]",
      "text/plain": [
       "<Figure size 640x480 with 2 Axes>"
      ]
     },
     "metadata": {},
     "output_type": "display_data"
    }
   ],
   "source": [
    "# Heatmap des valeurs manquantes pour les colonnes où une valeurs manques\n",
    "cols_missing = clients_data[clients_data.isna().any(axis=1)]\n",
    "colours = ['#000099', '#ffff00'] \n",
    "sns.heatmap(cols_missing.isnull(), cmap=sns.color_palette(colours))\n",
    "plt.show()"
   ]
  },
  {
   "cell_type": "markdown",
   "id": "P3PVeMsidvEm",
   "metadata": {
    "id": "P3PVeMsidvEm"
   },
   "source": [
    "Le valeurs manquantes étant peu nombreuses par rapport à l'ensemble de données on peut se permettre de les supprimer. (Préciser que le taux de valeur manquante est trop peu par rapport a l'ensemble de données, on peut se permettre de les supprimer)"
   ]
  },
  {
   "cell_type": "code",
   "execution_count": 54,
   "id": "qpfhT-KIc-y-",
   "metadata": {
    "id": "qpfhT-KIc-y-",
    "tags": []
   },
   "outputs": [],
   "source": [
    "clients_data2 = clients_data.dropna()"
   ]
  },
  {
   "cell_type": "code",
   "execution_count": 55,
   "id": "cLuyStikZLFu",
   "metadata": {
    "colab": {
     "base_uri": "https://localhost:8080/"
    },
    "id": "cLuyStikZLFu",
    "outputId": "90d91e55-53c3-43a3-9be5-b4a704cb2965",
    "tags": []
   },
   "outputs": [
    {
     "data": {
      "text/plain": [
       "age                   0\n",
       "sexe                  0\n",
       "taux                  0\n",
       "situationFamiliale    0\n",
       "nbEnfantsAcharge      0\n",
       "2emevoiture           0\n",
       "immatriculation       0\n",
       "dtype: int64"
      ]
     },
     "execution_count": 55,
     "metadata": {},
     "output_type": "execute_result"
    }
   ],
   "source": [
    "clients_data2.isnull().sum()"
   ]
  },
  {
   "cell_type": "markdown",
   "id": "349fdff8-e4ba-4679-ba35-6289ec79be4d",
   "metadata": {},
   "source": [
    "**A partir d'ici les données sont propres on peu passer la suite**"
   ]
  },
  {
   "cell_type": "markdown",
   "id": "m5g_vRoWZNeb",
   "metadata": {
    "id": "m5g_vRoWZNeb"
   },
   "source": [
    "#### 2. Fusion des données clients avec les données d'immatriculations"
   ]
  },
  {
   "cell_type": "markdown",
   "id": "02a13806-c53d-4284-a1a6-e44001e8fff9",
   "metadata": {
    "tags": []
   },
   "source": [
    "**Expliquer la méthogologie de fusion des données et de resolution des doublons dans immatriculations**"
   ]
  },
  {
   "cell_type": "markdown",
   "id": "NJOE0D8bb-o6",
   "metadata": {
    "id": "NJOE0D8bb-o6"
   },
   "source": [
    "##### Données d'immatriculations"
   ]
  },
  {
   "cell_type": "code",
   "execution_count": 56,
   "id": "JlJiraihdwQ2",
   "metadata": {
    "colab": {
     "base_uri": "https://localhost:8080/"
    },
    "id": "JlJiraihdwQ2",
    "outputId": "ed75a05d-6988-498d-8e6a-c1358960b01c",
    "tags": []
   },
   "outputs": [
    {
     "data": {
      "text/plain": [
       "immatriculation    1996632\n",
       "marque                  19\n",
       "nom                     28\n",
       "puissance               22\n",
       "longueur                 4\n",
       "nbPlaces                 1\n",
       "nbPortes                 2\n",
       "couleur                  5\n",
       "occasion                 2\n",
       "prix                    47\n",
       "categorie_label          4\n",
       "dtype: int64"
      ]
     },
     "execution_count": 56,
     "metadata": {},
     "output_type": "execute_result"
    }
   ],
   "source": [
    "immatriculations.nunique()"
   ]
  },
  {
   "cell_type": "code",
   "execution_count": 57,
   "id": "oPlUn9pXm_FO",
   "metadata": {
    "colab": {
     "base_uri": "https://localhost:8080/"
    },
    "id": "oPlUn9pXm_FO",
    "outputId": "1a7dcf2f-445e-482a-e65f-d5f2d8028817",
    "tags": []
   },
   "outputs": [
    {
     "name": "stdout",
     "output_type": "stream",
     "text": [
      "Doublons d'immatriculations : 3368\n",
      "Lignes en doublon           : 24\n",
      "Nombre de lignes :  2000000\n"
     ]
    }
   ],
   "source": [
    "print(\"Doublons d'immatriculations :\", immatriculations.immatriculation.duplicated().sum())\n",
    "print(\"Lignes en doublon           :\", immatriculations.duplicated().sum())\n",
    "print(\"Nombre de lignes : \", immatriculations.shape[0])"
   ]
  },
  {
   "cell_type": "markdown",
   "id": "FYzlXEJQeEfi",
   "metadata": {
    "id": "FYzlXEJQeEfi"
   },
   "source": [
    "Il semble qu'il y est des doublons. On va les supprimer."
   ]
  },
  {
   "cell_type": "code",
   "execution_count": 58,
   "id": "2aOqtV9lotPV",
   "metadata": {
    "id": "2aOqtV9lotPV",
    "tags": []
   },
   "outputs": [],
   "source": [
    "immatriculations2 = immatriculations.drop(index=immatriculations[immatriculations.immatriculation.duplicated()].index)\n",
    "immatriculations2.drop_duplicates(inplace=True)"
   ]
  },
  {
   "cell_type": "code",
   "execution_count": 59,
   "id": "TG_YTYQLnBdy",
   "metadata": {
    "colab": {
     "base_uri": "https://localhost:8080/"
    },
    "id": "TG_YTYQLnBdy",
    "outputId": "796c5a03-e207-481f-8a24-296b2d1bc4b4",
    "tags": []
   },
   "outputs": [
    {
     "name": "stdout",
     "output_type": "stream",
     "text": [
      "Doublons d'immatriculations : 0\n",
      "Lignes en doublon :  0\n",
      "Nombre de lignes :  1996632\n"
     ]
    }
   ],
   "source": [
    "print(\"Doublons d'immatriculations :\", immatriculations2.immatriculation.duplicated().sum())\n",
    "print(\"Lignes en doublon : \", immatriculations2.duplicated().sum())\n",
    "print(\"Nombre de lignes : \", immatriculations2.shape[0])"
   ]
  },
  {
   "cell_type": "code",
   "execution_count": 60,
   "id": "e1yb8aKqsQ5H",
   "metadata": {
    "id": "e1yb8aKqsQ5H"
   },
   "outputs": [],
   "source": [
    "# immatriculations2[\"occasion\"] = np.where(immatriculations2[\"occasion\"]==True,1,0)"
   ]
  },
  {
   "cell_type": "code",
   "execution_count": 61,
   "id": "OYe0xWGgbVbP",
   "metadata": {
    "colab": {
     "base_uri": "https://localhost:8080/",
     "height": 144
    },
    "id": "OYe0xWGgbVbP",
    "outputId": "ce8dec85-f667-4da9-f699-7684a8eb1e96",
    "tags": []
   },
   "outputs": [
    {
     "data": {
      "text/html": [
       "<div>\n",
       "<style scoped>\n",
       "    .dataframe tbody tr th:only-of-type {\n",
       "        vertical-align: middle;\n",
       "    }\n",
       "\n",
       "    .dataframe tbody tr th {\n",
       "        vertical-align: top;\n",
       "    }\n",
       "\n",
       "    .dataframe thead th {\n",
       "        text-align: right;\n",
       "    }\n",
       "</style>\n",
       "<table border=\"1\" class=\"dataframe\">\n",
       "  <thead>\n",
       "    <tr style=\"text-align: right;\">\n",
       "      <th></th>\n",
       "      <th>immatriculation</th>\n",
       "      <th>marque</th>\n",
       "      <th>nom</th>\n",
       "      <th>puissance</th>\n",
       "      <th>longueur</th>\n",
       "      <th>nbPlaces</th>\n",
       "      <th>nbPortes</th>\n",
       "      <th>couleur</th>\n",
       "      <th>occasion</th>\n",
       "      <th>prix</th>\n",
       "      <th>categorie_label</th>\n",
       "    </tr>\n",
       "  </thead>\n",
       "  <tbody>\n",
       "    <tr>\n",
       "      <th>0</th>\n",
       "      <td>3176 TS 67</td>\n",
       "      <td>Renault</td>\n",
       "      <td>Laguna 2.0T</td>\n",
       "      <td>170</td>\n",
       "      <td>longue</td>\n",
       "      <td>5</td>\n",
       "      <td>5</td>\n",
       "      <td>blanc</td>\n",
       "      <td>False</td>\n",
       "      <td>27300</td>\n",
       "      <td>3</td>\n",
       "    </tr>\n",
       "    <tr>\n",
       "      <th>1</th>\n",
       "      <td>3721 QS 49</td>\n",
       "      <td>Volvo</td>\n",
       "      <td>S80 T6</td>\n",
       "      <td>272</td>\n",
       "      <td>très longue</td>\n",
       "      <td>5</td>\n",
       "      <td>5</td>\n",
       "      <td>noir</td>\n",
       "      <td>False</td>\n",
       "      <td>50500</td>\n",
       "      <td>2</td>\n",
       "    </tr>\n",
       "    <tr>\n",
       "      <th>2</th>\n",
       "      <td>9099 UV 26</td>\n",
       "      <td>Volkswagen</td>\n",
       "      <td>Golf 2.0 FSI</td>\n",
       "      <td>150</td>\n",
       "      <td>moyenne</td>\n",
       "      <td>5</td>\n",
       "      <td>5</td>\n",
       "      <td>gris</td>\n",
       "      <td>True</td>\n",
       "      <td>16029</td>\n",
       "      <td>0</td>\n",
       "    </tr>\n",
       "  </tbody>\n",
       "</table>\n",
       "</div>"
      ],
      "text/plain": [
       "  immatriculation      marque           nom  puissance     longueur  nbPlaces  \\\n",
       "0      3176 TS 67     Renault   Laguna 2.0T        170       longue         5   \n",
       "1      3721 QS 49       Volvo        S80 T6        272  très longue         5   \n",
       "2      9099 UV 26  Volkswagen  Golf 2.0 FSI        150      moyenne         5   \n",
       "\n",
       "   nbPortes couleur  occasion   prix  categorie_label  \n",
       "0         5   blanc     False  27300                3  \n",
       "1         5    noir     False  50500                2  \n",
       "2         5    gris      True  16029                0  "
      ]
     },
     "execution_count": 61,
     "metadata": {},
     "output_type": "execute_result"
    }
   ],
   "source": [
    "immatriculations2.head(3)"
   ]
  },
  {
   "cell_type": "markdown",
   "id": "Cat4uB4Plv7c",
   "metadata": {
    "id": "Cat4uB4Plv7c"
   },
   "source": [
    "2.3 Fusion des données"
   ]
  },
  {
   "cell_type": "code",
   "execution_count": 62,
   "id": "a6ucgYiEma2h",
   "metadata": {
    "id": "a6ucgYiEma2h",
    "tags": []
   },
   "outputs": [],
   "source": [
    "clients_immatriculations = clients_data2.merge(immatriculations2, on=\"immatriculation\")"
   ]
  },
  {
   "cell_type": "code",
   "execution_count": 63,
   "id": "gVTvZidqpxv1",
   "metadata": {
    "colab": {
     "base_uri": "https://localhost:8080/",
     "height": 188
    },
    "id": "gVTvZidqpxv1",
    "outputId": "92d4a21d-f55c-4883-8359-326359f861aa",
    "tags": []
   },
   "outputs": [
    {
     "data": {
      "text/html": [
       "<div>\n",
       "<style scoped>\n",
       "    .dataframe tbody tr th:only-of-type {\n",
       "        vertical-align: middle;\n",
       "    }\n",
       "\n",
       "    .dataframe tbody tr th {\n",
       "        vertical-align: top;\n",
       "    }\n",
       "\n",
       "    .dataframe thead th {\n",
       "        text-align: right;\n",
       "    }\n",
       "</style>\n",
       "<table border=\"1\" class=\"dataframe\">\n",
       "  <thead>\n",
       "    <tr style=\"text-align: right;\">\n",
       "      <th></th>\n",
       "      <th>age</th>\n",
       "      <th>sexe</th>\n",
       "      <th>taux</th>\n",
       "      <th>situationFamiliale</th>\n",
       "      <th>nbEnfantsAcharge</th>\n",
       "      <th>2emevoiture</th>\n",
       "      <th>immatriculation</th>\n",
       "      <th>marque</th>\n",
       "      <th>nom</th>\n",
       "      <th>puissance</th>\n",
       "      <th>longueur</th>\n",
       "      <th>nbPlaces</th>\n",
       "      <th>nbPortes</th>\n",
       "      <th>couleur</th>\n",
       "      <th>occasion</th>\n",
       "      <th>prix</th>\n",
       "      <th>categorie_label</th>\n",
       "    </tr>\n",
       "  </thead>\n",
       "  <tbody>\n",
       "    <tr>\n",
       "      <th>0</th>\n",
       "      <td>49.0</td>\n",
       "      <td>F</td>\n",
       "      <td>914.0</td>\n",
       "      <td>En Couple</td>\n",
       "      <td>1.0</td>\n",
       "      <td>False</td>\n",
       "      <td>2170 DJ 60</td>\n",
       "      <td>Jaguar</td>\n",
       "      <td>X-Type 2.5 V6</td>\n",
       "      <td>197</td>\n",
       "      <td>longue</td>\n",
       "      <td>5</td>\n",
       "      <td>5</td>\n",
       "      <td>gris</td>\n",
       "      <td>False</td>\n",
       "      <td>37100</td>\n",
       "      <td>3</td>\n",
       "    </tr>\n",
       "    <tr>\n",
       "      <th>1</th>\n",
       "      <td>18.0</td>\n",
       "      <td>M</td>\n",
       "      <td>563.0</td>\n",
       "      <td>En Couple</td>\n",
       "      <td>4.0</td>\n",
       "      <td>False</td>\n",
       "      <td>8132 RT 49</td>\n",
       "      <td>BMW</td>\n",
       "      <td>M5</td>\n",
       "      <td>507</td>\n",
       "      <td>très longue</td>\n",
       "      <td>5</td>\n",
       "      <td>5</td>\n",
       "      <td>gris</td>\n",
       "      <td>True</td>\n",
       "      <td>66360</td>\n",
       "      <td>2</td>\n",
       "    </tr>\n",
       "    <tr>\n",
       "      <th>2</th>\n",
       "      <td>82.0</td>\n",
       "      <td>M</td>\n",
       "      <td>417.0</td>\n",
       "      <td>Célibataire</td>\n",
       "      <td>0.0</td>\n",
       "      <td>False</td>\n",
       "      <td>4764 CE 84</td>\n",
       "      <td>Mercedes</td>\n",
       "      <td>A200</td>\n",
       "      <td>136</td>\n",
       "      <td>moyenne</td>\n",
       "      <td>5</td>\n",
       "      <td>5</td>\n",
       "      <td>gris</td>\n",
       "      <td>True</td>\n",
       "      <td>18130</td>\n",
       "      <td>0</td>\n",
       "    </tr>\n",
       "  </tbody>\n",
       "</table>\n",
       "</div>"
      ],
      "text/plain": [
       "    age sexe   taux situationFamiliale  nbEnfantsAcharge 2emevoiture  \\\n",
       "0  49.0    F  914.0          En Couple               1.0       False   \n",
       "1  18.0    M  563.0          En Couple               4.0       False   \n",
       "2  82.0    M  417.0        Célibataire               0.0       False   \n",
       "\n",
       "  immatriculation    marque            nom  puissance     longueur  nbPlaces  \\\n",
       "0      2170 DJ 60    Jaguar  X-Type 2.5 V6        197       longue         5   \n",
       "1      8132 RT 49       BMW             M5        507  très longue         5   \n",
       "2      4764 CE 84  Mercedes           A200        136      moyenne         5   \n",
       "\n",
       "   nbPortes couleur  occasion   prix  categorie_label  \n",
       "0         5    gris     False  37100                3  \n",
       "1         5    gris      True  66360                2  \n",
       "2         5    gris      True  18130                0  "
      ]
     },
     "execution_count": 63,
     "metadata": {},
     "output_type": "execute_result"
    }
   ],
   "source": [
    "clients_immatriculations.head(3)"
   ]
  },
  {
   "cell_type": "markdown",
   "id": "gkm-dlVgp2nN",
   "metadata": {
    "id": "gkm-dlVgp2nN"
   },
   "source": [
    "#### 3. Analyse exploratoire"
   ]
  },
  {
   "cell_type": "markdown",
   "id": "2005e8cb-28b2-4df7-b0d3-0bcafd68abbe",
   "metadata": {
    "tags": []
   },
   "source": [
    "**Mettre les shémas et les interprétations**"
   ]
  },
  {
   "cell_type": "markdown",
   "id": "C5MhMuD-Gpka",
   "metadata": {
    "id": "C5MhMuD-Gpka"
   },
   "source": [
    "##### 3.1 Visualisation"
   ]
  },
  {
   "cell_type": "code",
   "execution_count": 64,
   "id": "1CvHWWmrH2QX",
   "metadata": {
    "id": "1CvHWWmrH2QX",
    "tags": []
   },
   "outputs": [],
   "source": [
    "clients_immatriculations2 = clients_immatriculations[[\"age\",\"sexe\",\"taux\",\"nbEnfantsAcharge\",\"situationFamiliale\",\"2emevoiture\",\"categorie_label\"]]"
   ]
  },
  {
   "cell_type": "markdown",
   "id": "bST_3Lm6HHlU",
   "metadata": {
    "id": "bST_3Lm6HHlU"
   },
   "source": [
    "Visualisation de la distribution des variables."
   ]
  },
  {
   "cell_type": "code",
   "execution_count": 65,
   "id": "8UCT5KKHHGJB",
   "metadata": {
    "colab": {
     "base_uri": "https://localhost:8080/"
    },
    "id": "8UCT5KKHHGJB",
    "outputId": "d1e05c6d-d784-4a7d-8955-dd229662f768",
    "tags": []
   },
   "outputs": [
    {
     "data": {
      "image/png": "[encoded data removed]",
      "text/plain": [
       "<Figure size 2000x1000 with 6 Axes>"
      ]
     },
     "metadata": {},
     "output_type": "display_data"
    }
   ],
   "source": [
    "_, axs = plt.subplots(ncols = 3, nrows = 2, figsize=(20, 10))\n",
    "sns.countplot(data=clients_immatriculations2,x=\"nbEnfantsAcharge\",ax=axs[0,0])\n",
    "sns.countplot(data=clients_immatriculations2,x=\"age\",ax=axs[1,2])\n",
    "sns.countplot(data=clients_immatriculations2,x=\"sexe\",ax=axs[0,1])\n",
    "sns.countplot(data=clients_immatriculations2,x=\"situationFamiliale\",ax=axs[0,2])\n",
    "sns.countplot(data=clients_immatriculations2,x=\"2emevoiture\",ax=axs[1,0])\n",
    "sns.countplot(data=clients_immatriculations2,x=\"categorie_label\",ax=axs[1,1])\n",
    "plt.xticks(rotation=90)\n",
    "plt.show()"
   ]
  },
  {
   "cell_type": "code",
   "execution_count": 66,
   "id": "16c47176-3108-459a-9398-be53024b7caa",
   "metadata": {
    "tags": []
   },
   "outputs": [],
   "source": [
    "categories_labels = list(categories_map.values())"
   ]
  },
  {
   "cell_type": "code",
   "execution_count": 67,
   "id": "35c80644-3ccf-4d73-8966-f31d782f2d4c",
   "metadata": {
    "tags": []
   },
   "outputs": [
    {
     "data": {
      "text/html": [
       "<div>\n",
       "<style scoped>\n",
       "    .dataframe tbody tr th:only-of-type {\n",
       "        vertical-align: middle;\n",
       "    }\n",
       "\n",
       "    .dataframe tbody tr th {\n",
       "        vertical-align: top;\n",
       "    }\n",
       "\n",
       "    .dataframe thead th {\n",
       "        text-align: right;\n",
       "    }\n",
       "</style>\n",
       "<table border=\"1\" class=\"dataframe\">\n",
       "  <thead>\n",
       "    <tr style=\"text-align: right;\">\n",
       "      <th></th>\n",
       "      <th>marque</th>\n",
       "      <th>nom</th>\n",
       "      <th>longueur</th>\n",
       "    </tr>\n",
       "  </thead>\n",
       "  <tbody>\n",
       "    <tr>\n",
       "      <th>2</th>\n",
       "      <td>Mercedes</td>\n",
       "      <td>A200</td>\n",
       "      <td>moyenne</td>\n",
       "    </tr>\n",
       "    <tr>\n",
       "      <th>4</th>\n",
       "      <td>Volkswagen</td>\n",
       "      <td>Golf 2.0 FSI</td>\n",
       "      <td>moyenne</td>\n",
       "    </tr>\n",
       "    <tr>\n",
       "      <th>18</th>\n",
       "      <td>Nissan</td>\n",
       "      <td>Almera 1.8</td>\n",
       "      <td>moyenne</td>\n",
       "    </tr>\n",
       "    <tr>\n",
       "      <th>41</th>\n",
       "      <td>Dacia</td>\n",
       "      <td>Logan 1.6 MPI</td>\n",
       "      <td>moyenne</td>\n",
       "    </tr>\n",
       "    <tr>\n",
       "      <th>61</th>\n",
       "      <td>Audi</td>\n",
       "      <td>A3 2.0 FSI</td>\n",
       "      <td>moyenne</td>\n",
       "    </tr>\n",
       "    <tr>\n",
       "      <th>68</th>\n",
       "      <td>Renault</td>\n",
       "      <td>Megane 2.0 16V</td>\n",
       "      <td>moyenne</td>\n",
       "    </tr>\n",
       "    <tr>\n",
       "      <th>294</th>\n",
       "      <td>BMW</td>\n",
       "      <td>120i</td>\n",
       "      <td>moyenne</td>\n",
       "    </tr>\n",
       "    <tr>\n",
       "      <th>311</th>\n",
       "      <td>Volkswagen</td>\n",
       "      <td>New Beatle 1.8</td>\n",
       "      <td>moyenne</td>\n",
       "    </tr>\n",
       "  </tbody>\n",
       "</table>\n",
       "</div>"
      ],
      "text/plain": [
       "         marque             nom longueur\n",
       "2      Mercedes            A200  moyenne\n",
       "4    Volkswagen    Golf 2.0 FSI  moyenne\n",
       "18       Nissan      Almera 1.8  moyenne\n",
       "41        Dacia   Logan 1.6 MPI  moyenne\n",
       "61         Audi      A3 2.0 FSI  moyenne\n",
       "68      Renault  Megane 2.0 16V  moyenne\n",
       "294         BMW            120i  moyenne\n",
       "311  Volkswagen  New Beatle 1.8  moyenne"
      ]
     },
     "execution_count": 67,
     "metadata": {},
     "output_type": "execute_result"
    }
   ],
   "source": [
    "clients_immatriculations[clients_immatriculations.categorie_label==0][[\"marque\",\"nom\",\"longueur\"]].drop_duplicates()"
   ]
  },
  {
   "cell_type": "code",
   "execution_count": 68,
   "id": "bd738fa2-3af1-402c-841e-d9924a3cefe3",
   "metadata": {
    "tags": []
   },
   "outputs": [
    {
     "data": {
      "image/png": "[encoded data removed]",
      "text/plain": [
       "<Figure size 640x480 with 1 Axes>"
      ]
     },
     "metadata": {},
     "output_type": "display_data"
    }
   ],
   "source": [
    "ax = sns.countplot(data=clients_immatriculations2,x=\"categorie_label\",hue=\"situationFamiliale\")\n",
    "ax.set_xticklabels(labels = categories_labels)\n",
    "plt.show()"
   ]
  },
  {
   "cell_type": "code",
   "execution_count": 69,
   "id": "57f00e1d-af0c-47e5-94a0-ec59a08cd85d",
   "metadata": {
    "tags": []
   },
   "outputs": [
    {
     "data": {
      "image/png": "[encoded data removed]",
      "text/plain": [
       "<Figure size 640x480 with 1 Axes>"
      ]
     },
     "metadata": {},
     "output_type": "display_data"
    }
   ],
   "source": [
    "ax = sns.countplot(data=clients_immatriculations2,x=\"categorie_label\",hue=\"sexe\")\n",
    "ax.set_xticklabels(labels = categories_labels)\n",
    "plt.show()"
   ]
  },
  {
   "cell_type": "code",
   "execution_count": 70,
   "id": "578836d2-f416-40e5-9c1a-19f7ab22811e",
   "metadata": {
    "tags": []
   },
   "outputs": [
    {
     "data": {
      "image/png": "[encoded data removed]",
      "text/plain": [
       "<Figure size 640x480 with 1 Axes>"
      ]
     },
     "metadata": {},
     "output_type": "display_data"
    }
   ],
   "source": [
    "ax = sns.countplot(data=clients_immatriculations2,x=\"categorie_label\",hue=\"nbEnfantsAcharge\")\n",
    "ax.set_xticklabels(labels = categories_labels)\n",
    "plt.show()"
   ]
  },
  {
   "cell_type": "code",
   "execution_count": 71,
   "id": "6e09a12b-e163-4523-a628-b83136b55a3e",
   "metadata": {
    "tags": []
   },
   "outputs": [
    {
     "data": {
      "image/png": "[encoded data removed]",
      "text/plain": [
       "<Figure size 640x480 with 1 Axes>"
      ]
     },
     "metadata": {},
     "output_type": "display_data"
    }
   ],
   "source": [
    "ax = sns.countplot(data=clients_immatriculations2,x=\"categorie_label\",hue=\"2emevoiture\")\n",
    "ax.set_xticklabels(labels = categories_labels)\n",
    "plt.show()"
   ]
  },
  {
   "cell_type": "markdown",
   "id": "6b69a02b-647b-412f-aeff-777fd55ee257",
   "metadata": {},
   "source": [
    "**Tirer les conclusions et donner la suite du plan (Entrainement avec ML FLOW + Schema) Préciser l'archicture MLLOW. Important préciser les artifacts obtenu lors de cette étape**"
   ]
  },
  {
   "cell_type": "markdown",
   "id": "nIVV4t7qvDQy",
   "metadata": {
    "id": "nIVV4t7qvDQy"
   },
   "source": [
    "#### Enregistrenement du DataFrame avec Pickle"
   ]
  },
  {
   "cell_type": "markdown",
   "id": "610e4773-0830-4c87-aace-eb8a5bbf277a",
   "metadata": {},
   "source": [
    "L'exploration etant terminée on enregistre le DataFrame final avec les label"
   ]
  },
  {
   "cell_type": "code",
   "execution_count": 72,
   "id": "ae8d5187-7047-42a3-bb1a-482cc933d08a",
   "metadata": {
    "tags": []
   },
   "outputs": [
    {
     "data": {
      "text/html": [
       "<div>\n",
       "<style scoped>\n",
       "    .dataframe tbody tr th:only-of-type {\n",
       "        vertical-align: middle;\n",
       "    }\n",
       "\n",
       "    .dataframe tbody tr th {\n",
       "        vertical-align: top;\n",
       "    }\n",
       "\n",
       "    .dataframe thead th {\n",
       "        text-align: right;\n",
       "    }\n",
       "</style>\n",
       "<table border=\"1\" class=\"dataframe\">\n",
       "  <thead>\n",
       "    <tr style=\"text-align: right;\">\n",
       "      <th></th>\n",
       "      <th>age</th>\n",
       "      <th>sexe</th>\n",
       "      <th>taux</th>\n",
       "      <th>nbEnfantsAcharge</th>\n",
       "      <th>situationFamiliale</th>\n",
       "      <th>2emevoiture</th>\n",
       "      <th>categorie_label</th>\n",
       "    </tr>\n",
       "  </thead>\n",
       "  <tbody>\n",
       "    <tr>\n",
       "      <th>0</th>\n",
       "      <td>49.0</td>\n",
       "      <td>F</td>\n",
       "      <td>914.0</td>\n",
       "      <td>1.0</td>\n",
       "      <td>En Couple</td>\n",
       "      <td>False</td>\n",
       "      <td>3</td>\n",
       "    </tr>\n",
       "    <tr>\n",
       "      <th>1</th>\n",
       "      <td>18.0</td>\n",
       "      <td>M</td>\n",
       "      <td>563.0</td>\n",
       "      <td>4.0</td>\n",
       "      <td>En Couple</td>\n",
       "      <td>False</td>\n",
       "      <td>2</td>\n",
       "    </tr>\n",
       "    <tr>\n",
       "      <th>2</th>\n",
       "      <td>82.0</td>\n",
       "      <td>M</td>\n",
       "      <td>417.0</td>\n",
       "      <td>0.0</td>\n",
       "      <td>Célibataire</td>\n",
       "      <td>False</td>\n",
       "      <td>0</td>\n",
       "    </tr>\n",
       "    <tr>\n",
       "      <th>3</th>\n",
       "      <td>72.0</td>\n",
       "      <td>M</td>\n",
       "      <td>442.0</td>\n",
       "      <td>4.0</td>\n",
       "      <td>En Couple</td>\n",
       "      <td>False</td>\n",
       "      <td>2</td>\n",
       "    </tr>\n",
       "    <tr>\n",
       "      <th>4</th>\n",
       "      <td>41.0</td>\n",
       "      <td>M</td>\n",
       "      <td>592.0</td>\n",
       "      <td>0.0</td>\n",
       "      <td>Célibataire</td>\n",
       "      <td>False</td>\n",
       "      <td>0</td>\n",
       "    </tr>\n",
       "  </tbody>\n",
       "</table>\n",
       "</div>"
      ],
      "text/plain": [
       "    age sexe   taux  nbEnfantsAcharge situationFamiliale 2emevoiture  \\\n",
       "0  49.0    F  914.0               1.0          En Couple       False   \n",
       "1  18.0    M  563.0               4.0          En Couple       False   \n",
       "2  82.0    M  417.0               0.0        Célibataire       False   \n",
       "3  72.0    M  442.0               4.0          En Couple       False   \n",
       "4  41.0    M  592.0               0.0        Célibataire       False   \n",
       "\n",
       "   categorie_label  \n",
       "0                3  \n",
       "1                2  \n",
       "2                0  \n",
       "3                2  \n",
       "4                0  "
      ]
     },
     "execution_count": 72,
     "metadata": {},
     "output_type": "execute_result"
    }
   ],
   "source": [
    "clients_immatriculations2.head()"
   ]
  },
  {
   "cell_type": "code",
   "execution_count": 73,
   "id": "fcf7a31e-4b82-4d00-8e05-0922baa78546",
   "metadata": {
    "tags": []
   },
   "outputs": [
    {
     "data": {
      "text/plain": [
       "age                   float64\n",
       "sexe                   object\n",
       "taux                  float64\n",
       "nbEnfantsAcharge      float64\n",
       "situationFamiliale     object\n",
       "2emevoiture            object\n",
       "categorie_label         int32\n",
       "dtype: object"
      ]
     },
     "execution_count": 73,
     "metadata": {},
     "output_type": "execute_result"
    }
   ],
   "source": [
    "clients_immatriculations2.dtypes"
   ]
  },
  {
   "cell_type": "code",
   "execution_count": 74,
   "id": "d536e06a-b8ee-455f-b598-508ca0eab796",
   "metadata": {
    "tags": []
   },
   "outputs": [],
   "source": [
    "clients_immatriculations3 = clients_immatriculations2.copy()"
   ]
  },
  {
   "cell_type": "code",
   "execution_count": 75,
   "id": "11a5fd7c-741b-46d5-bfbc-82647f138a1c",
   "metadata": {
    "tags": []
   },
   "outputs": [],
   "source": [
    "clients_immatriculations3[\"age\"] = clients_immatriculations2[\"age\"].astype(np.int64)\n",
    "clients_immatriculations3[\"2emevoiture\"] = clients_immatriculations2[\"2emevoiture\"].astype(bool)\n",
    "clients_immatriculations3[\"nbEnfantsAcharge\"] = clients_immatriculations2[\"nbEnfantsAcharge\"].astype(np.int64)\n",
    "clients_immatriculations3[\"taux\"] = clients_immatriculations2[\"taux\"].astype(np.int64)"
   ]
  },
  {
   "cell_type": "code",
   "execution_count": 76,
   "id": "39685296-4503-49ce-ae81-3aaabdf69bb9",
   "metadata": {
    "tags": []
   },
   "outputs": [
    {
     "data": {
      "text/plain": [
       "age                    int64\n",
       "sexe                  object\n",
       "taux                   int64\n",
       "nbEnfantsAcharge       int64\n",
       "situationFamiliale    object\n",
       "2emevoiture             bool\n",
       "categorie_label        int32\n",
       "dtype: object"
      ]
     },
     "execution_count": 76,
     "metadata": {},
     "output_type": "execute_result"
    }
   ],
   "source": [
    "clients_immatriculations3.dtypes"
   ]
  },
  {
   "cell_type": "code",
   "execution_count": 77,
   "id": "8f66851e-f169-4289-b00d-63624b63d522",
   "metadata": {
    "tags": []
   },
   "outputs": [
    {
     "data": {
      "text/plain": [
       "['age',\n",
       " 'sexe',\n",
       " 'taux',\n",
       " 'nbEnfantsAcharge',\n",
       " 'situationFamiliale',\n",
       " '2emevoiture',\n",
       " 'categorie_label']"
      ]
     },
     "execution_count": 77,
     "metadata": {},
     "output_type": "execute_result"
    }
   ],
   "source": [
    "list(clients_immatriculations3.columns)"
   ]
  },
  {
   "cell_type": "code",
   "execution_count": 78,
   "id": "dp4Cdb0DvFqB",
   "metadata": {
    "id": "dp4Cdb0DvFqB",
    "tags": []
   },
   "outputs": [],
   "source": [
    "import pickle\n",
    "import json"
   ]
  },
  {
   "cell_type": "code",
   "execution_count": 83,
   "id": "NUuYLIlbvT4J",
   "metadata": {
    "id": "NUuYLIlbvT4J",
    "tags": []
   },
   "outputs": [],
   "source": [
    "# Enregistrement du DataFrame\n",
    "with open('data/clients_vehicules.pkl', 'wb') as f1:\n",
    "    pickle.dump(clients_immatriculations3, f1)\n",
    "\n",
    "# Enregistrement de dictionnaire de mapping des labels\n",
    "with open('data/clients_vehicules.label_dict.pkl', 'wb') as f1:\n",
    "    pickle.dump(categories_map, f1)"
   ]
  },
  {
   "cell_type": "code",
   "execution_count": 84,
   "id": "a63ab59a-df12-49fb-b7dd-a97e1de2853f",
   "metadata": {
    "tags": []
   },
   "outputs": [],
   "source": [
    "# Enregistrement de DataFrame au format csv\n",
    "clients_immatriculations3.to_csv(\"data/clients_vehicules.csv\")\n",
    "\n",
    "# Enregistrement de mapper au format json\n",
    "with open('data/clients_vehicules.label_dict.json', 'w') as f1:\n",
    "    f1.write(json.dumps(categories_map,indent=4))"
   ]
  },
  {
   "cell_type": "markdown",
   "id": "621de02c-9453-4e0a-a0af-2accc0bdcc4f",
   "metadata": {
    "tags": []
   },
   "source": [
    "**Decrire le ML OPS, les métriques et les schméa puis présenter un visuel de l'api avec Docker**"
   ]
  },
  {
   "cell_type": "markdown",
   "id": "hZsjIbz694En",
   "metadata": {
    "id": "hZsjIbz694En"
   },
   "source": [
    "Pour l'entrainement du modèle nous allons utiliser les algorithme suivant :\n",
    "* Arbre de décision\n",
    "* RandomForest\n",
    "* Regression Logisitique\n",
    "\n",
    "Les métriques utilisée pour l'évaluation du modèle sera l'accuracy en raison de sa simplicité d'interprétation. "
   ]
  },
  {
   "cell_type": "code",
   "execution_count": 81,
   "id": "tjqXMCqQ9VAA",
   "metadata": {
    "id": "tjqXMCqQ9VAA"
   },
   "outputs": [],
   "source": [
    "selected_features = [\"age\",\"sexe\",\"taux\",\"nbEnfantsAcharge\",\"situationFamiliale\",\"a_2_voitures\"]"
   ]
  },
  {
   "cell_type": "markdown",
   "id": "8EaRISey-2bW",
   "metadata": {
    "id": "8EaRISey-2bW"
   },
   "source": [
    "##### 4.1 Préparation des données"
   ]
  },
  {
   "cell_type": "code",
   "execution_count": 82,
   "id": "H4Z7p2bZSMbZ",
   "metadata": {
    "id": "H4Z7p2bZSMbZ"
   },
   "outputs": [
    {
     "ename": "NameError",
     "evalue": "name 'clients_immatriculations4' is not defined",
     "output_type": "error",
     "traceback": [
      "\u001b[1;31m---------------------------------------------------------------------------\u001b[0m",
      "\u001b[1;31mNameError\u001b[0m                                 Traceback (most recent call last)",
      "Cell \u001b[1;32mIn[82], line 1\u001b[0m\n\u001b[1;32m----> 1\u001b[0m X_train \u001b[38;5;241m=\u001b[39m \u001b[43mclients_immatriculations4\u001b[49m[selected_features]\n\u001b[0;32m      2\u001b[0m y_train \u001b[38;5;241m=\u001b[39m clients_immatriculations4[\u001b[38;5;124m\"\u001b[39m\u001b[38;5;124mcategorie_label\u001b[39m\u001b[38;5;124m\"\u001b[39m]\n",
      "\u001b[1;31mNameError\u001b[0m: name 'clients_immatriculations4' is not defined"
     ]
    }
   ],
   "source": [
    "X_train = clients_immatriculations4[selected_features]\n",
    "y_train = clients_immatriculations4[\"categorie_label\"]"
   ]
  },
  {
   "cell_type": "code",
   "execution_count": null,
   "id": "UQcxFWG8S-1M",
   "metadata": {
    "id": "UQcxFWG8S-1M"
   },
   "outputs": [],
   "source": [
    "X2 = clients_immatriculations4[selected_features]"
   ]
  },
  {
   "cell_type": "code",
   "execution_count": null,
   "id": "PjHqUUEVd3qI",
   "metadata": {
    "id": "PjHqUUEVd3qI"
   },
   "outputs": [],
   "source": [
    "categorical_features = [\"sexe\", \"situationFamiliale\",\"a_2_voitures\"]\n",
    "numeric_features = [\"taux\", \"age\",\"nbEnfantsAcharge\"]"
   ]
  },
  {
   "cell_type": "markdown",
   "id": "3_fyUGMxeEzp",
   "metadata": {
    "id": "3_fyUGMxeEzp"
   },
   "source": [
    "Création d'une pipeline de transformation des données"
   ]
  },
  {
   "cell_type": "code",
   "execution_count": null,
   "id": "QK-SwA79SGMc",
   "metadata": {
    "id": "QK-SwA79SGMc"
   },
   "outputs": [],
   "source": [
    "preprocessor = ColumnTransformer(\n",
    "    transformers=[\n",
    "        (\"onehot\", OneHotEncoder(), categorical_features),\n",
    "        (\"scaler\", StandardScaler(), numeric_features),\n",
    "    ]\n",
    ")"
   ]
  },
  {
   "cell_type": "code",
   "execution_count": null,
   "id": "Icv3_e6bSq6v",
   "metadata": {
    "id": "Icv3_e6bSq6v"
   },
   "outputs": [],
   "source": [
    "X_transformed = preprocessor.fit_transform(X_train)"
   ]
  },
  {
   "cell_type": "markdown",
   "id": "BGBI61mKetq4",
   "metadata": {
    "id": "BGBI61mKetq4"
   },
   "source": [
    "###### 4.2.1 Arbre de décision"
   ]
  },
  {
   "cell_type": "code",
   "execution_count": null,
   "id": "Rt1fJW8Berb3",
   "metadata": {
    "id": "Rt1fJW8Berb3"
   },
   "outputs": [],
   "source": [
    "clf_tree = DecisionTreeClassifier()\n",
    "param_grid_tree = {\n",
    "    \"criterion\": [\"gini\"],\n",
    "    \"max_depth\": range(4,8),\n",
    "    \"min_samples_split\": range(3,6),\n",
    "}"
   ]
  },
  {
   "cell_type": "code",
   "execution_count": null,
   "id": "r8uogGf1gOvf",
   "metadata": {
    "colab": {
     "base_uri": "https://localhost:8080/",
     "height": 119
    },
    "id": "r8uogGf1gOvf",
    "outputId": "4e16cbfd-c610-47bc-89a8-236972b4f7b8"
   },
   "outputs": [],
   "source": [
    "clf_tree_cv = GridSearchCV(clf_tree,param_grid_tree,scoring=\"accuracy\",cv=2,n_jobs=-1)\n",
    "clf_tree_cv.fit(X_transformed, y_train)"
   ]
  },
  {
   "cell_type": "code",
   "execution_count": null,
   "id": "QU7Ps2KzgWdJ",
   "metadata": {
    "colab": {
     "base_uri": "https://localhost:8080/"
    },
    "id": "QU7Ps2KzgWdJ",
    "outputId": "37e9f8e2-1404-4c14-b32a-4a608dd432cd"
   },
   "outputs": [],
   "source": [
    "print(f\"Score     :\",clf_tree_cv.best_score_)\n",
    "print(f\"Paramètres:\",clf_tree_cv.best_params_)"
   ]
  },
  {
   "cell_type": "markdown",
   "id": "GqayBGSJjwp_",
   "metadata": {
    "id": "GqayBGSJjwp_"
   },
   "source": [
    "Visualisation de l'arbre"
   ]
  },
  {
   "cell_type": "markdown",
   "id": "h-_iIhGAelbf",
   "metadata": {
    "id": "h-_iIhGAelbf"
   },
   "source": [
    "###### 4.2.2 RandomForest"
   ]
  },
  {
   "cell_type": "code",
   "execution_count": null,
   "id": "iF4q9sNkiHsa",
   "metadata": {
    "id": "iF4q9sNkiHsa"
   },
   "outputs": [],
   "source": [
    "param_grid_forest = {\n",
    "    \"n_estimators\": [150, 200],\n",
    "    \"max_depth\": [8,9],\n",
    "    \"min_samples_leaf\": [8,9,10]\n",
    "}"
   ]
  },
  {
   "cell_type": "code",
   "execution_count": null,
   "id": "CpdQb-A_lL30",
   "metadata": {
    "colab": {
     "base_uri": "https://localhost:8080/",
     "height": 136
    },
    "id": "CpdQb-A_lL30",
    "outputId": "f18bb8e1-af34-493c-fddb-cb8caa6ed661"
   },
   "outputs": [],
   "source": [
    "clf_randomforest = RandomForestClassifier()\n",
    "clf_randomforest_cv = GridSearchCV(clf_randomforest, param_grid_forest, cv=2, scoring=\"accuracy\",verbose=1)\n",
    "clf_randomforest_cv.fit(X_transformed, y_train)"
   ]
  },
  {
   "cell_type": "code",
   "execution_count": null,
   "id": "YpbXQiOEjgX-",
   "metadata": {
    "colab": {
     "base_uri": "https://localhost:8080/"
    },
    "id": "YpbXQiOEjgX-",
    "outputId": "54ac9f07-61b2-4353-d5fd-94e4d962dbb9"
   },
   "outputs": [],
   "source": [
    "print(f\"Score     :\",clf_randomforest_cv.best_score_)\n",
    "print(f\"Paramètres:\",clf_randomforest_cv.best_params_)"
   ]
  },
  {
   "cell_type": "markdown",
   "id": "fE0TF6rHlV2X",
   "metadata": {
    "id": "fE0TF6rHlV2X"
   },
   "source": [
    "###### 4.2.3 Regression logistique multinomiale\n"
   ]
  },
  {
   "cell_type": "code",
   "execution_count": null,
   "id": "tyBS8tTyvDha",
   "metadata": {
    "id": "tyBS8tTyvDha"
   },
   "outputs": [],
   "source": [
    "param_grid = {\n",
    "      \"solver\": [\"lbfgs\",\"liblinear\",\"newton-cg\"], \n",
    "      \"penalty\": [\"l2\",\"l1\"], \n",
    "      \"C\":[0.5,1.5,2]\n",
    "}"
   ]
  },
  {
   "cell_type": "code",
   "execution_count": null,
   "id": "lC7-JynfmBpf",
   "metadata": {
    "colab": {
     "base_uri": "https://localhost:8080/",
     "height": 119
    },
    "id": "lC7-JynfmBpf",
    "outputId": "65c64e41-31bd-4aca-f6bb-50936880c482"
   },
   "outputs": [],
   "source": [
    "clf_logistic = LogisticRegression(multi_class='multinomial')\n",
    "clf_logistic_cv = GridSearchCV(clf_logistic, param_grid=param_grid, scoring=\"accuracy\", cv=2,n_jobs=-1)\n",
    "clf_logistic_cv.fit(X_transformed, y_train)"
   ]
  },
  {
   "cell_type": "code",
   "execution_count": null,
   "id": "l2uQL0qzvp3r",
   "metadata": {
    "colab": {
     "base_uri": "https://localhost:8080/"
    },
    "id": "l2uQL0qzvp3r",
    "outputId": "c9175a52-edf8-48cf-c30f-d5dd312db674"
   },
   "outputs": [],
   "source": [
    "print(f\"Score     :\",clf_logistic_cv.best_score_)\n",
    "print(f\"Paramètres:\",clf_logistic_cv.best_params_)"
   ]
  },
  {
   "cell_type": "markdown",
   "id": "pAGHjEU14_1j",
   "metadata": {
    "id": "pAGHjEU14_1j"
   },
   "source": [
    "Sur la base de l'accuracy, à la virgule prête, on utilise le modèle de RandomForest."
   ]
  },
  {
   "cell_type": "code",
   "execution_count": null,
   "id": "QbCN7wCE764c",
   "metadata": {
    "id": "QbCN7wCE764c"
   },
   "outputs": [],
   "source": [
    "best_clf_model_name = \"RandomForestClassifier\"\n",
    "best_clf_model = clf_randomforest_cv.best_estimator_\n",
    "best_clf_params = clf_randomforest_cv.best_params_"
   ]
  },
  {
   "cell_type": "code",
   "execution_count": null,
   "id": "dMgf0jSp7xkN",
   "metadata": {
    "colab": {
     "base_uri": "https://localhost:8080/"
    },
    "id": "dMgf0jSp7xkN",
    "outputId": "634e4805-889f-4e3e-9e75-40c2b601541e"
   },
   "outputs": [],
   "source": [
    "print(f\"Modèle               : {best_clf_model_name}\")\n",
    "print(f\"Meilleur paramétrage : {best_clf_params}\")"
   ]
  },
  {
   "cell_type": "code",
   "execution_count": null,
   "id": "jVWPzzMlFZrp",
   "metadata": {
    "id": "jVWPzzMlFZrp"
   },
   "outputs": [],
   "source": [
    "vehicule_predict_model = clone(best_clf_model)"
   ]
  },
  {
   "cell_type": "markdown",
   "id": "btVKBTFfB-rB",
   "metadata": {
    "id": "btVKBTFfB-rB"
   },
   "source": [
    "### 1. Chargement et préparation des données"
   ]
  },
  {
   "cell_type": "code",
   "execution_count": null,
   "id": "UhdLkqy2B_pU",
   "metadata": {
    "id": "UhdLkqy2B_pU"
   },
   "outputs": [],
   "source": [
    "clients = pd.read_csv(\"/content/drive/Othercomputers/Mon ordinateur portable/DRIVE TIDEV/Projet ecole/TPT/data/Marketing.csv\", encoding='latin-1')"
   ]
  },
  {
   "cell_type": "code",
   "execution_count": null,
   "id": "egDuPgQnCsDq",
   "metadata": {
    "colab": {
     "base_uri": "https://localhost:8080/",
     "height": 439
    },
    "id": "egDuPgQnCsDq",
    "outputId": "6eae1195-8251-402e-a60a-6fc3832931a1"
   },
   "outputs": [],
   "source": [
    "display(clients.shape)\n",
    "display(clients.describe())\n",
    "display(clients.dtypes)"
   ]
  },
  {
   "cell_type": "code",
   "execution_count": null,
   "id": "bQEs8mYcD--9",
   "metadata": {
    "id": "bQEs8mYcD--9"
   },
   "outputs": [],
   "source": [
    "clients.rename(columns={\"2emevoiture\" : \"a_2_voitures\"}, inplace=True)"
   ]
  },
  {
   "cell_type": "code",
   "execution_count": null,
   "id": "2LL8jM3FEtye",
   "metadata": {
    "id": "2LL8jM3FEtye"
   },
   "outputs": [],
   "source": [
    "clients[\"a_2_voitures\"] = np.where(clients.a_2_voitures==True,1,0)"
   ]
  },
  {
   "cell_type": "markdown",
   "id": "eiB8J3ZGDgSn",
   "metadata": {
    "id": "eiB8J3ZGDgSn"
   },
   "source": [
    "Les données des clients sont propres et prêtes pour la prédiction."
   ]
  },
  {
   "cell_type": "markdown",
   "id": "SHhfv10uFCuo",
   "metadata": {
    "id": "SHhfv10uFCuo"
   },
   "source": [
    "### 2. Prédiction"
   ]
  },
  {
   "cell_type": "code",
   "execution_count": null,
   "id": "PbZ5cY9zGHj_",
   "metadata": {
    "id": "PbZ5cY9zGHj_"
   },
   "outputs": [],
   "source": [
    "X = clients[selected_features]"
   ]
  },
  {
   "cell_type": "code",
   "execution_count": null,
   "id": "_JQcAq5pDqh4",
   "metadata": {
    "id": "_JQcAq5pDqh4"
   },
   "outputs": [],
   "source": [
    "X_transformed = preprocessor.fit_transform(X)"
   ]
  },
  {
   "cell_type": "code",
   "execution_count": null,
   "id": "XiTiXxgaGSHf",
   "metadata": {
    "id": "XiTiXxgaGSHf"
   },
   "outputs": [],
   "source": [
    "predictions = best_clf_model.predict(X_transformed)"
   ]
  },
  {
   "cell_type": "code",
   "execution_count": null,
   "id": "1swOG_hfYwk-",
   "metadata": {
    "id": "1swOG_hfYwk-"
   },
   "outputs": [],
   "source": [
    "clients[\"categorie\"] = predictions\n",
    "clients[\"categorie\"] = clients[\"categorie\"].map(categories_map)"
   ]
  },
  {
   "cell_type": "markdown",
   "id": "zz9rxxI7ZgYL",
   "metadata": {
    "id": "zz9rxxI7ZgYL"
   },
   "source": [
    "### 3. Résultats"
   ]
  },
  {
   "cell_type": "code",
   "execution_count": null,
   "id": "2JkI2bjhZXfl",
   "metadata": {
    "colab": {
     "base_uri": "https://localhost:8080/",
     "height": 677
    },
    "id": "2JkI2bjhZXfl",
    "outputId": "07a04526-1347-4fa1-86f9-44b27e40a6a9",
    "tags": []
   },
   "outputs": [],
   "source": [
    "clients"
   ]
  }
 ],
 "metadata": {
  "accelerator": "GPU",
  "colab": {
   "collapsed_sections": [
    "ezr6T4rVLYbn",
    "X4MoJudjNM4I",
    "rMif6z7eC60g",
    "tcTRGKprPgvC",
    "wV_Gw_xGUlLo",
    "5_6Nq6iDMcrn",
    "2StTnZYVcs7z",
    "cR3OD92nPKRP"
   ],
   "provenance": []
  },
  "gpuClass": "standard",
  "kernelspec": {
   "display_name": "Python 3 (ipykernel)",
   "language": "python",
   "name": "python3"
  },
  "language_info": {
   "codemirror_mode": {
    "name": "ipython",
    "version": 3
   },
   "file_extension": ".py",
   "mimetype": "text/x-python",
   "name": "python",
   "nbconvert_exporter": "python",
   "pygments_lexer": "ipython3",
   "version": "3.10.10"
  }
 },
 "nbformat": 4,
 "nbformat_minor": 5
}
