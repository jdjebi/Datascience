{
 "cells": [
  {
   "cell_type": "code",
   "execution_count": 1,
   "metadata": {},
   "outputs": [],
   "source": [
    "# !python preprocess.ipynb"
   ]
  },
  {
   "cell_type": "code",
   "execution_count": 2,
   "metadata": {},
   "outputs": [],
   "source": [
    "import os\n",
    "import configparser\n",
    "import pickle\n",
    "import mlflow\n",
    "from sklearn.linear_model import LogisticRegression\n",
    "from sklearn.tree import DecisionTreeClassifier\n",
    "from sklearn.ensemble import RandomForestClassifier\n",
    "from sklearn.metrics import accuracy_score, f1_score, precision_score, recall_score\n",
    "from sklearn.model_selection import GridSearchCV\n",
    "from sklearn.neighbors import KNeighborsClassifier"
   ]
  },
  {
   "cell_type": "code",
   "execution_count": 3,
   "metadata": {},
   "outputs": [],
   "source": [
    "config = configparser.ConfigParser()\n",
    "config.read('config.ini')\n",
    "RANDOM_STATE = config.getint('Default', 'RANDOM_STATE')\n",
    "PATH_PROCESSED_DATA = config.get('Paths', 'PATH_PROCESSED_DATA')\n",
    "PATH_PROCESSED_SCHEMA = config.get('Paths', 'PATH_PROCESSED_SCHEMA')\n",
    "DIR_MLRUNS = config.get('Paths', 'DIR_MLRUNS')\n",
    "experiment_name = \"TPT GridSearch CV=10\""
   ]
  },
  {
   "cell_type": "code",
   "execution_count": 4,
   "metadata": {},
   "outputs": [],
   "source": [
    "# Chargement des données prétraitées\n",
    "with open(PATH_PROCESSED_DATA, 'rb') as file:\n",
    "    X_train, X_test, y_train, y_test = pickle.load(file)"
   ]
  },
  {
   "cell_type": "code",
   "execution_count": 5,
   "metadata": {},
   "outputs": [],
   "source": [
    "# Initialisation\n",
    "mlflow.set_tracking_uri(\"file:\" + os.path.abspath(DIR_MLRUNS))\n",
    "mlflow.sklearn.autolog(disable=True)"
   ]
  },
  {
   "cell_type": "code",
   "execution_count": 6,
   "metadata": {},
   "outputs": [],
   "source": [
    "# Recuperation de experiment\n",
    "try:\n",
    "    experiment_id = mlflow.create_experiment(experiment_name)\n",
    "except:\n",
    "    experiment_id = mlflow.get_experiment_by_name(experiment_name).experiment_id"
   ]
  },
  {
   "cell_type": "code",
   "execution_count": 7,
   "metadata": {},
   "outputs": [],
   "source": [
    "def model_run(model,run_name,param_grid,step,X_train,X_test, y_train, y_test):\n",
    "\n",
    "    # Entrainement du modèle\n",
    "    grid = GridSearchCV(model,param_grid,cv=10,verbose=2,scoring=\"accuracy\")\n",
    "    grid.fit(X_train, y_train)\n",
    "\n",
    "    # Prediction sur les données de tests\n",
    "    y_pred = grid.best_estimator_.predict(X_test)\n",
    "\n",
    "    # Calcul des metriques\n",
    "    average = \"macro\"\n",
    "    metrics = {\n",
    "        \"best_score\": grid.best_score_,\n",
    "        \"test_accuracy_score\": accuracy_score(y_test, y_pred),\n",
    "        \"test_f1_score\": f1_score(y_test, y_pred, average=average),\n",
    "        \"test_precision_score\": precision_score(y_test, y_pred, average=average),\n",
    "        \"test_recall_score\": recall_score(y_test, y_pred, average=average)\n",
    "    }\n",
    "\n",
    "    # Logs\n",
    "    model_path = \"model\"\n",
    "    mlflow.sklearn.log_model(grid.best_estimator_,model_path,registered_model_name=f\"vehicule_classifier_{run_name}\")\n",
    "    mlflow.log_params(grid.best_estimator_.get_params())\n",
    "    mlflow.log_metrics(metrics,step=step)\n",
    "    mlflow.log_artifact(PATH_PROCESSED_SCHEMA, model_path)"
   ]
  },
  {
   "cell_type": "code",
   "execution_count": 8,
   "metadata": {},
   "outputs": [],
   "source": [
    "runs_config = [\n",
    "    {\n",
    "        \"model\": LogisticRegression(),\n",
    "        \"run_name\":\"logr\",\n",
    "        \"param_grid\": {\n",
    "            \"solver\": [\"liblinear\",\"newton-cholesky\"], \n",
    "            \"C\":[0.2,0.5],\n",
    "            \"random_state\":[0,1]\n",
    "        }\n",
    "    },\n",
    "    {\n",
    "        \"model\": DecisionTreeClassifier(),\n",
    "        \"run_name\":\"decision_tree\",\n",
    "        \"param_grid\":  {\n",
    "            \"criterion\": [\"gini\",\"entropy\"],\n",
    "            \"max_depth\": [4,8],\n",
    "            \"random_state\":[0,1]\n",
    "        }\n",
    "    },\n",
    "    {\n",
    "        \"model\": RandomForestClassifier(),\n",
    "        \"run_name\":\"random_forest\",\n",
    "        \"param_grid\":   {\n",
    "            \"n_estimators\": [50,100],\n",
    "            \"max_depth\": [4,8],\n",
    "            \"random_state\":[0,1]\n",
    "        }\n",
    "    },{\n",
    "        \"model\": KNeighborsClassifier(),\n",
    "        \"run_name\":\"knn\",\n",
    "        \"param_grid\":   {\n",
    "            \"n_neighbors\": [4,5],\n",
    "            \"algorithm\": ['auto','ball_tree','kd_tree']\n",
    "        }\n",
    "    }   \n",
    "]"
   ]
  },
  {
   "cell_type": "code",
   "execution_count": 11,
   "metadata": {},
   "outputs": [],
   "source": [
    "runs = runs_config[3:]"
   ]
  },
  {
   "cell_type": "code",
   "execution_count": 12,
   "metadata": {},
   "outputs": [
    {
     "name": "stdout",
     "output_type": "stream",
     "text": [
      "Train : knn\n",
      "Fitting 10 folds for each of 6 candidates, totalling 60 fits\n",
      "[CV] END ......................algorithm=auto, n_neighbors=4; total time=   1.4s\n",
      "[CV] END ......................algorithm=auto, n_neighbors=4; total time=   1.3s\n",
      "[CV] END ......................algorithm=auto, n_neighbors=4; total time=   1.2s\n",
      "[CV] END ......................algorithm=auto, n_neighbors=4; total time=   1.2s\n",
      "[CV] END ......................algorithm=auto, n_neighbors=4; total time=   1.3s\n",
      "[CV] END ......................algorithm=auto, n_neighbors=4; total time=   1.6s\n",
      "[CV] END ......................algorithm=auto, n_neighbors=4; total time=   1.6s\n",
      "[CV] END ......................algorithm=auto, n_neighbors=4; total time=   1.6s\n",
      "[CV] END ......................algorithm=auto, n_neighbors=4; total time=   1.6s\n",
      "[CV] END ......................algorithm=auto, n_neighbors=4; total time=   1.5s\n",
      "[CV] END ......................algorithm=auto, n_neighbors=5; total time=   1.6s\n",
      "[CV] END ......................algorithm=auto, n_neighbors=5; total time=   1.6s\n",
      "[CV] END ......................algorithm=auto, n_neighbors=5; total time=   1.6s\n",
      "[CV] END ......................algorithm=auto, n_neighbors=5; total time=   1.5s\n",
      "[CV] END ......................algorithm=auto, n_neighbors=5; total time=   1.6s\n",
      "[CV] END ......................algorithm=auto, n_neighbors=5; total time=   1.6s\n",
      "[CV] END ......................algorithm=auto, n_neighbors=5; total time=   1.5s\n",
      "[CV] END ......................algorithm=auto, n_neighbors=5; total time=   1.6s\n",
      "[CV] END ......................algorithm=auto, n_neighbors=5; total time=   1.7s\n",
      "[CV] END ......................algorithm=auto, n_neighbors=5; total time=   1.5s\n",
      "[CV] END .................algorithm=ball_tree, n_neighbors=4; total time=   3.5s\n",
      "[CV] END .................algorithm=ball_tree, n_neighbors=4; total time=   3.6s\n",
      "[CV] END .................algorithm=ball_tree, n_neighbors=4; total time=   3.8s\n",
      "[CV] END .................algorithm=ball_tree, n_neighbors=4; total time=   3.7s\n",
      "[CV] END .................algorithm=ball_tree, n_neighbors=4; total time=   3.7s\n",
      "[CV] END .................algorithm=ball_tree, n_neighbors=4; total time=   3.6s\n",
      "[CV] END .................algorithm=ball_tree, n_neighbors=4; total time=   3.6s\n",
      "[CV] END .................algorithm=ball_tree, n_neighbors=4; total time=   4.3s\n",
      "[CV] END .................algorithm=ball_tree, n_neighbors=4; total time=   4.9s\n",
      "[CV] END .................algorithm=ball_tree, n_neighbors=4; total time=   5.9s\n",
      "[CV] END .................algorithm=ball_tree, n_neighbors=5; total time=   5.0s\n",
      "[CV] END .................algorithm=ball_tree, n_neighbors=5; total time=   4.4s\n",
      "[CV] END .................algorithm=ball_tree, n_neighbors=5; total time=   3.9s\n",
      "[CV] END .................algorithm=ball_tree, n_neighbors=5; total time=   4.3s\n",
      "[CV] END .................algorithm=ball_tree, n_neighbors=5; total time=   4.1s\n",
      "[CV] END .................algorithm=ball_tree, n_neighbors=5; total time=   4.2s\n",
      "[CV] END .................algorithm=ball_tree, n_neighbors=5; total time=   4.8s\n",
      "[CV] END .................algorithm=ball_tree, n_neighbors=5; total time=   5.1s\n",
      "[CV] END .................algorithm=ball_tree, n_neighbors=5; total time=   4.7s\n",
      "[CV] END .................algorithm=ball_tree, n_neighbors=5; total time=   4.2s\n",
      "[CV] END ...................algorithm=kd_tree, n_neighbors=4; total time=   1.6s\n",
      "[CV] END ...................algorithm=kd_tree, n_neighbors=4; total time=   1.8s\n",
      "[CV] END ...................algorithm=kd_tree, n_neighbors=4; total time=   1.6s\n",
      "[CV] END ...................algorithm=kd_tree, n_neighbors=4; total time=   1.6s\n",
      "[CV] END ...................algorithm=kd_tree, n_neighbors=4; total time=   1.6s\n",
      "[CV] END ...................algorithm=kd_tree, n_neighbors=4; total time=   1.7s\n",
      "[CV] END ...................algorithm=kd_tree, n_neighbors=4; total time=   1.7s\n",
      "[CV] END ...................algorithm=kd_tree, n_neighbors=4; total time=   1.7s\n",
      "[CV] END ...................algorithm=kd_tree, n_neighbors=4; total time=   1.7s\n",
      "[CV] END ...................algorithm=kd_tree, n_neighbors=4; total time=   1.6s\n",
      "[CV] END ...................algorithm=kd_tree, n_neighbors=5; total time=   1.6s\n",
      "[CV] END ...................algorithm=kd_tree, n_neighbors=5; total time=   1.8s\n",
      "[CV] END ...................algorithm=kd_tree, n_neighbors=5; total time=   2.2s\n",
      "[CV] END ...................algorithm=kd_tree, n_neighbors=5; total time=   1.6s\n",
      "[CV] END ...................algorithm=kd_tree, n_neighbors=5; total time=   1.6s\n",
      "[CV] END ...................algorithm=kd_tree, n_neighbors=5; total time=   1.6s\n",
      "[CV] END ...................algorithm=kd_tree, n_neighbors=5; total time=   1.6s\n",
      "[CV] END ...................algorithm=kd_tree, n_neighbors=5; total time=   1.6s\n",
      "[CV] END ...................algorithm=kd_tree, n_neighbors=5; total time=   1.6s\n",
      "[CV] END ...................algorithm=kd_tree, n_neighbors=5; total time=   1.6s\n"
     ]
    },
    {
     "name": "stderr",
     "output_type": "stream",
     "text": [
      "Registered model 'vehicule_classifier_knn' already exists. Creating a new version of this model...\n",
      "2023/03/10 23:11:19 INFO mlflow.tracking._model_registry.client: Waiting up to 300 seconds for model version to finish creation.                     Model name: vehicule_classifier_knn, version 7\n",
      "Created version '7' of model 'vehicule_classifier_knn'.\n"
     ]
    }
   ],
   "source": [
    "for i, config in enumerate(runs):\n",
    "    print(\"Train :\",config[\"run_name\"])\n",
    "    with mlflow.start_run(run_name=config[\"run_name\"],experiment_id=experiment_id) as run:\n",
    "        model_run(config[\"model\"],config[\"run_name\"],config[\"param_grid\"],i,X_train,X_test, y_train, y_test)"
   ]
  }
 ],
 "metadata": {
  "kernelspec": {
   "display_name": "Python 3",
   "language": "python",
   "name": "python3"
  },
  "language_info": {
   "codemirror_mode": {
    "name": "ipython",
    "version": 3
   },
   "file_extension": ".py",
   "mimetype": "text/x-python",
   "name": "python",
   "nbconvert_exporter": "python",
   "pygments_lexer": "ipython3",
   "version": "3.10.10"
  },
  "orig_nbformat": 4
 },
 "nbformat": 4,
 "nbformat_minor": 2
}
