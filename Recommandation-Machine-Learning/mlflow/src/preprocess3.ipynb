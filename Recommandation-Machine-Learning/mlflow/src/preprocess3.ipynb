{
 "cells": [
  {
   "cell_type": "code",
   "execution_count": 1,
   "metadata": {},
   "outputs": [],
   "source": [
    "import configparser\n",
    "import pickle\n",
    "import pandas as pd\n",
    "from sklearn.model_selection import train_test_split\n",
    "from sklearn.compose import ColumnTransformer\n",
    "from sklearn import preprocessing"
   ]
  },
  {
   "cell_type": "code",
   "execution_count": 2,
   "metadata": {},
   "outputs": [],
   "source": [
    "config = configparser.ConfigParser()\n",
    "config.read('config3.ini')\n",
    "\n",
    "RANDOM_STATE = config.getint('Default', 'RANDOM_STATE')\n",
    "DIR_DATA = config.get('Paths', 'DIR_DATA')\n",
    "PATH_DATAFRAME = config.get('Paths', 'PATH_DATAFRAME')\n",
    "PATH_DATA_PREPROCESSOR = config.get('Paths', 'PATH_DATA_PREPROCESSOR')\n",
    "PATH_PROCESSED_DATA = config.get('Paths', 'PATH_PROCESSED_DATA')\n",
    "PATH_PROCESSED_SCHEMA = config.get('Paths', 'PATH_PROCESSED_SCHEMA')\n",
    "PATH_LABEL_DICT = config.get('Paths', 'PATH_LABEL_DICT')"
   ]
  },
  {
   "cell_type": "code",
   "execution_count": 3,
   "metadata": {},
   "outputs": [],
   "source": [
    "# Chargement des données\n",
    "data:pd.DataFrame\n",
    "with open(PATH_DATAFRAME,\"rb\") as file:\n",
    "    data = pickle.load(file)\n",
    "\n",
    "categories_map:dict\n",
    "with open(PATH_LABEL_DICT,\"rb\") as file:\n",
    "    categories_map = pickle.load(file)"
   ]
  },
  {
   "cell_type": "code",
   "execution_count": 4,
   "metadata": {},
   "outputs": [
    {
     "data": {
      "text/plain": [
       "{0: 'Citadine',\n",
       " 1: 'Haut de gamme',\n",
       " 2: 'Familliale',\n",
       " 3: 'Economique',\n",
       " 4: 'Moyen'}"
      ]
     },
     "execution_count": 4,
     "metadata": {},
     "output_type": "execute_result"
    }
   ],
   "source": [
    "categories_map"
   ]
  },
  {
   "cell_type": "code",
   "execution_count": 6,
   "metadata": {},
   "outputs": [
    {
     "data": {
      "text/html": [
       "<div>\n",
       "<style scoped>\n",
       "    .dataframe tbody tr th:only-of-type {\n",
       "        vertical-align: middle;\n",
       "    }\n",
       "\n",
       "    .dataframe tbody tr th {\n",
       "        vertical-align: top;\n",
       "    }\n",
       "\n",
       "    .dataframe thead th {\n",
       "        text-align: right;\n",
       "    }\n",
       "</style>\n",
       "<table border=\"1\" class=\"dataframe\">\n",
       "  <thead>\n",
       "    <tr style=\"text-align: right;\">\n",
       "      <th></th>\n",
       "      <th>age</th>\n",
       "      <th>sexe</th>\n",
       "      <th>taux</th>\n",
       "      <th>nbEnfantsAcharge</th>\n",
       "      <th>situationFamiliale</th>\n",
       "      <th>2emevoiture</th>\n",
       "      <th>categorie_label</th>\n",
       "      <th>categorie</th>\n",
       "    </tr>\n",
       "  </thead>\n",
       "  <tbody>\n",
       "    <tr>\n",
       "      <th>0</th>\n",
       "      <td>49</td>\n",
       "      <td>F</td>\n",
       "      <td>914</td>\n",
       "      <td>1</td>\n",
       "      <td>En Couple</td>\n",
       "      <td>False</td>\n",
       "      <td>2</td>\n",
       "      <td>Familliale</td>\n",
       "    </tr>\n",
       "    <tr>\n",
       "      <th>1</th>\n",
       "      <td>18</td>\n",
       "      <td>M</td>\n",
       "      <td>563</td>\n",
       "      <td>4</td>\n",
       "      <td>En Couple</td>\n",
       "      <td>False</td>\n",
       "      <td>1</td>\n",
       "      <td>Haut de gamme</td>\n",
       "    </tr>\n",
       "    <tr>\n",
       "      <th>2</th>\n",
       "      <td>82</td>\n",
       "      <td>M</td>\n",
       "      <td>417</td>\n",
       "      <td>0</td>\n",
       "      <td>Célibataire</td>\n",
       "      <td>False</td>\n",
       "      <td>3</td>\n",
       "      <td>Economique</td>\n",
       "    </tr>\n",
       "    <tr>\n",
       "      <th>3</th>\n",
       "      <td>72</td>\n",
       "      <td>M</td>\n",
       "      <td>442</td>\n",
       "      <td>4</td>\n",
       "      <td>En Couple</td>\n",
       "      <td>False</td>\n",
       "      <td>1</td>\n",
       "      <td>Haut de gamme</td>\n",
       "    </tr>\n",
       "    <tr>\n",
       "      <th>4</th>\n",
       "      <td>41</td>\n",
       "      <td>M</td>\n",
       "      <td>592</td>\n",
       "      <td>0</td>\n",
       "      <td>Célibataire</td>\n",
       "      <td>False</td>\n",
       "      <td>4</td>\n",
       "      <td>Moyen</td>\n",
       "    </tr>\n",
       "    <tr>\n",
       "      <th>5</th>\n",
       "      <td>54</td>\n",
       "      <td>M</td>\n",
       "      <td>438</td>\n",
       "      <td>0</td>\n",
       "      <td>En Couple</td>\n",
       "      <td>False</td>\n",
       "      <td>4</td>\n",
       "      <td>Moyen</td>\n",
       "    </tr>\n",
       "    <tr>\n",
       "      <th>6</th>\n",
       "      <td>30</td>\n",
       "      <td>F</td>\n",
       "      <td>736</td>\n",
       "      <td>1</td>\n",
       "      <td>En Couple</td>\n",
       "      <td>False</td>\n",
       "      <td>2</td>\n",
       "      <td>Familliale</td>\n",
       "    </tr>\n",
       "    <tr>\n",
       "      <th>7</th>\n",
       "      <td>56</td>\n",
       "      <td>M</td>\n",
       "      <td>1325</td>\n",
       "      <td>2</td>\n",
       "      <td>En Couple</td>\n",
       "      <td>False</td>\n",
       "      <td>1</td>\n",
       "      <td>Haut de gamme</td>\n",
       "    </tr>\n",
       "    <tr>\n",
       "      <th>8</th>\n",
       "      <td>73</td>\n",
       "      <td>M</td>\n",
       "      <td>532</td>\n",
       "      <td>0</td>\n",
       "      <td>Célibataire</td>\n",
       "      <td>False</td>\n",
       "      <td>3</td>\n",
       "      <td>Economique</td>\n",
       "    </tr>\n",
       "    <tr>\n",
       "      <th>9</th>\n",
       "      <td>31</td>\n",
       "      <td>M</td>\n",
       "      <td>206</td>\n",
       "      <td>0</td>\n",
       "      <td>En Couple</td>\n",
       "      <td>False</td>\n",
       "      <td>3</td>\n",
       "      <td>Economique</td>\n",
       "    </tr>\n",
       "  </tbody>\n",
       "</table>\n",
       "</div>"
      ],
      "text/plain": [
       "   age sexe  taux  nbEnfantsAcharge situationFamiliale  2emevoiture  \\\n",
       "0   49    F   914                 1          En Couple        False   \n",
       "1   18    M   563                 4          En Couple        False   \n",
       "2   82    M   417                 0        Célibataire        False   \n",
       "3   72    M   442                 4          En Couple        False   \n",
       "4   41    M   592                 0        Célibataire        False   \n",
       "5   54    M   438                 0          En Couple        False   \n",
       "6   30    F   736                 1          En Couple        False   \n",
       "7   56    M  1325                 2          En Couple        False   \n",
       "8   73    M   532                 0        Célibataire        False   \n",
       "9   31    M   206                 0          En Couple        False   \n",
       "\n",
       "   categorie_label      categorie  \n",
       "0                2     Familliale  \n",
       "1                1  Haut de gamme  \n",
       "2                3     Economique  \n",
       "3                1  Haut de gamme  \n",
       "4                4          Moyen  \n",
       "5                4          Moyen  \n",
       "6                2     Familliale  \n",
       "7                1  Haut de gamme  \n",
       "8                3     Economique  \n",
       "9                3     Economique  "
      ]
     },
     "execution_count": 6,
     "metadata": {},
     "output_type": "execute_result"
    }
   ],
   "source": [
    "data.head(10)"
   ]
  },
  {
   "cell_type": "code",
   "execution_count": 7,
   "metadata": {},
   "outputs": [
    {
     "data": {
      "text/plain": [
       "age                    int64\n",
       "sexe                  object\n",
       "taux                   int64\n",
       "nbEnfantsAcharge       int64\n",
       "situationFamiliale    object\n",
       "2emevoiture             bool\n",
       "categorie_label        int32\n",
       "categorie             object\n",
       "dtype: object"
      ]
     },
     "execution_count": 7,
     "metadata": {},
     "output_type": "execute_result"
    }
   ],
   "source": [
    "data.dtypes"
   ]
  },
  {
   "cell_type": "code",
   "execution_count": 8,
   "metadata": {},
   "outputs": [],
   "source": [
    "# Split des données\n",
    "X = data.drop(\"categorie_label\",axis=1)\n",
    "y = data[\"categorie_label\"]\n",
    "X_train, X_test, y_train, y_test = train_test_split(X, y, test_size=0.2, random_state=RANDOM_STATE)"
   ]
  },
  {
   "cell_type": "code",
   "execution_count": 9,
   "metadata": {},
   "outputs": [],
   "source": [
    "# Preprocessing des données\n",
    "categorical_features = [\"situationFamiliale\",\"2emevoiture\"]\n",
    "numeric_features = [\"taux\",\"nbEnfantsAcharge\",\"age\"]\n",
    "\n",
    "data_preprocessor = ColumnTransformer(\n",
    "    transformers=[\n",
    "        (\"onehot\", preprocessing.OneHotEncoder(), categorical_features),\n",
    "        (\"passthrough\", \"passthrough\", numeric_features),\n",
    "    ]\n",
    ")"
   ]
  },
  {
   "cell_type": "code",
   "execution_count": 10,
   "metadata": {},
   "outputs": [
    {
     "data": {
      "text/html": [
       "<style>#sk-container-id-1 {color: black;background-color: white;}#sk-container-id-1 pre{padding: 0;}#sk-container-id-1 div.sk-toggleable {background-color: white;}#sk-container-id-1 label.sk-toggleable__label {cursor: pointer;display: block;width: 100%;margin-bottom: 0;padding: 0.3em;box-sizing: border-box;text-align: center;}#sk-container-id-1 label.sk-toggleable__label-arrow:before {content: \"▸\";float: left;margin-right: 0.25em;color: #696969;}#sk-container-id-1 label.sk-toggleable__label-arrow:hover:before {color: black;}#sk-container-id-1 div.sk-estimator:hover label.sk-toggleable__label-arrow:before {color: black;}#sk-container-id-1 div.sk-toggleable__content {max-height: 0;max-width: 0;overflow: hidden;text-align: left;background-color: #f0f8ff;}#sk-container-id-1 div.sk-toggleable__content pre {margin: 0.2em;color: black;border-radius: 0.25em;background-color: #f0f8ff;}#sk-container-id-1 input.sk-toggleable__control:checked~div.sk-toggleable__content {max-height: 200px;max-width: 100%;overflow: auto;}#sk-container-id-1 input.sk-toggleable__control:checked~label.sk-toggleable__label-arrow:before {content: \"▾\";}#sk-container-id-1 div.sk-estimator input.sk-toggleable__control:checked~label.sk-toggleable__label {background-color: #d4ebff;}#sk-container-id-1 div.sk-label input.sk-toggleable__control:checked~label.sk-toggleable__label {background-color: #d4ebff;}#sk-container-id-1 input.sk-hidden--visually {border: 0;clip: rect(1px 1px 1px 1px);clip: rect(1px, 1px, 1px, 1px);height: 1px;margin: -1px;overflow: hidden;padding: 0;position: absolute;width: 1px;}#sk-container-id-1 div.sk-estimator {font-family: monospace;background-color: #f0f8ff;border: 1px dotted black;border-radius: 0.25em;box-sizing: border-box;margin-bottom: 0.5em;}#sk-container-id-1 div.sk-estimator:hover {background-color: #d4ebff;}#sk-container-id-1 div.sk-parallel-item::after {content: \"\";width: 100%;border-bottom: 1px solid gray;flex-grow: 1;}#sk-container-id-1 div.sk-label:hover label.sk-toggleable__label {background-color: #d4ebff;}#sk-container-id-1 div.sk-serial::before {content: \"\";position: absolute;border-left: 1px solid gray;box-sizing: border-box;top: 0;bottom: 0;left: 50%;z-index: 0;}#sk-container-id-1 div.sk-serial {display: flex;flex-direction: column;align-items: center;background-color: white;padding-right: 0.2em;padding-left: 0.2em;position: relative;}#sk-container-id-1 div.sk-item {position: relative;z-index: 1;}#sk-container-id-1 div.sk-parallel {display: flex;align-items: stretch;justify-content: center;background-color: white;position: relative;}#sk-container-id-1 div.sk-item::before, #sk-container-id-1 div.sk-parallel-item::before {content: \"\";position: absolute;border-left: 1px solid gray;box-sizing: border-box;top: 0;bottom: 0;left: 50%;z-index: -1;}#sk-container-id-1 div.sk-parallel-item {display: flex;flex-direction: column;z-index: 1;position: relative;background-color: white;}#sk-container-id-1 div.sk-parallel-item:first-child::after {align-self: flex-end;width: 50%;}#sk-container-id-1 div.sk-parallel-item:last-child::after {align-self: flex-start;width: 50%;}#sk-container-id-1 div.sk-parallel-item:only-child::after {width: 0;}#sk-container-id-1 div.sk-dashed-wrapped {border: 1px dashed gray;margin: 0 0.4em 0.5em 0.4em;box-sizing: border-box;padding-bottom: 0.4em;background-color: white;}#sk-container-id-1 div.sk-label label {font-family: monospace;font-weight: bold;display: inline-block;line-height: 1.2em;}#sk-container-id-1 div.sk-label-container {text-align: center;}#sk-container-id-1 div.sk-container {/* jupyter's `normalize.less` sets `[hidden] { display: none; }` but bootstrap.min.css set `[hidden] { display: none !important; }` so we also need the `!important` here to be able to override the default hidden behavior on the sphinx rendered scikit-learn.org. See: https://github.com/scikit-learn/scikit-learn/issues/21755 */display: inline-block !important;position: relative;}#sk-container-id-1 div.sk-text-repr-fallback {display: none;}</style><div id=\"sk-container-id-1\" class=\"sk-top-container\"><div class=\"sk-text-repr-fallback\"><pre>ColumnTransformer(transformers=[(&#x27;onehot&#x27;, OneHotEncoder(),\n",
       "                                 [&#x27;situationFamiliale&#x27;, &#x27;2emevoiture&#x27;]),\n",
       "                                (&#x27;passthrough&#x27;, &#x27;passthrough&#x27;,\n",
       "                                 [&#x27;taux&#x27;, &#x27;nbEnfantsAcharge&#x27;, &#x27;age&#x27;])])</pre><b>In a Jupyter environment, please rerun this cell to show the HTML representation or trust the notebook. <br />On GitHub, the HTML representation is unable to render, please try loading this page with nbviewer.org.</b></div><div class=\"sk-container\" hidden><div class=\"sk-item sk-dashed-wrapped\"><div class=\"sk-label-container\"><div class=\"sk-label sk-toggleable\"><input class=\"sk-toggleable__control sk-hidden--visually\" id=\"sk-estimator-id-1\" type=\"checkbox\" ><label for=\"sk-estimator-id-1\" class=\"sk-toggleable__label sk-toggleable__label-arrow\">ColumnTransformer</label><div class=\"sk-toggleable__content\"><pre>ColumnTransformer(transformers=[(&#x27;onehot&#x27;, OneHotEncoder(),\n",
       "                                 [&#x27;situationFamiliale&#x27;, &#x27;2emevoiture&#x27;]),\n",
       "                                (&#x27;passthrough&#x27;, &#x27;passthrough&#x27;,\n",
       "                                 [&#x27;taux&#x27;, &#x27;nbEnfantsAcharge&#x27;, &#x27;age&#x27;])])</pre></div></div></div><div class=\"sk-parallel\"><div class=\"sk-parallel-item\"><div class=\"sk-item\"><div class=\"sk-label-container\"><div class=\"sk-label sk-toggleable\"><input class=\"sk-toggleable__control sk-hidden--visually\" id=\"sk-estimator-id-2\" type=\"checkbox\" ><label for=\"sk-estimator-id-2\" class=\"sk-toggleable__label sk-toggleable__label-arrow\">onehot</label><div class=\"sk-toggleable__content\"><pre>[&#x27;situationFamiliale&#x27;, &#x27;2emevoiture&#x27;]</pre></div></div></div><div class=\"sk-serial\"><div class=\"sk-item\"><div class=\"sk-estimator sk-toggleable\"><input class=\"sk-toggleable__control sk-hidden--visually\" id=\"sk-estimator-id-3\" type=\"checkbox\" ><label for=\"sk-estimator-id-3\" class=\"sk-toggleable__label sk-toggleable__label-arrow\">OneHotEncoder</label><div class=\"sk-toggleable__content\"><pre>OneHotEncoder()</pre></div></div></div></div></div></div><div class=\"sk-parallel-item\"><div class=\"sk-item\"><div class=\"sk-label-container\"><div class=\"sk-label sk-toggleable\"><input class=\"sk-toggleable__control sk-hidden--visually\" id=\"sk-estimator-id-4\" type=\"checkbox\" ><label for=\"sk-estimator-id-4\" class=\"sk-toggleable__label sk-toggleable__label-arrow\">passthrough</label><div class=\"sk-toggleable__content\"><pre>[&#x27;taux&#x27;, &#x27;nbEnfantsAcharge&#x27;, &#x27;age&#x27;]</pre></div></div></div><div class=\"sk-serial\"><div class=\"sk-item\"><div class=\"sk-estimator sk-toggleable\"><input class=\"sk-toggleable__control sk-hidden--visually\" id=\"sk-estimator-id-5\" type=\"checkbox\" ><label for=\"sk-estimator-id-5\" class=\"sk-toggleable__label sk-toggleable__label-arrow\">passthrough</label><div class=\"sk-toggleable__content\"><pre>passthrough</pre></div></div></div></div></div></div></div></div></div></div>"
      ],
      "text/plain": [
       "ColumnTransformer(transformers=[('onehot', OneHotEncoder(),\n",
       "                                 ['situationFamiliale', '2emevoiture']),\n",
       "                                ('passthrough', 'passthrough',\n",
       "                                 ['taux', 'nbEnfantsAcharge', 'age'])])"
      ]
     },
     "execution_count": 10,
     "metadata": {},
     "output_type": "execute_result"
    }
   ],
   "source": [
    "data_preprocessor.fit(X_train)"
   ]
  },
  {
   "cell_type": "code",
   "execution_count": 11,
   "metadata": {},
   "outputs": [],
   "source": [
    "X_train_transformed = data_preprocessor.transform(X_train)\n",
    "X_test_transformed = data_preprocessor.transform(X_test)"
   ]
  },
  {
   "cell_type": "code",
   "execution_count": 12,
   "metadata": {},
   "outputs": [],
   "source": [
    "# Enregistrement de l'objet data_preprocessor\n",
    "with open(PATH_DATA_PREPROCESSOR, 'wb') as file:\n",
    "    pickle.dump(data_preprocessor, file)\n",
    "\n",
    "# Enregistrenement des données prétraitées\n",
    "with open(PATH_PROCESSED_DATA, 'wb') as file:\n",
    "    pickle.dump((X_train_transformed, X_test_transformed, y_train, y_test), file)\n",
    "\n",
    "schema = {\n",
    "    \"features_names\" : {\n",
    "        \"categorical\":categorical_features,\n",
    "        \"numeric\":numeric_features\n",
    "    },\n",
    "    \"categories_map\" : categories_map\n",
    "}\n",
    "\n",
    "# Enregistrement des categorical_features et numeric_features\n",
    "with open(PATH_PROCESSED_SCHEMA, 'wb') as file:\n",
    "    pickle.dump(schema, file)"
   ]
  }
 ],
 "metadata": {
  "kernelspec": {
   "display_name": "Python 3",
   "language": "python",
   "name": "python3"
  },
  "language_info": {
   "codemirror_mode": {
    "name": "ipython",
    "version": 3
   },
   "file_extension": ".py",
   "mimetype": "text/x-python",
   "name": "python",
   "nbconvert_exporter": "python",
   "pygments_lexer": "ipython3",
   "version": "3.10.10"
  },
  "orig_nbformat": 4
 },
 "nbformat": 4,
 "nbformat_minor": 2
}
