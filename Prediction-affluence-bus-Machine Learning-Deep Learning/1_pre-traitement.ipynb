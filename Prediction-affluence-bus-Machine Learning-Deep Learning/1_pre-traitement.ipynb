{
 "cells": [
  {
   "cell_type": "code",
   "execution_count": 1,
   "id": "b40ff099-a956-42ca-8313-eaf2dcb30d80",
   "metadata": {
    "tags": []
   },
   "outputs": [],
   "source": [
    "import pandas as pd\n",
    "import seaborn as sns\n",
    "import matplotlib.pyplot as plt "
   ]
  },
  {
   "cell_type": "markdown",
   "id": "2f03cb5f-3338-445f-9af9-ee86b521d1c9",
   "metadata": {},
   "source": [
    "# Pré-traitement"
   ]
  },
  {
   "cell_type": "markdown",
   "id": "6531a41c-391d-44b0-9cd1-110146b09040",
   "metadata": {
    "tags": []
   },
   "source": [
    "## Chargement des données"
   ]
  },
  {
   "cell_type": "code",
   "execution_count": 2,
   "id": "26c854d8-f8f4-49f2-9df6-f7ec3e05248d",
   "metadata": {
    "tags": []
   },
   "outputs": [
    {
     "data": {
      "text/plain": [
       "(36901, 4)"
      ]
     },
     "execution_count": 2,
     "metadata": {},
     "output_type": "execute_result"
    }
   ],
   "source": [
    "data_bus = pd.read_csv(\"data_estia_bihar_passagers.csv\",parse_dates=['dateTime']).sort_values(\"dateTime\")\n",
    "data_bus.shape"
   ]
  },
  {
   "cell_type": "code",
   "execution_count": 3,
   "id": "c4830fe5-4ee1-48cb-a19a-eabc2b98529e",
   "metadata": {
    "tags": []
   },
   "outputs": [
    {
     "data": {
      "text/plain": [
       "dateTime            datetime64[ns]\n",
       "passengersNumber           float64\n",
       "line                        object\n",
       "lineType                    object\n",
       "dtype: object"
      ]
     },
     "execution_count": 3,
     "metadata": {},
     "output_type": "execute_result"
    }
   ],
   "source": [
    "data_bus.dtypes"
   ]
  },
  {
   "cell_type": "markdown",
   "id": "a476cd99-d323-4a00-b93f-3f6d623b582c",
   "metadata": {
    "tags": []
   },
   "source": [
    "## Vérification des valeurs manquantes et doublons"
   ]
  },
  {
   "cell_type": "code",
   "execution_count": 4,
   "id": "7790214b-a22f-46fd-b72d-77c52c2eb838",
   "metadata": {
    "tags": []
   },
   "outputs": [
    {
     "name": "stdout",
     "output_type": "stream",
     "text": [
      "Il y'a 0 valeur(s) manquante(s)\n"
     ]
    }
   ],
   "source": [
    "# Vérification de l'existence de valeurs manquantes\n",
    "n_missval = data_bus.isnull().any(axis=1).sum()\n",
    "print(f\"Il y'a {n_missval} valeur(s) manquante(s)\")"
   ]
  },
  {
   "cell_type": "code",
   "execution_count": 5,
   "id": "2ef1e870-02cb-445a-a98d-560afc937ca6",
   "metadata": {
    "tags": []
   },
   "outputs": [
    {
     "name": "stdout",
     "output_type": "stream",
     "text": [
      "Il y'a 58 doublon(s)\n"
     ]
    }
   ],
   "source": [
    "# Vérification de l'existence des doublons\n",
    "n_dbl = data_bus.duplicated([\"dateTime\",\"line\",\"lineType\"]).sum()\n",
    "print(f\"Il y'a {n_dbl} doublon(s)\")"
   ]
  },
  {
   "cell_type": "code",
   "execution_count": 6,
   "id": "0a96b200-0b44-47fa-b44e-10f4cbe23665",
   "metadata": {
    "tags": []
   },
   "outputs": [
    {
     "name": "stdout",
     "output_type": "stream",
     "text": [
      "Il y'a 0 doublons\n",
      "Il y'a 36843 observations après suppression des doublons\n"
     ]
    }
   ],
   "source": [
    "# Suppression des doublons\n",
    "data_bus2 = data_bus.drop_duplicates([\"dateTime\",\"line\",\"lineType\"])\n",
    "n_dbl = data_bus2.duplicated([\"dateTime\",\"line\",\"lineType\"]).sum()\n",
    "print(f\"Il y'a {n_dbl} doublons\")\n",
    "print(f\"Il y'a {data_bus2.shape[0]} observations après suppression des doublons\")"
   ]
  },
  {
   "cell_type": "markdown",
   "id": "ff3c2655-55e6-4a66-b3ad-6cb1532c7b4d",
   "metadata": {
    "tags": []
   },
   "source": [
    "## Vérification et correction des types de données"
   ]
  },
  {
   "cell_type": "code",
   "execution_count": 7,
   "id": "252072e0-b308-4699-86bc-850c07533f39",
   "metadata": {
    "tags": []
   },
   "outputs": [
    {
     "data": {
      "text/plain": [
       "dateTime            datetime64[ns]\n",
       "passengersNumber           float64\n",
       "line                        object\n",
       "lineType                    object\n",
       "dtype: object"
      ]
     },
     "execution_count": 7,
     "metadata": {},
     "output_type": "execute_result"
    }
   ],
   "source": [
    "data_bus2.dtypes"
   ]
  },
  {
   "cell_type": "markdown",
   "id": "45d55f88-a7f3-41e3-9a7a-710634f09fc3",
   "metadata": {},
   "source": [
    "## Ajout des données supplémentaires"
   ]
  },
  {
   "cell_type": "markdown",
   "id": "74ab3bec-f34a-48d3-be50-3c5c41b3e1bd",
   "metadata": {},
   "source": [
    "### Méteo"
   ]
  },
  {
   "cell_type": "code",
   "execution_count": 8,
   "id": "bc3c6240-0d79-4982-a1fe-5dd56319aea6",
   "metadata": {
    "tags": []
   },
   "outputs": [],
   "source": [
    "data_meteo_2019 = pd.read_csv(\"data/meteo/export-saint-sebastien2019.csv\",parse_dates=['DATE'])\n",
    "data_meteo_2020 = pd.read_csv(\"data/meteo/export-saint-sebastien2020.csv\",parse_dates=['DATE'])\n",
    "data_meteo_2021 = pd.read_csv(\"data/meteo/export-saint-sebastien2021.csv\",parse_dates=['DATE'])\n",
    "data_meteo_2022 = pd.read_csv(\"data/meteo/export-saint-sebastien2022.csv\",parse_dates=['DATE'])\n",
    "data_meteo_2023 = pd.read_csv(\"data/meteo/export-saint-sebastien2023.csv\",parse_dates=['DATE'])"
   ]
  },
  {
   "cell_type": "code",
   "execution_count": 9,
   "id": "180e0eed-e46c-4064-8e5e-83b0179235c8",
   "metadata": {
    "tags": []
   },
   "outputs": [],
   "source": [
    "# Concaténation des données méteo\n",
    "data_meteo_2019_2023 = pd.concat([data_meteo_2019,data_meteo_2020,data_meteo_2021,data_meteo_2022,data_meteo_2023])\n",
    "x = pd.merge(data_bus2,data_meteo_2019_2023,left_on='dateTime', right_on='DATE',how=\"left\")"
   ]
  },
  {
   "cell_type": "markdown",
   "id": "a7614a02-3fdd-4f04-b1e1-fb9eadaf14c1",
   "metadata": {
    "tags": []
   },
   "source": [
    "x[x.DATE.isnull()].head(5)"
   ]
  },
  {
   "cell_type": "markdown",
   "id": "f9a4cb41-d0a9-4703-ab91-433c32840f4a",
   "metadata": {},
   "source": [
    "Il manque les données méteo du mois de mars 2023. On va utiliser majoré les données sur les données de mars au niveau l'opinion sur le temps qui était \"météo correcte\""
   ]
  },
  {
   "cell_type": "code",
   "execution_count": 10,
   "id": "0b4e6d3a-ccde-42b4-a4a1-39aa98440c6f",
   "metadata": {
    "tags": []
   },
   "outputs": [],
   "source": [
    "x.loc[x.DATE.isnull(),\"OPINION\"] = \"météo correcte\""
   ]
  },
  {
   "cell_type": "code",
   "execution_count": 11,
   "id": "8c71cdc9-2104-4d42-bebd-ff658920a4e8",
   "metadata": {
    "tags": []
   },
   "outputs": [
    {
     "data": {
      "text/plain": [
       "(273, 29)"
      ]
     },
     "execution_count": 11,
     "metadata": {},
     "output_type": "execute_result"
    }
   ],
   "source": [
    "x[x.DATE.isnull()].shape"
   ]
  },
  {
   "cell_type": "markdown",
   "id": "f7568138-a1d3-4c72-b76a-c8d1846ec924",
   "metadata": {},
   "source": [
    "On va conserver les données avec l'opinion sur la méteo"
   ]
  },
  {
   "cell_type": "code",
   "execution_count": 12,
   "id": "45e6dfa5-cd70-42a8-9260-07020ad4478b",
   "metadata": {
    "tags": []
   },
   "outputs": [],
   "source": [
    "data_bus3 = x.copy()[[\"dateTime\",\"passengersNumber\",\"line\",\"lineType\",\"OPINION\"]]"
   ]
  },
  {
   "cell_type": "code",
   "execution_count": 13,
   "id": "ea4e3dd8-34b9-4333-bc30-05d383972ee5",
   "metadata": {
    "tags": []
   },
   "outputs": [],
   "source": [
    "data_bus3.rename({\n",
    "    \"OPINION\":\"meteo_status\"\n",
    "},inplace=True,axis=1)"
   ]
  },
  {
   "cell_type": "code",
   "execution_count": 14,
   "id": "b57e8409-feb6-4bb7-8c3f-fec5b67005f0",
   "metadata": {
    "tags": []
   },
   "outputs": [
    {
     "data": {
      "text/html": [
       "<div>\n",
       "<style scoped>\n",
       "    .dataframe tbody tr th:only-of-type {\n",
       "        vertical-align: middle;\n",
       "    }\n",
       "\n",
       "    .dataframe tbody tr th {\n",
       "        vertical-align: top;\n",
       "    }\n",
       "\n",
       "    .dataframe thead th {\n",
       "        text-align: right;\n",
       "    }\n",
       "</style>\n",
       "<table border=\"1\" class=\"dataframe\">\n",
       "  <thead>\n",
       "    <tr style=\"text-align: right;\">\n",
       "      <th></th>\n",
       "      <th>dateTime</th>\n",
       "      <th>passengersNumber</th>\n",
       "      <th>line</th>\n",
       "      <th>lineType</th>\n",
       "      <th>meteo_status</th>\n",
       "    </tr>\n",
       "  </thead>\n",
       "  <tbody>\n",
       "    <tr>\n",
       "      <th>0</th>\n",
       "      <td>2019-04-05</td>\n",
       "      <td>418.0</td>\n",
       "      <td>42</td>\n",
       "      <td>daily</td>\n",
       "      <td>météo défavorable</td>\n",
       "    </tr>\n",
       "    <tr>\n",
       "      <th>1</th>\n",
       "      <td>2019-04-05</td>\n",
       "      <td>1000.0</td>\n",
       "      <td>16</td>\n",
       "      <td>daily</td>\n",
       "      <td>météo défavorable</td>\n",
       "    </tr>\n",
       "    <tr>\n",
       "      <th>2</th>\n",
       "      <td>2019-04-05</td>\n",
       "      <td>113.0</td>\n",
       "      <td>B6</td>\n",
       "      <td>night</td>\n",
       "      <td>météo défavorable</td>\n",
       "    </tr>\n",
       "    <tr>\n",
       "      <th>3</th>\n",
       "      <td>2019-04-05</td>\n",
       "      <td>3032.0</td>\n",
       "      <td>29</td>\n",
       "      <td>daily</td>\n",
       "      <td>météo défavorable</td>\n",
       "    </tr>\n",
       "    <tr>\n",
       "      <th>4</th>\n",
       "      <td>2019-04-05</td>\n",
       "      <td>4016.0</td>\n",
       "      <td>25</td>\n",
       "      <td>daily</td>\n",
       "      <td>météo défavorable</td>\n",
       "    </tr>\n",
       "    <tr>\n",
       "      <th>...</th>\n",
       "      <td>...</td>\n",
       "      <td>...</td>\n",
       "      <td>...</td>\n",
       "      <td>...</td>\n",
       "      <td>...</td>\n",
       "    </tr>\n",
       "    <tr>\n",
       "      <th>36838</th>\n",
       "      <td>2023-03-08</td>\n",
       "      <td>2401.0</td>\n",
       "      <td>19</td>\n",
       "      <td>daily</td>\n",
       "      <td>météo correcte</td>\n",
       "    </tr>\n",
       "    <tr>\n",
       "      <th>36839</th>\n",
       "      <td>2023-03-08</td>\n",
       "      <td>1162.0</td>\n",
       "      <td>41</td>\n",
       "      <td>daily</td>\n",
       "      <td>météo correcte</td>\n",
       "    </tr>\n",
       "    <tr>\n",
       "      <th>36840</th>\n",
       "      <td>2023-03-08</td>\n",
       "      <td>1445.0</td>\n",
       "      <td>21</td>\n",
       "      <td>daily</td>\n",
       "      <td>météo correcte</td>\n",
       "    </tr>\n",
       "    <tr>\n",
       "      <th>36841</th>\n",
       "      <td>2023-03-08</td>\n",
       "      <td>905.0</td>\n",
       "      <td>23</td>\n",
       "      <td>daily</td>\n",
       "      <td>météo correcte</td>\n",
       "    </tr>\n",
       "    <tr>\n",
       "      <th>36842</th>\n",
       "      <td>2023-03-08</td>\n",
       "      <td>0.0</td>\n",
       "      <td>B10</td>\n",
       "      <td>night</td>\n",
       "      <td>météo correcte</td>\n",
       "    </tr>\n",
       "  </tbody>\n",
       "</table>\n",
       "<p>36843 rows × 5 columns</p>\n",
       "</div>"
      ],
      "text/plain": [
       "        dateTime  passengersNumber line lineType       meteo_status\n",
       "0     2019-04-05             418.0   42    daily  météo défavorable\n",
       "1     2019-04-05            1000.0   16    daily  météo défavorable\n",
       "2     2019-04-05             113.0   B6    night  météo défavorable\n",
       "3     2019-04-05            3032.0   29    daily  météo défavorable\n",
       "4     2019-04-05            4016.0   25    daily  météo défavorable\n",
       "...          ...               ...  ...      ...                ...\n",
       "36838 2023-03-08            2401.0   19    daily     météo correcte\n",
       "36839 2023-03-08            1162.0   41    daily     météo correcte\n",
       "36840 2023-03-08            1445.0   21    daily     météo correcte\n",
       "36841 2023-03-08             905.0   23    daily     météo correcte\n",
       "36842 2023-03-08               0.0  B10    night     météo correcte\n",
       "\n",
       "[36843 rows x 5 columns]"
      ]
     },
     "execution_count": 14,
     "metadata": {},
     "output_type": "execute_result"
    }
   ],
   "source": [
    "data_bus3"
   ]
  },
  {
   "cell_type": "code",
   "execution_count": 15,
   "id": "69bcf972-1149-40ca-a062-86d8218f0356",
   "metadata": {
    "tags": []
   },
   "outputs": [],
   "source": [
    "data_bus3.to_csv(\"data_processed/data_w_meteo.csv\",index=False)"
   ]
  },
  {
   "cell_type": "code",
   "execution_count": null,
   "id": "7def7fb7-ec02-465e-bca6-9ccfdb0f4aee",
   "metadata": {},
   "outputs": [],
   "source": []
  }
 ],
 "metadata": {
  "kernelspec": {
   "display_name": "Python 3 (ipykernel)",
   "language": "python",
   "name": "python3"
  },
  "language_info": {
   "codemirror_mode": {
    "name": "ipython",
    "version": 3
   },
   "file_extension": ".py",
   "mimetype": "text/x-python",
   "name": "python",
   "nbconvert_exporter": "python",
   "pygments_lexer": "ipython3",
   "version": "3.10.10"
  }
 },
 "nbformat": 4,
 "nbformat_minor": 5
}
